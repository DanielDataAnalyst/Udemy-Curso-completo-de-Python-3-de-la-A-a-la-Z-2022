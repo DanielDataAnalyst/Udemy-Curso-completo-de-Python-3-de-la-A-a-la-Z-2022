{
  "nbformat": 4,
  "nbformat_minor": 0,
  "metadata": {
    "colab": {
      "provenance": []
    },
    "kernelspec": {
      "name": "python3",
      "display_name": "Python 3"
    },
    "language_info": {
      "name": "python"
    }
  },
  "cells": [
    {
      "cell_type": "markdown",
      "source": [
        "Ejercicio 1\n",
        "\n",
        "Dado un número entero introducido por teclado, guarda sus divisores en un conjunto y muéstralo."
      ],
      "metadata": {
        "id": "5PklnmrTN-XG"
      }
    },
    {
      "cell_type": "code",
      "execution_count": null,
      "metadata": {
        "colab": {
          "base_uri": "https://localhost:8080/"
        },
        "id": "reiVmXOuPjs2",
        "outputId": "5466269a-7013-47ce-8ac2-10c9ce0d8691"
      },
      "outputs": [
        {
          "output_type": "stream",
          "name": "stdout",
          "text": [
            "Introduzca un numero entero: 45612312\n",
            "{1, 2, 3, 4, 7602052, 6, 8, 2400648, 138, 15204104, 12, 22806156, 165262, 19, 276, 23, 24, 152, 45612312, 330524, 1311, 5701539, 38, 552, 3496, 495786, 1983144, 46, 300081, 437, 184, 57, 104376, 100027, 661048, 2622, 3801026, 1200324, 69, 11403078, 82631, 456, 76, 1748, 247893, 991572, 800216, 92, 52188, 1900513, 600162, 228, 34792, 874, 400108, 26094, 114, 17396, 200054, 13047, 10488, 8698, 5244, 4349}\n"
          ]
        }
      ],
      "source": [
        "n =  int(input(\"Introduzca un numero entero: \"))\n",
        "C = set()\n",
        "\n",
        "for i in range(n):\n",
        "  if n % (i+1) == 0:\n",
        "    C.add(i+1)\n",
        "\n",
        "print(C)"
      ]
    },
    {
      "cell_type": "markdown",
      "source": [
        "Ejercicio 2\n",
        "\n",
        "Crea un programa que dado un conjunto, nos devuelva su mínimo. Debes hacerlo sin recurrir a la función min()."
      ],
      "metadata": {
        "id": "JbKFvdXvOAuz"
      }
    },
    {
      "cell_type": "code",
      "source": [
        "numeros = {50,20,80,60,82,25,85}\n",
        "min = 999999999\n",
        "\n",
        "for i in numeros:\n",
        "  if i < min:\n",
        "    min = i\n",
        " \n",
        "print(min)"
      ],
      "metadata": {
        "colab": {
          "base_uri": "https://localhost:8080/"
        },
        "id": "Rav0TEBZfOsw",
        "outputId": "7bf5d653-09a4-4b79-edb3-77d5fcedbc82"
      },
      "execution_count": null,
      "outputs": [
        {
          "output_type": "stream",
          "name": "stdout",
          "text": [
            "20\n"
          ]
        }
      ]
    },
    {
      "cell_type": "markdown",
      "source": [
        "Ejercicio 3\n",
        "\n",
        "Dada una frase introducida por teclado, guarda en un conjunto todas las palabras que empiecen por la letra indicada por el usuario."
      ],
      "metadata": {
        "id": "ZrYvFyrNOEqj"
      }
    },
    {
      "cell_type": "code",
      "source": [
        "frase = input(\"Introduzca una frase: \")\n",
        "frase = frase.lower()\n",
        "letra = input(\"Introduzca una letra: \")\n",
        "letra = letra.lower()\n",
        "palabras = set()\n",
        "words = frase.split(\" \")\n",
        "\n",
        "for w in words:\n",
        "  if w.startswith(letra):\n",
        "    palabras.add(w)\n",
        "\n",
        "print(palabras)"
      ],
      "metadata": {
        "colab": {
          "base_uri": "https://localhost:8080/"
        },
        "id": "L4qJX7KAhbtJ",
        "outputId": "d49c6ed1-25a3-48c4-e063-711293c7fa6f"
      },
      "execution_count": null,
      "outputs": [
        {
          "output_type": "stream",
          "name": "stdout",
          "text": [
            "Introduzca una frase: Pancha plancha con 4 planchas\n",
            "Introduzca una letra: p\n",
            "{'pancha', 'planchas', 'plancha'}\n"
          ]
        }
      ]
    },
    {
      "cell_type": "markdown",
      "source": [
        "Ejercicio 4\n",
        "\n",
        "Dado un conjunto, crea un programa que nos devuelva el caracter con mayor valor ASCII. Debes hacerlo sin recurrir a la función max()."
      ],
      "metadata": {
        "id": "d57okRvTOImj"
      }
    },
    {
      "cell_type": "code",
      "source": [
        "elementos = {\"A\", 5, \"!\", 7, \"@\", \"#\", \"?\", 9}\n",
        "max = -999999\n",
        "\n",
        "for e in elementos:\n",
        "  if ord(str(e)) > max:\n",
        "    max = ord(str(e))\n",
        "\n",
        "print(max)\n",
        "\n"
      ],
      "metadata": {
        "colab": {
          "base_uri": "https://localhost:8080/"
        },
        "id": "Ok9UCPL-0MCI",
        "outputId": "ef76d98a-0919-41fb-84a7-a08c1f6855db"
      },
      "execution_count": null,
      "outputs": [
        {
          "output_type": "stream",
          "name": "stdout",
          "text": [
            "65\n"
          ]
        }
      ]
    },
    {
      "cell_type": "markdown",
      "source": [
        "Ejercicio 5\n",
        "\n",
        "Dado un conjunto, crea un programa que nos devuelva el caracter con menor valor ASCII. Debes hacerlo sin recurrir a la función min()."
      ],
      "metadata": {
        "id": "Ea55y_P0OMGb"
      }
    },
    {
      "cell_type": "code",
      "source": [
        "elementos = {\"A\", 5, \"!\", 7, \"@\", \"#\", \"?\", 9}\n",
        "min = 999999\n",
        "\n",
        "for e in elementos:\n",
        "  if ord(str(e)) < min:\n",
        "    min = ord(str(e))\n",
        "\n",
        "print(min)"
      ],
      "metadata": {
        "colab": {
          "base_uri": "https://localhost:8080/"
        },
        "id": "jkO4TnYU4dR3",
        "outputId": "829a75e2-54e1-4521-e4c5-306579a238a3"
      },
      "execution_count": null,
      "outputs": [
        {
          "output_type": "stream",
          "name": "stdout",
          "text": [
            "33\n"
          ]
        }
      ]
    },
    {
      "cell_type": "markdown",
      "source": [
        "Ejercicio 6\n",
        "\n",
        "Dada una frase introducida por teclado, guarda en un conjunto todas las palabras que contengan la letra indicada por el usuario."
      ],
      "metadata": {
        "id": "aNE5lfS2ORMu"
      }
    },
    {
      "cell_type": "code",
      "source": [
        "s = input(\"Introduzca una frase: \")\n",
        "s = s.lower()\n",
        "letter = input(\"Introduzca una letra: \")\n",
        "letter = letter.lower()\n",
        "palabras = set()\n",
        "words = s.split(\" \")\n",
        "\n",
        "for w in words:\n",
        "  if w.find(letter) > 0:\n",
        "    palabras.add(w)\n",
        "\n",
        "print(palabras)"
      ],
      "metadata": {
        "colab": {
          "base_uri": "https://localhost:8080/"
        },
        "id": "GIZCAG39Qw65",
        "outputId": "4edb5ebe-aff9-478a-df85-7f3455098f0c"
      },
      "execution_count": null,
      "outputs": [
        {
          "output_type": "stream",
          "name": "stdout",
          "text": [
            "Introduzca una frase: la naranja se pico\n",
            "Introduzca una letra: a\n",
            "{'la', 'naranja'}\n"
          ]
        }
      ]
    },
    {
      "cell_type": "markdown",
      "source": [
        "Ejercicio 7\n",
        "\n",
        "Dada una frase introducida por teclado, guarda en un conjunto la primera letra de cada palabra sin hacer uso del método .split()."
      ],
      "metadata": {
        "id": "BjfdGHcCOU5W"
      }
    },
    {
      "cell_type": "code",
      "source": [
        "s = input(\"Introduzca una frase: \")\n",
        "s = s.lower()\n",
        "palabras = set()\n",
        "letras = []\n",
        "\n",
        "for i in s:\n",
        "  letras.append(i)\n",
        "  palabras.add(letras[0])\n",
        "for j in range(len(letras)):\n",
        "  if letras[j] == \" \":\n",
        "    palabras.add(letras[j+1])\n",
        "       \n",
        "print(palabras)"
      ],
      "metadata": {
        "colab": {
          "base_uri": "https://localhost:8080/"
        },
        "id": "fWGOAMAfdEL-",
        "outputId": "2192af1b-8aed-49a1-d899-61d1eb29064a"
      },
      "execution_count": null,
      "outputs": [
        {
          "output_type": "stream",
          "name": "stdout",
          "text": [
            "Introduzca una frase: la naranaja se pico\n",
            "{'l', 's', 'n', 'p'}\n"
          ]
        }
      ]
    },
    {
      "cell_type": "markdown",
      "source": [
        "Ejercicio 8\n",
        "\n",
        "Dada una frase introducida por teclado, guarda en un conjunto todas las palabras con longitud par."
      ],
      "metadata": {
        "id": "8-ROmS1zOYSB"
      }
    },
    {
      "cell_type": "code",
      "source": [
        "s = input(\"Introduzca una frase: \")\n",
        "s = s.lower()\n",
        "palabras_pares = set()\n",
        "words = s.split()\n",
        "\n",
        "for w in words:\n",
        "  if len(w) % 2 == 0:\n",
        "    palabras_pares.add(w)\n",
        "\n",
        "print(palabras_pares)\n",
        "  \n"
      ],
      "metadata": {
        "colab": {
          "base_uri": "https://localhost:8080/"
        },
        "id": "99dOyOGPcUVS",
        "outputId": "c074e4a3-526a-47c0-9576-ce2af5b4ec1a"
      },
      "execution_count": null,
      "outputs": [
        {
          "output_type": "stream",
          "name": "stdout",
          "text": [
            "Introduzca una frase: el la los ellos ya para\n",
            "{'ya', 'la', 'el', 'para'}\n"
          ]
        }
      ]
    },
    {
      "cell_type": "markdown",
      "source": [
        "Ejercicio 9\n",
        "\n",
        "Dada una frase introducida por teclado, guarda en un conjunto todas las palabras que acaben por la letra indicada por el usuario."
      ],
      "metadata": {
        "id": "9utapIYGObx2"
      }
    },
    {
      "cell_type": "code",
      "source": [
        "frase = input(\"Introduzca una frase: \")\n",
        "frase = frase.lower()\n",
        "letra = input(\"Introduzca una letra: \")\n",
        "letra = letra.lower()\n",
        "palabras = set()\n",
        "words = frase.split(\" \")\n",
        "\n",
        "for w in words:\n",
        "  if w.endswith(letra):\n",
        "    palabras.add(w)\n",
        "\n",
        "print(palabras)"
      ],
      "metadata": {
        "colab": {
          "base_uri": "https://localhost:8080/"
        },
        "id": "egC__mImdZRz",
        "outputId": "ac05fc19-a1dd-4dd9-bb45-1458eff0f99c"
      },
      "execution_count": null,
      "outputs": [
        {
          "output_type": "stream",
          "name": "stdout",
          "text": [
            "Introduzca una frase: la esposa sonrio mientras los hijos dormian\n",
            "Introduzca una letra: n\n",
            "{'dormian'}\n"
          ]
        }
      ]
    },
    {
      "cell_type": "markdown",
      "source": [
        "Ejercicio 10\n",
        "\n",
        "Dada una frase introducida por teclado, guarda en un conjunto todas las palabras palíndromas."
      ],
      "metadata": {
        "id": "On9BPuLdOfDK"
      }
    },
    {
      "cell_type": "code",
      "source": [
        "s = input(\"Introduzca una frase: \")\n",
        "s = s.lower()\n",
        "words = s.split(\" \")\n",
        "p = []\n",
        "palabras_palindromas = set()\n",
        "  \n",
        "  \n",
        "for w in words:\n",
        "  p.append(w[::-1])\n",
        "\n",
        "for i in range(len(p)):\n",
        "  if p[i] == words[i]:\n",
        "    palabras_palindromas.add(words[i]) \n",
        "\n",
        "print(palabras_palindromas)\n",
        "\n"
      ],
      "metadata": {
        "colab": {
          "base_uri": "https://localhost:8080/"
        },
        "id": "dTmzAi42dyL1",
        "outputId": "9a537da2-90ce-4570-8263-6b2a6be7451f"
      },
      "execution_count": null,
      "outputs": [
        {
          "output_type": "stream",
          "name": "stdout",
          "text": [
            "Introduzca una frase: anna reconocer\n",
            "{'reconocer', 'anna'}\n",
            "['anna', 'reconocer']\n",
            "['anna', 'reconocer']\n"
          ]
        }
      ]
    }
  ]
}