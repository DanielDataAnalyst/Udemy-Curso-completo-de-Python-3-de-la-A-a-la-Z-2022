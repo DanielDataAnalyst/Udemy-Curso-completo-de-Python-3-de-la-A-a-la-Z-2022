{
  "nbformat": 4,
  "nbformat_minor": 0,
  "metadata": {
    "colab": {
      "provenance": []
    },
    "kernelspec": {
      "name": "python3",
      "display_name": "Python 3"
    }
  },
  "cells": [
    {
      "cell_type": "markdown",
      "metadata": {
        "id": "FozkaU1q4Q5W"
      },
      "source": [
        "# Presentaciones\n",
        "\n",
        "Pyratilla ha decidido escribir una ficha de presentación donde constan sus datos:"
      ]
    },
    {
      "cell_type": "code",
      "metadata": {
        "id": "mGwh0HUp4aoY"
      },
      "source": [
        "name = \"Pyratilla\"\n",
        "age = 17\n",
        "pet = True\n",
        "pet_name = \"Pyo\"\n",
        "ocupation = \"Pirata\" # Y en cuanto tenga tripulación, seré capitán\n",
        "coins = 0"
      ],
      "execution_count": null,
      "outputs": []
    },
    {
      "cell_type": "markdown",
      "metadata": {
        "id": "ADATerB05qOf"
      },
      "source": [
        "# Empieza la aventura\n",
        "\n",
        "A pesar de haber sido un poco problemático, los habitantes del pueblo natal de Pyratilla le han acabado cogiendo cariño, hasta tal punto que entre todos han decidido hacerle un regalo de despedida: darle un total de 100 monedas para que empiece su viaje tranquilo y pueda comprar un barco en condiciones en el pueblo vecino.\n",
        "\n",
        "Con lo cual, Pyratilla muy agradecido empieza su aventura poniendo rumbo al pueblo vecino, no sin antes hacer una ligera modificación en su ficha de presentación:"
      ]
    },
    {
      "cell_type": "code",
      "metadata": {
        "id": "twYRchmI6FU1"
      },
      "source": [
        "coins = 100"
      ],
      "execution_count": null,
      "outputs": []
    },
    {
      "cell_type": "code",
      "source": [
        "coins"
      ],
      "metadata": {
        "colab": {
          "base_uri": "https://localhost:8080/"
        },
        "id": "XB_hpBpanXVC",
        "outputId": "97edb728-e7a2-492a-b8c5-1f373e81ec98"
      },
      "execution_count": null,
      "outputs": [
        {
          "output_type": "execute_result",
          "data": {
            "text/plain": [
              "100"
            ]
          },
          "metadata": {},
          "execution_count": 2
        }
      ]
    },
    {
      "cell_type": "code",
      "source": [],
      "metadata": {
        "id": "fEyanNkTnglm"
      },
      "execution_count": null,
      "outputs": []
    },
    {
      "cell_type": "code",
      "source": [],
      "metadata": {
        "id": "2hqC6xeInnSZ"
      },
      "execution_count": null,
      "outputs": []
    }
  ]
}