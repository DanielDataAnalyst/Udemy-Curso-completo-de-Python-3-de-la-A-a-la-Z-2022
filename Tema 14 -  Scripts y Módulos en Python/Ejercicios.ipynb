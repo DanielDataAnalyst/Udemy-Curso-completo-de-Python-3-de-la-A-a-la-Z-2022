{
  "nbformat": 4,
  "nbformat_minor": 0,
  "metadata": {
    "colab": {
      "provenance": []
    },
    "kernelspec": {
      "name": "python3",
      "display_name": "Python 3"
    },
    "language_info": {
      "name": "python"
    }
  },
  "cells": [
    {
      "cell_type": "markdown",
      "source": [
        "Ejercicio 1\n",
        "\n",
        "Crea un script llamado vectors.py. Ábrelo y crea una clase llamada Vector2D. El constructor debe guardar las coordenadas x e y del vector."
      ],
      "metadata": {
        "id": "GeRdgJRcJ94X"
      }
    },
    {
      "cell_type": "code",
      "source": [
        "import math\n",
        " \n",
        "class Vector2D():\n",
        "\n",
        "  def __init__(self, x, y):\n",
        "    self.x = x\n",
        "    self.y = y"
      ],
      "metadata": {
        "id": "VmYl6zW0uWSm"
      },
      "execution_count": null,
      "outputs": []
    },
    {
      "cell_type": "markdown",
      "source": [
        "Ejercicio 2\n",
        "\n",
        "Crea los siguientes métodos:\n",
        "\n",
        "• La propiedad .module que devuelva el módulo del vector. Recuerda que el módulo de un vector 2D se calcula como p x2 + y2. Para calcular raíces cuadradas, dispones del método math.sqrt().\n",
        "\n",
        "• El método de instancia .scalar_prod() que multiplique el vector por el número real dado por parámetro, que por defecto vale 1.\n",
        "Configura el método .__str__ para que se nos muestre por pantalla el vector de la forma (x, y)."
      ],
      "metadata": {
        "id": "edsmSnusKQxW"
      }
    },
    {
      "cell_type": "code",
      "execution_count": null,
      "metadata": {
        "id": "F0eROvORrrYZ"
      },
      "outputs": [],
      "source": [
        "import math\n",
        " \n",
        "class Vector2D():\n",
        "\n",
        "  def __init__(self, x, y):\n",
        "    self.x = x\n",
        "    self.y = y\n",
        "\n",
        "  @property\n",
        "  def module(self):\n",
        "    return math.sqrt(self.x**2 + self.y**2)\n",
        "\n",
        "  def scalar_prod(self, n):\n",
        "    self.n = n\n",
        "    self.x = n * self.x\n",
        "    self.y = n * self.y\n",
        "\n",
        "  def __str__(self): \n",
        "    return (f\"({self.x},{self.y})\") "
      ]
    },
    {
      "cell_type": "markdown",
      "source": [
        "Ejercicio 3\n",
        "\n",
        "Crea los siguientes métodos:\n",
        "• El método de clase .sum() que dados dos vectores los sume y devuelva un objeto de la clase Vector2D.\n",
        "\n",
        "• El método de clase .subtract() que dadoas dos vectores los reste y devuelva un objeto de la clase Vector2D."
      ],
      "metadata": {
        "id": "AAz6Z6hZKaVK"
      }
    },
    {
      "cell_type": "code",
      "source": [
        "import math\n",
        " \n",
        "class Vector2D():\n",
        "\n",
        "  def __init__(self, x, y):\n",
        "    self.x = x\n",
        "    self.y = y\n",
        "\n",
        "  @property\n",
        "  def module(self):\n",
        "    return math.sqrt(self.x**2 + self.y**2)\n",
        "\n",
        "  def scalar_prod(self, n):\n",
        "    self.n = n\n",
        "    self.x = n * self.x\n",
        "    self.y = n * self.y\n",
        "\n",
        "  def __str__(self): \n",
        "    return (f\"({self.x},{self.y})\") \n",
        "\n",
        "  @classmethod\n",
        "  def sum(cls, i , j):\n",
        "    return cls(i.x + j.x, i.y + j.y)\n",
        "\n",
        "  @classmethod\n",
        "  def substract(cls, i , j):\n",
        "    return cls(i.x - j.x, i.y - j.y)\n"
      ],
      "metadata": {
        "id": "hHj7NfdcuYlT"
      },
      "execution_count": null,
      "outputs": []
    },
    {
      "cell_type": "markdown",
      "source": [
        "Ejercicio 4\n",
        "\n",
        "Crea los siguientes métodos:\n",
        "\n",
        "• El método estático .dot_product() que dados dos vectores calcule su producto escalar. Recuerda que el producto escalar de 2 vectores 2D u y v se calcula como u · v = uxvx + uyvy\n",
        "\n",
        "• El método de clase .distance() que dados dos vectores calcule la distancia entre ellos. Recuerda que la distancia entre 2 vectores 2D u y v se calcula como\n",
        "p (ux − vx)2 + (uy − vy)2"
      ],
      "metadata": {
        "id": "uz4t23NZKf6k"
      }
    },
    {
      "cell_type": "code",
      "source": [
        "import math\n",
        " \n",
        "class Vector2D():\n",
        "\n",
        "  def __init__(self, x, y):\n",
        "    self.x = x\n",
        "    self.y = y\n",
        "\n",
        "  @property\n",
        "  def module(self):\n",
        "    return math.sqrt(self.x**2 + self.y**2)\n",
        "\n",
        "  def scalar_prod(self, n = 1):\n",
        "    self.n = n\n",
        "    self.x = n * self.x\n",
        "    self.y = n * self.y\n",
        "\n",
        "  def __str__(self): \n",
        "    return (f\"({self.x},{self.y})\") \n",
        "\n",
        "  @classmethod\n",
        "  def sum(cls, i , j):\n",
        "    return cls(i.x + j.x, i.y + j.y)\n",
        "\n",
        "  @classmethod\n",
        "  def substract(cls, i , j):\n",
        "    return cls(i.x - j.x, i.y - j.y)\n",
        "\n",
        "  @staticmethod\n",
        "  def dot_product(v1, v2):\n",
        "    return v1.x * v2.x + v1.y * v2.y\n",
        "\n",
        "  @classmethod\n",
        "  def distance(cls, u , v): \n",
        "    return cls.substract(u, v).module    "
      ],
      "metadata": {
        "id": "48_BTmxSUefP"
      },
      "execution_count": null,
      "outputs": []
    },
    {
      "cell_type": "code",
      "source": [
        "vec2 = Vector2D(2,9)\n",
        "print(vec2.scalar_prod(2))"
      ],
      "metadata": {
        "colab": {
          "base_uri": "https://localhost:8080/"
        },
        "id": "huZIa_dEa5jM",
        "outputId": "c3452d69-7d44-49ea-8e19-90a8f2b95cde"
      },
      "execution_count": null,
      "outputs": [
        {
          "output_type": "stream",
          "name": "stdout",
          "text": [
            "None\n"
          ]
        }
      ]
    },
    {
      "cell_type": "markdown",
      "source": [
        "Ejercicio 5\n",
        "\n",
        "Ahora crea la clase Vector3D que herede de la clase Vector2D. Empieza con el constructor para que además de las coordenadas x e y, también tome la coordenada z. Recuerda que puedes utilizar el método .super() para acceder a métodos de la clase padre."
      ],
      "metadata": {
        "id": "zQSyHrp2KrJc"
      }
    },
    {
      "cell_type": "code",
      "source": [
        "class Vector3D(Vector2D):\n",
        "\n",
        "    def __init__(self, x, y, z):\n",
        "      super().__init__(x, y)\n",
        "      self.z = z"
      ],
      "metadata": {
        "id": "FRM8yXdsZ1ks"
      },
      "execution_count": null,
      "outputs": []
    },
    {
      "cell_type": "markdown",
      "source": [
        "Ejercicio 6\n",
        "\n",
        "Crea en la clase Vector3D los métodos siguientes:\n",
        "\n",
        "• el método .__str__() para que muestre el vector por pantalla de la forma (x, y, z).\n",
        "• la propiedad .module. Al tener vectores 3D, el módulo se calcula como\n",
        "p x2 + y2 + z2\n",
        "\n",
        "• el método de instancia .scalar_prod()\n",
        "• los métodos de clase .sum() y .subtract() para que devuelvan objetos de la clase Vector3D.\n",
        "\n",
        "• el método estático .dot_product(), pues ahora el producto escalar se calcula como u · v = uxvx + uyvy + uzvz\n",
        "\n",
        "• el método de clase .distance(), pues ahora la distancia se calcula como\n",
        "q (ux − vx)2 + (uy − vy)2 + (uz − vz)2\n",
        "Recuerda que dispones del método .super() para evitar repeticiones innecesarias de código."
      ],
      "metadata": {
        "id": "-sEcWXK4Kwh4"
      }
    },
    {
      "cell_type": "code",
      "source": [
        "class Vector3D(Vector2D):\n",
        "\n",
        "    def __init__(self, x, y, z):\n",
        "      super().__init__(x, y)\n",
        "      self.z = z\n",
        "\n",
        "    def __str__(self):\n",
        "      return (f\"({self.x},{self.y},{self.z})\") \n",
        "     \n",
        "    @property\n",
        "    def module(self):\n",
        "      return math.sqrt(self.x**2 + self.y**2 + self.z**2)\n",
        "\n",
        "    def scalar_prod(self, n = 1):\n",
        "      super().scalar_prod(n)\n",
        "      self.z = n * self.z\n",
        "    \n",
        "    @classmethod\n",
        "    def sum(cls, i , j):\n",
        "      return cls(i.x + j.x, i.y + j.y, i.z + j.z)\n",
        "\n",
        "    @classmethod\n",
        "    def substract(cls, i , j):\n",
        "      return cls(i.x - j.x, i.y - j.y, i.z - j.z)\n",
        "\n",
        "    @staticmethod\n",
        "    def dot_product(v1, v2):\n",
        "      return v1.x * v2.x + v1.y * v2.y + v1.z * v2.z\n",
        "\n",
        "    @classmethod\n",
        "    def distance(cls, u , v): \n",
        "      return cls.substract(u, v).module    "
      ],
      "metadata": {
        "id": "WqepCb1CaVAM"
      },
      "execution_count": null,
      "outputs": []
    },
    {
      "cell_type": "markdown",
      "source": [
        "Ejercicio 7\n",
        "\n",
        "Crea en la clase Vector3D los métodos siguientes:\n",
        "• el método de clase .zero() que devuelva un objeto Vector3D con todas sus componentes 0.\n",
        "\n",
        "• el método de clase .horizontal() que devuelva un objeto Vector3D con todas sus componentes 0 salvo la primera que valdrá 1.\n",
        "\n",
        "• el método de clase .vertical() que devuelva un objeto Vector3D con todas sus componentes 0 salvo la segunda que valdrá 1.\n",
        "\n",
        "• el método de clase .forward() que devuelva un objeto Vector3D con todas sus componentes 0 salvo la tercera y última que valdrá 1."
      ],
      "metadata": {
        "id": "ervyMBAcK7qk"
      }
    },
    {
      "cell_type": "code",
      "source": [
        "class Vector3D(Vector2D):\n",
        "\n",
        "    def __init__(self, x, y, z):\n",
        "      super().__init__(x, y)\n",
        "      self.z = z\n",
        "\n",
        "    def __str__(self):\n",
        "      return (f\"({self.x},{self.y},{self.z})\") \n",
        "     \n",
        "    @property\n",
        "    def module(self):\n",
        "      return math.sqrt(self.x**2 + self.y**2 + self.z**2)\n",
        "\n",
        "    def scalar_prod(self, n = 1):\n",
        "      super().scalar_prod(n)\n",
        "      self.z = n * self.z\n",
        "    \n",
        "    @classmethod\n",
        "    def sum(cls, i , j):\n",
        "      return cls(i.x + j.x, i.y + j.y, i.z + j.z)\n",
        "\n",
        "    @classmethod\n",
        "    def substract(cls, i , j):\n",
        "      return cls(i.x - j.x, i.y - j.y, i.z - j.z)\n",
        "\n",
        "    @staticmethod\n",
        "    def dot_product(v1, v2):\n",
        "      return v1.x * v2.x + v1.y * v2.y + v1.z * v2.z\n",
        "\n",
        "    @classmethod\n",
        "    def distance(cls, u , v): \n",
        "      return cls.substract(u, v).module  \n",
        "    \n",
        "    @classmethod\n",
        "    def zero(cls):\n",
        "      return cls(0,0,0)\n",
        "\n",
        "    @classmethod\n",
        "    def horizontal(cls):\n",
        "      return cls(1,0,0)\n",
        "\n",
        "    @classmethod\n",
        "    def vertical(cls):\n",
        "      return cls(0,1,0)\n",
        "    \n",
        "    @classmethod\n",
        "    def forward(cls):\n",
        "      return cls(0,0,1)\n",
        "    "
      ],
      "metadata": {
        "id": "rUwGjXSUc9so"
      },
      "execution_count": null,
      "outputs": []
    },
    {
      "cell_type": "markdown",
      "source": [
        "Ejercicio 8\n",
        "\n",
        "Crea en la clase Vector2D el método de instancia .extend_to_3D() que devuelva un objeto de la clase Vector3D siendo la componente z el valor indicado por parámetro, que por defecto valdrá 0."
      ],
      "metadata": {
        "id": "NwlhPFA2LEC5"
      }
    },
    {
      "cell_type": "code",
      "source": [
        "import math\n",
        " \n",
        "class Vector2D():\n",
        "\n",
        "  def __init__(self, x, y):\n",
        "    self.x = x\n",
        "    self.y = y\n",
        "\n",
        "  @property\n",
        "  def module(self):\n",
        "    return math.sqrt(self.x**2 + self.y**2)\n",
        "\n",
        "  def scalar_prod(self, n = 1):\n",
        "    self.n = n\n",
        "    self.x = n * self.x\n",
        "    self.y = n * self.y\n",
        "\n",
        "  def __str__(self): \n",
        "    return (f\"({self.x},{self.y})\") \n",
        "\n",
        "  @classmethod\n",
        "  def sum(cls, i , j):\n",
        "    return cls(i.x + j.x, i.y + j.y)\n",
        "\n",
        "  @classmethod\n",
        "  def substract(cls, i , j):\n",
        "    return cls(i.x - j.x, i.y - j.y)\n",
        "\n",
        "  @staticmethod\n",
        "  def dot_product(v1, v2):\n",
        "    return v1.x * v2.x + v1.y * v2.y\n",
        "\n",
        "  @classmethod\n",
        "  def distance(cls, u , v): \n",
        "    return cls.substract(u, v).module    \n",
        "\n",
        "  def extend_to_3D(self, z = 0):\n",
        "    return Vector3D(self.x , self.y, z)\n"
      ],
      "metadata": {
        "id": "WlbAaRaVd8M0"
      },
      "execution_count": null,
      "outputs": []
    },
    {
      "cell_type": "markdown",
      "source": [
        "Ejercicio 9\n",
        "\n",
        "En un notebook de Google Colab, importa el script, crea dos objetos de la clase Vector2D y prueba que todos los métodos de la clase Vector2D funcionan correctamente."
      ],
      "metadata": {
        "id": "m1l2oRS8LJ5q"
      }
    },
    {
      "cell_type": "code",
      "source": [
        "vec1 = Vector3D(2,9,8)\n",
        "vec2 = Vector3D(2,9,8)\n",
        "vec3 = Vector3D(2,87,9)\n",
        "print(Vector3D.forward())"
      ],
      "metadata": {
        "colab": {
          "base_uri": "https://localhost:8080/"
        },
        "id": "PBJt9domcUMw",
        "outputId": "638dbc99-20cb-46ff-dd57-07d29c7cf986"
      },
      "execution_count": null,
      "outputs": [
        {
          "output_type": "stream",
          "name": "stdout",
          "text": [
            "(0,0,1)\n"
          ]
        }
      ]
    },
    {
      "cell_type": "markdown",
      "source": [
        "Ejercicio 10\n",
        "\n",
        "Ahora crea dos objetos de la clase Vector3D y prueba que todos los métodos de la clase Vector3D funcionan correctamente."
      ],
      "metadata": {
        "id": "SuGLV12FLNql"
      }
    },
    {
      "cell_type": "code",
      "source": [
        "\n",
        "v2 = Vector2D(5,9)\n",
        "\n",
        "v3 = Vector2D.distance(v1, v2)\n",
        "\n",
        "print(v3)"
      ],
      "metadata": {
        "colab": {
          "base_uri": "https://localhost:8080/",
          "height": 235
        },
        "id": "7ejAnSm1saAR",
        "outputId": "6c6f7b0e-fb30-4b11-8035-19b052e1e3dd"
      },
      "execution_count": null,
      "outputs": [
        {
          "output_type": "error",
          "ename": "NameError",
          "evalue": "ignored",
          "traceback": [
            "\u001b[0;31m---------------------------------------------------------------------------\u001b[0m",
            "\u001b[0;31mNameError\u001b[0m                                 Traceback (most recent call last)",
            "\u001b[0;32m<ipython-input-12-efef7d6f7521>\u001b[0m in \u001b[0;36m<module>\u001b[0;34m\u001b[0m\n\u001b[1;32m      1\u001b[0m \u001b[0mv2\u001b[0m \u001b[0;34m=\u001b[0m \u001b[0mVector2D\u001b[0m\u001b[0;34m(\u001b[0m\u001b[0;36m5\u001b[0m\u001b[0;34m,\u001b[0m\u001b[0;36m9\u001b[0m\u001b[0;34m)\u001b[0m\u001b[0;34m\u001b[0m\u001b[0;34m\u001b[0m\u001b[0m\n\u001b[1;32m      2\u001b[0m \u001b[0;34m\u001b[0m\u001b[0m\n\u001b[0;32m----> 3\u001b[0;31m \u001b[0mv3\u001b[0m \u001b[0;34m=\u001b[0m \u001b[0mVector2D\u001b[0m\u001b[0;34m.\u001b[0m\u001b[0mdistance\u001b[0m\u001b[0;34m(\u001b[0m\u001b[0mv1\u001b[0m\u001b[0;34m,\u001b[0m \u001b[0mv2\u001b[0m\u001b[0;34m)\u001b[0m\u001b[0;34m\u001b[0m\u001b[0;34m\u001b[0m\u001b[0m\n\u001b[0m\u001b[1;32m      4\u001b[0m \u001b[0;34m\u001b[0m\u001b[0m\n\u001b[1;32m      5\u001b[0m \u001b[0mprint\u001b[0m\u001b[0;34m(\u001b[0m\u001b[0mv3\u001b[0m\u001b[0;34m)\u001b[0m\u001b[0;34m\u001b[0m\u001b[0;34m\u001b[0m\u001b[0m\n",
            "\u001b[0;31mNameError\u001b[0m: name 'v1' is not defined"
          ]
        }
      ]
    }
  ]
}