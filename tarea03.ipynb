{
  "nbformat": 4,
  "nbformat_minor": 0,
  "metadata": {
    "colab": {
      "provenance": []
    },
    "kernelspec": {
      "name": "python3",
      "display_name": "Python 3"
    }
  },
  "cells": [
    {
      "cell_type": "markdown",
      "metadata": {
        "id": "7-w9Es5sktLa"
      },
      "source": [
        "# Filtrando solicitudes\n",
        "\n",
        "Pyratilla hizo un formulario para que los interesados en formar parte de su tripulación rellenaran y así poder evitarse más de una entrevista innecesaria.\n",
        "\n",
        "Ahora es momento de filtrar las convocatorias:\n",
        "\n",
        "- El nombre debe empezar por mayúscula. Si es un nombre compuesto, entonces todos deben empezar por mayúscula.\n",
        "- La edad debe ser mayor o igual a 16 y menor o igual a 40.\n",
        "- El hobby indicado debe tener más de 10 caracteres.\n",
        "- La casilla del sueño no puede haber sido dejada en blanco.\n",
        "\n",
        "Ayuda a Pyratilla a crear este filtro para descartar solicitudes que no cumplan estos requisitos."
      ]
    },
    {
      "cell_type": "code",
      "source": [
        "nombre = input(\"Introduce tu nombre: \") \n",
        "edad = int(input(\"Introduce tu edad: \")) \n",
        "hobby = input(\"Cual es tu hobby: \")\n",
        "sueño = input(\"Cuales son tu sueños: \")\n",
        "nombre_mayusculas = nombre.title()\n",
        "\n",
        "if nombre == nombre_mayusculas and edad >= 16 and edad <= 40 and len(hobby) > 10 and len(sueño) != 0:\n",
        "  print(\"Pasa a entrevista\")\n",
        "else:\n",
        "  print(\"NO Pasa a entrevista\")\n",
        "   \n"
      ],
      "metadata": {
        "id": "p9N4qXvORO_y",
        "outputId": "4d9edf3a-33ed-4bb7-9400-3e280f6244f9",
        "colab": {
          "base_uri": "https://localhost:8080/"
        }
      },
      "execution_count": 10,
      "outputs": [
        {
          "output_type": "stream",
          "name": "stdout",
          "text": [
            "Introduce tu nombre: Daniel\n",
            "Introduce tu edad: 50\n",
            "Cual es tu hobby: vbbfhshvbsjhvbshbv\n",
            "Cuales son tu sueños: hsvbjvbsdjh\n",
            "NO Pasa a entrevista\n"
          ]
        }
      ]
    },
    {
      "cell_type": "code",
      "source": [],
      "metadata": {
        "id": "oHsIhlkveb0b"
      },
      "execution_count": null,
      "outputs": []
    },
    {
      "cell_type": "code",
      "source": [],
      "metadata": {
        "id": "9a9AMk4HeYUV"
      },
      "execution_count": null,
      "outputs": []
    },
    {
      "cell_type": "code",
      "source": [
        "D"
      ],
      "metadata": {
        "id": "fO1XhSv9ePaS"
      },
      "execution_count": null,
      "outputs": []
    },
    {
      "cell_type": "code",
      "source": [],
      "metadata": {
        "id": "0FQnC9LieGW2"
      },
      "execution_count": 7,
      "outputs": []
    },
    {
      "cell_type": "code",
      "source": [],
      "metadata": {
        "id": "L7izi-akeM14"
      },
      "execution_count": null,
      "outputs": []
    },
    {
      "cell_type": "code",
      "source": [],
      "metadata": {
        "id": "UjM4eOFweAa2"
      },
      "execution_count": null,
      "outputs": []
    },
    {
      "cell_type": "code",
      "source": [],
      "metadata": {
        "id": "qyqVU-SWb8W4"
      },
      "execution_count": null,
      "outputs": []
    },
    {
      "cell_type": "code",
      "source": [],
      "metadata": {
        "id": "hC2St11bbu7A"
      },
      "execution_count": null,
      "outputs": []
    },
    {
      "cell_type": "code",
      "source": [],
      "metadata": {
        "id": "qzKNx5OwbUee"
      },
      "execution_count": null,
      "outputs": []
    },
    {
      "cell_type": "code",
      "source": [],
      "metadata": {
        "id": "gyNZ6XmXa_kh"
      },
      "execution_count": null,
      "outputs": []
    },
    {
      "cell_type": "code",
      "source": [],
      "metadata": {
        "id": "4qgpcHyDa8XR"
      },
      "execution_count": null,
      "outputs": []
    },
    {
      "cell_type": "code",
      "metadata": {
        "id": "4aq25-Qrktd8"
      },
      "source": [],
      "execution_count": null,
      "outputs": []
    }
  ]
}