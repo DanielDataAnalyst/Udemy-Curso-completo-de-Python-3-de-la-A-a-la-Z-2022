{
  "nbformat": 4,
  "nbformat_minor": 0,
  "metadata": {
    "colab": {
      "provenance": []
    },
    "kernelspec": {
      "name": "python3",
      "display_name": "Python 3"
    }
  },
  "cells": [
    {
      "cell_type": "markdown",
      "metadata": {
        "id": "GOuE0qc8U4pO"
      },
      "source": [
        "# La lista de la compra"
      ]
    },
    {
      "cell_type": "markdown",
      "metadata": {
        "id": "psyHuCb7VUha"
      },
      "source": [
        "Una vez acabada la canción, Pyratilla ya tiene a su tripulación elegida.\n",
        "\n",
        "En primer lugar, gracias al filtro de peticiones consiguió reducir todos los candidatos a 20. Después de leer las 20 solicitudes a fondo, decidió únicamente conceder 7 entrevistas. Finalmente, de esos 7 afortunados, solamente 2 pasaron la prueba final: Pyerce y Pym.\n",
        "\n",
        "Pyerce y Pym son dos gemelos idénticos que siempre han querido ser miembros de una tripulación pirata. Pyerce sabe mucho tanto de cartografía como de metereología, y su sueño siempre ha sido recorrer el mundo sucarndo los mares. Por su parte, Pym hace que tripular un barco sea cosa fácil. Además no solo domina el timón, sino que es un experto en ingeniería naval y desde pequeño se ha dedicado a arreglar barcos. El sueño de Pym siempre ha sido trabajar en el barco que le hará conocer todos los mares y océanos del mundo.\n",
        "\n",
        "Para darles la bienvenida a la tripulación, Pyratilla ha decidido organizar una fiesta por todo lo alto, con lo cuál necesita ir a la compra y conseguir:\n",
        "\n",
        "- 30 botellas de ron (10 para cada uno)\n",
        "- 6 hamburguesas\n",
        "- 2 tomates\n",
        "- 1 pack de lonchas de queso\n",
        "- 1 bote de ketchup\n",
        "- 1 bote de mayonesa\n",
        "- 1 bote de mostaza\n",
        "\n",
        "Ayuda a Pyratilla a escribir su lista de la compra con todos los items (uno en cada posición) en una lista de `Python` llamada `shopping_list`.\n",
        "\n",
        "PISTA: Recuerda que puedes usar repetición y concatenación de listas. Así la elaboración de la lista resultará más sencilla."
      ]
    },
    {
      "cell_type": "code",
      "metadata": {
        "id": "kqBmy3ojU2Xe",
        "outputId": "5f5949f4-4f55-410d-8b3a-ed995b78ee91",
        "colab": {
          "base_uri": "https://localhost:8080/"
        }
      },
      "source": [
        "shopping_list = 30 * [\"botella de ron\"] + 2 * [\"hamburguesa\"] + 2* [\"tomate\"] + [\"pack de lonchas de queso\"] + [\"bote de ketchup\"] + [\"bote de mayonesa\"] + [\"bote de mostaza\"]\n",
        "\n",
        "print(shopping_list)"
      ],
      "execution_count": 18,
      "outputs": [
        {
          "output_type": "stream",
          "name": "stdout",
          "text": [
            "['botella de ron', 'botella de ron', 'botella de ron', 'botella de ron', 'botella de ron', 'botella de ron', 'botella de ron', 'botella de ron', 'botella de ron', 'botella de ron', 'botella de ron', 'botella de ron', 'botella de ron', 'botella de ron', 'botella de ron', 'botella de ron', 'botella de ron', 'botella de ron', 'botella de ron', 'botella de ron', 'botella de ron', 'botella de ron', 'botella de ron', 'botella de ron', 'botella de ron', 'botella de ron', 'botella de ron', 'botella de ron', 'botella de ron', 'botella de ron', 'hamburguesa', 'hamburguesa', 'tomate', 'tomate', 'pack de lonchas de queso', 'bote de ketchup', 'bote de mayonesa', 'bote de mostaza']\n"
          ]
        }
      ]
    },
    {
      "cell_type": "code",
      "source": [],
      "metadata": {
        "id": "i7kgQxlVDfpm"
      },
      "execution_count": null,
      "outputs": []
    },
    {
      "cell_type": "markdown",
      "metadata": {
        "id": "gDTF6bggZZLd"
      },
      "source": [
        "Ayuda a Pyratilla a mostrar todos los elementos que se han introducido en la lista de la compra llamada `shopping_list`."
      ]
    },
    {
      "cell_type": "code",
      "metadata": {
        "id": "f18rqafkaISC",
        "outputId": "0eab568b-1c35-45bc-a276-a39adec575b3",
        "colab": {
          "base_uri": "https://localhost:8080/"
        }
      },
      "source": [
        "for i in shopping_list:\n",
        "  print(i)"
      ],
      "execution_count": 19,
      "outputs": [
        {
          "output_type": "stream",
          "name": "stdout",
          "text": [
            "botella de ron\n",
            "botella de ron\n",
            "botella de ron\n",
            "botella de ron\n",
            "botella de ron\n",
            "botella de ron\n",
            "botella de ron\n",
            "botella de ron\n",
            "botella de ron\n",
            "botella de ron\n",
            "botella de ron\n",
            "botella de ron\n",
            "botella de ron\n",
            "botella de ron\n",
            "botella de ron\n",
            "botella de ron\n",
            "botella de ron\n",
            "botella de ron\n",
            "botella de ron\n",
            "botella de ron\n",
            "botella de ron\n",
            "botella de ron\n",
            "botella de ron\n",
            "botella de ron\n",
            "botella de ron\n",
            "botella de ron\n",
            "botella de ron\n",
            "botella de ron\n",
            "botella de ron\n",
            "botella de ron\n",
            "hamburguesa\n",
            "hamburguesa\n",
            "tomate\n",
            "tomate\n",
            "pack de lonchas de queso\n",
            "bote de ketchup\n",
            "bote de mayonesa\n",
            "bote de mostaza\n"
          ]
        }
      ]
    },
    {
      "cell_type": "markdown",
      "metadata": {
        "id": "DeCG-75waIgs"
      },
      "source": [
        "Como puedes ver, el mostrar todos los elementos no sirve de mucha ayuda, pues en total hay 42, muchos de ellos repetidos. Modifica el bucle anterior con la ayuda de alguno de los métodos vistos en clase para que los elementos no se muestren repetidos, sino que se muestren agrupados tal cuál se muestran en el enunciado."
      ]
    },
    {
      "cell_type": "code",
      "metadata": {
        "id": "CXOD84-bboIh",
        "outputId": "bcf94ccd-40c8-4f79-dca7-28767be785e2",
        "colab": {
          "base_uri": "https://localhost:8080/"
        }
      },
      "source": [
        "counted  = []\n",
        "for element in shopping_list:\n",
        "  if element not in counted: \n",
        "    counted.append(element)\n",
        "    print(f\"{shopping_list.count(element)} {element}\")"
      ],
      "execution_count": 21,
      "outputs": [
        {
          "output_type": "stream",
          "name": "stdout",
          "text": [
            "30 botella de ron\n",
            "2 hamburguesa\n",
            "2 tomate\n",
            "1 pack de lonchas de queso\n",
            "1 bote de ketchup\n",
            "1 bote de mayonesa\n",
            "1 bote de mostaza\n"
          ]
        }
      ]
    },
    {
      "cell_type": "code",
      "source": [],
      "metadata": {
        "id": "pvBsAFjmFWlZ"
      },
      "execution_count": null,
      "outputs": []
    },
    {
      "cell_type": "code",
      "source": [],
      "metadata": {
        "id": "EEuKCOL7FFBW"
      },
      "execution_count": null,
      "outputs": []
    }
  ]
}