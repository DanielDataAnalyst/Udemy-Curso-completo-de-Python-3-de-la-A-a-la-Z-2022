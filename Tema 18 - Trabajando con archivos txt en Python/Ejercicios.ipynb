{
  "nbformat": 4,
  "nbformat_minor": 0,
  "metadata": {
    "colab": {
      "provenance": []
    },
    "kernelspec": {
      "name": "python3",
      "display_name": "Python 3"
    },
    "language_info": {
      "name": "python"
    }
  },
  "cells": [
    {
      "cell_type": "code",
      "source": [
        "from google.colab import drive\n",
        "drive.mount('/content/drive')"
      ],
      "metadata": {
        "colab": {
          "base_uri": "https://localhost:8080/"
        },
        "id": "lq8JZxlnl2kj",
        "outputId": "9a18180d-625f-444e-9250-25a40b6ea254"
      },
      "execution_count": 18,
      "outputs": [
        {
          "output_type": "stream",
          "name": "stdout",
          "text": [
            "Mounted at /content/drive\n"
          ]
        }
      ]
    },
    {
      "cell_type": "markdown",
      "source": [
        "Ejercicio 1\n",
        "\n",
        "Pídele al usuario el nombre, el apellido, la edad y su color favorito. Guarda la información en un diccionario de claves name, surname, age y color.\n",
        "Crea y escribe un txt con 4 frases, una en cada línea. La primera debe indicar el nombre del usuario; la segunda, el apellido; la tercera, la edad; y la última, el color favorito del usuario."
      ],
      "metadata": {
        "id": "zp1nmAyhILSt"
      }
    },
    {
      "cell_type": "code",
      "execution_count": 26,
      "metadata": {
        "colab": {
          "base_uri": "https://localhost:8080/"
        },
        "id": "FzBhzV6bHnE3",
        "outputId": "5f70790e-1669-4f38-8277-da4cff831348"
      },
      "outputs": [
        {
          "name": "stdout",
          "output_type": "stream",
          "text": [
            "Introduzca su nombre: Isa\n",
            "Introduzca sus apellidos: Gongora\n",
            "Introduzca su edad: 4\n",
            "Introduzca su color favorito: verde\n"
          ]
        }
      ],
      "source": [
        "dicc = {}\n",
        "\n",
        "dicc[\"name\"] = input(\"Introduzca su nombre: \")\n",
        "dicc[\"surname\"] = input(\"Introduzca sus apellidos: \")\n",
        "dicc[\"age\"] = int(input(\"Introduzca su edad: \"))\n",
        "dicc[\"color\"] = input(\"Introduzca su color favorito: \")\n",
        "nombre_archivo = dicc.values()\n",
        "\n",
        "f = open(f\"/content/txt/user_data.txt\", mode = \"w\")\n",
        "f.write(\"El nombre del usuario es \" + dicc.get(\"name\") + \"\\n\")\n",
        "f.write(\"El apellido del usuario es \" + dicc.get(\"surname\") + \"\\n\")\n",
        "f.write(\"La edad del usuario es \" + str(dicc.get(\"age\")) + \"\\n\") \n",
        "f.write(\"El color preferido del usuario es el \" + dicc.get(\"color\"))\n",
        "f.close()\n"
      ]
    },
    {
      "cell_type": "markdown",
      "source": [
        "Ejercicio 2\n",
        "\n",
        "Lee el archivo txt creado en el ejercicio anterior para ver que se ha creado correctamente."
      ],
      "metadata": {
        "id": "Fzs1x5T7VM_W"
      }
    },
    {
      "cell_type": "code",
      "source": [
        "with open(\"/content/txt/user_data.txt\") as f:\n",
        "  print(f.read())"
      ],
      "metadata": {
        "colab": {
          "base_uri": "https://localhost:8080/"
        },
        "id": "7MK1fSEbVMMX",
        "outputId": "7f55561f-f2d2-49b5-9707-ffe423f49f8c"
      },
      "execution_count": 28,
      "outputs": [
        {
          "output_type": "stream",
          "name": "stdout",
          "text": [
            "El nombre del usuario es Isa\n",
            "El apellido del usuario es Gongora\n",
            "La edad del usuario es 4\n",
            "El color preferido del usuario es el verde\n"
          ]
        }
      ]
    },
    {
      "cell_type": "markdown",
      "source": [
        "Ejercicio 3\n",
        "\n",
        "Crea un archivo txt vacío y llámalo ej3.txt."
      ],
      "metadata": {
        "id": "SWnSJcrCVk_s"
      }
    },
    {
      "cell_type": "code",
      "source": [
        "f = open(\"/content/txt/ej3.txt\", mode = \"x\")\n",
        "f.close()"
      ],
      "metadata": {
        "id": "-F5Xisd1VsR-"
      },
      "execution_count": 30,
      "outputs": []
    },
    {
      "cell_type": "markdown",
      "source": [
        "Ejercicio 4\n",
        "\n",
        "Elimina el archivo creado en el ejercicio 3."
      ],
      "metadata": {
        "id": "P6Ms26v4V_T4"
      }
    },
    {
      "cell_type": "code",
      "source": [
        "import os\n",
        "\n",
        "os.remove(\"/content/txt/ej3.txt\")"
      ],
      "metadata": {
        "id": "Qq0yMVXWWAyx"
      },
      "execution_count": 31,
      "outputs": []
    },
    {
      "cell_type": "markdown",
      "source": [
        "Ejercicio 5\n",
        "\n",
        "Crea un archivo txt vacío y llámalo ej5.txt. Sobreescribelo con las siguientes líneas:\n",
        "\n",
        "\"x,y,Color,Shape \\n\"\n",
        "\n",
        "\"1,1,#6fb7ff,< \\n\"\n",
        "\n",
        "\"-1,1,#ffa66f,v \\n\"\n",
        "\n",
        "\"-1,-1,#ffee6f,> \\n\"\n",
        "\n",
        "\"1,-1,#db6fff,^ \\n\""
      ],
      "metadata": {
        "id": "UUv-pTluWSbl"
      }
    },
    {
      "cell_type": "code",
      "source": [
        "f = open(f\"/content/txt/ej5.txt\", mode = \"w\")\n",
        "f.write(\"x,y,Color,Shape\\n\")\n",
        "f.write(\"1,1,#6fb7ff,<\\n\")\n",
        "f.write(\"-1,1,#ffa66f,v\\n\")\n",
        "f.write(\"-1,-1,#ffee6f,>\\n\")\n",
        "f.write(\"1,-1,#db6fff,^\\n\")\n",
        "f.close()"
      ],
      "metadata": {
        "id": "QkinC1kiWXV0"
      },
      "execution_count": 32,
      "outputs": []
    },
    {
      "cell_type": "markdown",
      "source": [
        "Ejercicio 6\n",
        "\n",
        "Lee el archivo txt del ejercicio 5 como si fuera un archivo csv. Guarda las filas del objeto reader en una lista llamada df. Al final tendrás una lista con 5 listas de tamaño 4."
      ],
      "metadata": {
        "id": "CC2DZWQIXPNE"
      }
    },
    {
      "cell_type": "code",
      "source": [
        "import csv\n",
        "\n",
        "df = []\n",
        "with open(\"/content/txt/ej5.txt\", \"r\") as f:\n",
        "    reader = csv.reader(f, skipinitialspace = False)\n",
        "    for row in reader:\n",
        "        df.append(row)\n",
        "    print(df)\n",
        "\n"
      ],
      "metadata": {
        "colab": {
          "base_uri": "https://localhost:8080/"
        },
        "id": "jqVYLBqSXTvm",
        "outputId": "168c4a7b-5d3c-44df-d966-ffff6133b26f"
      },
      "execution_count": 33,
      "outputs": [
        {
          "output_type": "stream",
          "name": "stdout",
          "text": [
            "[['x', 'y', 'Color', 'Shape'], ['1', '1', '#6fb7ff', '<'], ['-1', '1', '#ffa66f', 'v'], ['-1', '-1', '#ffee6f', '>'], ['1', '-1', '#db6fff', '^']]\n"
          ]
        }
      ]
    },
    {
      "cell_type": "markdown",
      "source": [
        "Ejercicio 7\n",
        "\n",
        "Utiliza el método .read_csv() de pandas para leer el contenido del txt del ejercicio 5 y guardarlo en un dataframe llamado df."
      ],
      "metadata": {
        "id": "Dgh6ZcWWaSc9"
      }
    },
    {
      "cell_type": "code",
      "source": [
        "import pandas as pd\n",
        "\n",
        "df = pd.read_csv(\"/content/txt/ej5.txt\")\n",
        "print(df)"
      ],
      "metadata": {
        "colab": {
          "base_uri": "https://localhost:8080/"
        },
        "id": "OA8ivUGcaXDd",
        "outputId": "0426360e-d246-41c0-da2e-171295c99861"
      },
      "execution_count": 84,
      "outputs": [
        {
          "output_type": "stream",
          "name": "stdout",
          "text": [
            "   x  y    Color Shape\n",
            "0  1  1  #6fb7ff     <\n",
            "1 -1  1  #ffa66f     v\n",
            "2 -1 -1  #ffee6f     >\n",
            "3  1 -1  #db6fff     ^\n"
          ]
        }
      ]
    },
    {
      "cell_type": "markdown",
      "source": [
        "Ejercicio 8\n",
        "\n",
        "Utiliza el dataframe df para representar los puntos cuyas coordenadas x están guardadas en la columna x y cuyas coordenadas y están guardadas en la columna y. Para ello utiliza el método .scatterplot() de seaborn.\n",
        "\n",
        "Pon de título “Puntos”. No muestres etiqueta en el eje horizontal ni en el eje vertical. Haz que el tamaño de la figure sea de 5 x 5 y que el tamaño de los puntos sea de 500."
      ],
      "metadata": {
        "id": "bGySH5AbpQj8"
      }
    },
    {
      "cell_type": "code",
      "source": [
        "from seaborn.utils import axlabel\n",
        "import seaborn as sns\n",
        "import matplotlib.pyplot as plt\n",
        "\n",
        "plt.figure(figsize=(5,5))\n",
        "plt.title(\"Puntos\")\n",
        "plt.xlabel(\" \")\n",
        "plt.ylabel(\" \")\n",
        "sns.scatterplot(data = df, x = \"x\", y = \"y\", size = 500, legend = False)\n",
        "\n",
        "plt.show()"
      ],
      "metadata": {
        "id": "Lb0Y5bvVpa79",
        "colab": {
          "base_uri": "https://localhost:8080/",
          "height": 487
        },
        "outputId": "519f963c-f280-47d0-a3e9-9dc05049e434"
      },
      "execution_count": 85,
      "outputs": [
        {
          "output_type": "display_data",
          "data": {
            "text/plain": [
              "<Figure size 500x500 with 1 Axes>"
            ],
            "image/png": "[encoded data removed]"
          },
          "metadata": {}
        }
      ]
    },
    {
      "cell_type": "markdown",
      "source": [
        "Ejercicio 9\n",
        "\n",
        "Modifica el gráfico anterior para que el color venga dado por la variable Color de df y la forma de los puntos, por la variable Shape."
      ],
      "metadata": {
        "id": "_TiREH_0ieT6"
      }
    },
    {
      "cell_type": "code",
      "source": [
        "import seaborn as sns\n",
        "import matplotlib.pyplot as plt\n",
        "\n",
        "plt.figure(figsize=(5,5))\n",
        "plt.title(\"Puntos\")\n",
        "plt.xlabel(\" \")\n",
        "plt.ylabel(\" \")\n",
        "sns.scatterplot(data = df, x = \"x\", y = \"y\", size = 500, color = df['Color'], legend = False, style = df['Shape'])\n",
        "\n",
        "plt.show()"
      ],
      "metadata": {
        "colab": {
          "base_uri": "https://localhost:8080/",
          "height": 487
        },
        "id": "eD9moYuZiikQ",
        "outputId": "aec3bcfd-d4bc-4a26-c84a-be2b1d88550f"
      },
      "execution_count": 90,
      "outputs": [
        {
          "output_type": "display_data",
          "data": {
            "text/plain": [
              "<Figure size 500x500 with 1 Axes>"
            ],
            "image/png": "[encoded data removed]"
          },
          "metadata": {}
        }
      ]
    },
    {
      "cell_type": "markdown",
      "source": [
        "Ejercicio 10\n",
        "\n",
        "Guarda en un csv la información de la lista data del ejercicio 6. Llama al archivo csv ej10.csv."
      ],
      "metadata": {
        "id": "RsXjDfD3ijX_"
      }
    },
    {
      "cell_type": "code",
      "source": [
        "with open(\"/content/txt/ej10.csv\", \"w\") as f:\n",
        "  writer = csv.writer(f)\n",
        "  writer.writerow(df.columns)\n",
        "  for row in df:\n",
        "    writer.writerow(df[row])"
      ],
      "metadata": {
        "id": "rp10k2Enim4o"
      },
      "execution_count": 118,
      "outputs": []
    }
  ]
}