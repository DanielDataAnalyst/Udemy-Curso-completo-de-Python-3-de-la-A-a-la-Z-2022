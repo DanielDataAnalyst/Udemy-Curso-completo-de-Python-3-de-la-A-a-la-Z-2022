{
  "nbformat": 4,
  "nbformat_minor": 0,
  "metadata": {
    "colab": {
      "provenance": []
    },
    "kernelspec": {
      "name": "python3",
      "display_name": "Python 3"
    }
  },
  "cells": [
    {
      "cell_type": "markdown",
      "metadata": {
        "id": "Mr1DJLy0l_k1"
      },
      "source": [
        "# La salida del templo"
      ]
    },
    {
      "cell_type": "markdown",
      "metadata": {
        "id": "HuZIMzGzmDdp"
      },
      "source": [
        "Entraron en la nueva sala y las puertas de piedra se cerraron tras ellos. Se giraron sobre sí mismos y observaron la gran y solitaria habitación en la que se encontraban.\n",
        "\n",
        "Volvían a estar entre 4 paredes de piedra tan altas como las anteriores. Esta vez solo 2 de ellas tenían una ventana pequeña y cuadrada en lo más alto. La pared que quedaba tras ellos tenía solamente la gran puerta por la que habían entrado. Y en la pared opuesta podía verse otra puerta muy diferente a todas las anteriores.\n",
        "\n",
        "Esta nueva puerta era un poco más pequeña y brillaba, pues era de oro macizo. Pero lo que más emocionó a Pyratilla y su tripulación fue que en letras grandes y brillantes ponía: SALIDA AL EXTERIOR. A punto estaban de correr hacia la puerta cuando en el centro de la habitación apareció un altar. Con cautela, los tres piratas se acercaron al altar.\n",
        "\n",
        "El primero en llegar fue Pyratilla y en voz alta empezó a leer:\n",
        "\n",
        "<dl>\n",
        "<dd>\"Esta es la prueba final:</dd>\n",
        "<dd>al superarla al exterior podrás salir</dd>\n",
        "<dd>un cuadrado perfecto vas a crear</dd>\n",
        "<dd>y para ello las instrucciones debes seguir.\"</dd>\n",
        "</dl>\n",
        "\n",
        "Al pronunciar la última palabra, el texto del altar cambió mágicamente y ahora se leía:\n",
        "\n",
        "<dl>\n",
        "<dd>\"INSTRUCCIONES:</dd>\n",
        "<dd>Utiliza el módulo numpy</dd>\n",
        "<dd>Dados los arrays a, b, c, d y e, concátenalos de modo que</dd>\n",
        "<dd>* sea un array bidimensional</dd>\n",
        "<dd>* su shape sea (5, 5)</dd>\n",
        "<dd>* cada fila sume 65</dd>\n",
        "<dd>* cada columna sume 65</dd>\n",
        "<dd>* cada diagonal sume 65</dd>\n",
        "<dd>PISTA: El número de la mala suerte ocupa el lugar central</dd>\n",
        "<dd>Cuando lo hayas construido,</dd>\n",
        "<dd>* comprueba la dimensión con el método correspondiente</dd>\n",
        "<dd>* comprueba la shape con el método correspondiente</dd>\n",
        "<dd>* comprueba que cada fila suma 65 con el método correspondiente</dd>\n",
        "<dd>* comprueba que cada columna suma 65 con el método correspondiente</dd>\n",
        "<dd>* comprueba que cada diagonal suma 65 con un método creado por ti</dd>\n",
        "<dd>* con el método .ndenumerate() indica los índices de los elementos que son mayores a la media de los elementos del array bidimensional construido y los que no lo son</dd>\n",
        "<dd>* muestra los elementos que sí han superado el filtro de ser mayores a la media de los elementos del array bidimensional construido\"</dd>\n",
        "\n",
        "</dl>\n"
      ]
    },
    {
      "cell_type": "code",
      "metadata": {
        "id": "pebuCyx2143l"
      },
      "source": [
        "import numpy as np"
      ],
      "execution_count": 1,
      "outputs": []
    },
    {
      "cell_type": "code",
      "source": [
        "a = np.array([[17, 5, 13, 21, 9]])\n",
        "b = np.array([[23, 6, 19, 2, 15]])\n",
        "c = np.array([[4, 12, 25, 8, 16]])\n",
        "d = np.array([[11, 24, 7, 20, 3]])\n",
        "e = np.array([[10, 18, 1, 14, 22]])\n",
        "\n",
        "f = np.concatenate((d,c,a,e,b), axis = 0)\n",
        "\n",
        "print(f)"
      ],
      "metadata": {
        "id": "cLCMRqWctZ9k"
      },
      "execution_count": null,
      "outputs": []
    },
    {
      "cell_type": "code",
      "source": [
        "print(f\"El array f tiene {f.ndim} dimensiones\")"
      ],
      "metadata": {
        "id": "ZO2Lh74gtf27"
      },
      "execution_count": null,
      "outputs": []
    },
    {
      "cell_type": "code",
      "source": [
        "print(f\"La shape del array es de {f.shape}\")"
      ],
      "metadata": {
        "id": "aaVrEpJItoN2"
      },
      "execution_count": null,
      "outputs": []
    },
    {
      "cell_type": "code",
      "source": [
        "for i in f:\n",
        "  print(f\"La suma de los elementos de la fila: {i} es {np.sum(i)}\\n\")"
      ],
      "metadata": {
        "id": "XMzZralytuUf"
      },
      "execution_count": null,
      "outputs": []
    },
    {
      "cell_type": "code",
      "source": [
        "for j in np.hsplit(f, 5):\n",
        "  print(f\"La suma de los elementos de la columna: \\n{j} es {np.sum(j)}\\n\")"
      ],
      "metadata": {
        "id": "pUG-O79It3f1"
      },
      "execution_count": null,
      "outputs": []
    },
    {
      "cell_type": "code",
      "source": [
        "def suma_diagonales(y):\n",
        "  n = y.shape[0]\n",
        "  suma_diag_principal = 0\n",
        "  suma_diag_secundaria = 0\n",
        "  \n",
        "  for i in range(n):\n",
        "    suma_diag_principal += y[i,i]\n",
        "    suma_diag_secundaria += y[i, (n-1) - i]\n",
        "\n",
        "  return (suma_diag_principal, suma_diag_secundaria)\n",
        "\n",
        "\n",
        "diag_principal, diag_secundaria = suma_diagonales(f) \n",
        "print(f\"La suma de la diagonal principal es {diag_principal}\")\n",
        "print(f\"La suma de la diagonal secundaria es {diag_secundaria}\\n\\n\")"
      ],
      "metadata": {
        "id": "zVritw_Vt9DJ"
      },
      "execution_count": null,
      "outputs": []
    },
    {
      "cell_type": "code",
      "source": [
        "for idx, k in np.ndenumerate(f):\n",
        "  cant_items = f.shape[0]*f.shape[1]\n",
        "  media = np.sum(f)/cant_items\n",
        "  if media < k:\n",
        "    print(f\"EL valor {k} que se encuentra en el indice {idx} es mayor a la media de los elementos del array bidimensional\")\n",
        "  else:\n",
        "    print(f\"EL valor {k} que se encuentra en el indice {idx} es menor a la media de los elementos del array bidimensional\")\n"
      ],
      "metadata": {
        "id": "GxnuSRb2uGCL"
      },
      "execution_count": null,
      "outputs": []
    },
    {
      "cell_type": "code",
      "metadata": {
        "id": "yfsmsaw916oh",
        "colab": {
          "base_uri": "https://localhost:8080/"
        },
        "outputId": "c22c532e-813b-4d50-9283-a162f87d8fca"
      },
      "source": [
        "f_mayor_media = f[f>media]\n",
        "print(f\"\\n\\nLos elementos mayor a la media son {f_mayor_media}\")"
      ],
      "execution_count": 19,
      "outputs": [
        {
          "output_type": "stream",
          "name": "stdout",
          "text": [
            "[[11 24  7 20  3]\n",
            " [ 4 12 25  8 16]\n",
            " [17  5 13 21  9]\n",
            " [10 18  1 14 22]\n",
            " [23  6 19  2 15]]\n",
            "El array f tiene 2 dimensiones\n",
            "La shape del array es de (5, 5)\n",
            "La suma de los elementos de la fila: [11 24  7 20  3] es 65\n",
            "\n",
            "La suma de los elementos de la fila: [ 4 12 25  8 16] es 65\n",
            "\n",
            "La suma de los elementos de la fila: [17  5 13 21  9] es 65\n",
            "\n",
            "La suma de los elementos de la fila: [10 18  1 14 22] es 65\n",
            "\n",
            "La suma de los elementos de la fila: [23  6 19  2 15] es 65\n",
            "\n",
            "La suma de los elementos de la columna: \n",
            "[[11]\n",
            " [ 4]\n",
            " [17]\n",
            " [10]\n",
            " [23]] es 65\n",
            "\n",
            "La suma de los elementos de la columna: \n",
            "[[24]\n",
            " [12]\n",
            " [ 5]\n",
            " [18]\n",
            " [ 6]] es 65\n",
            "\n",
            "La suma de los elementos de la columna: \n",
            "[[ 7]\n",
            " [25]\n",
            " [13]\n",
            " [ 1]\n",
            " [19]] es 65\n",
            "\n",
            "La suma de los elementos de la columna: \n",
            "[[20]\n",
            " [ 8]\n",
            " [21]\n",
            " [14]\n",
            " [ 2]] es 65\n",
            "\n",
            "La suma de los elementos de la columna: \n",
            "[[ 3]\n",
            " [16]\n",
            " [ 9]\n",
            " [22]\n",
            " [15]] es 65\n",
            "\n",
            "La suma de la diagonal principal es 65\n",
            "La suma de la diagonal secundaria es 65\n",
            "\n",
            "\n",
            "EL valor 11 que se encuentra en el indice (0, 0) es menor a la media de los elementos del array bidimensional\n",
            "EL valor 24 que se encuentra en el indice (0, 1) es mayor a la media de los elementos del array bidimensional\n",
            "EL valor 7 que se encuentra en el indice (0, 2) es menor a la media de los elementos del array bidimensional\n",
            "EL valor 20 que se encuentra en el indice (0, 3) es mayor a la media de los elementos del array bidimensional\n",
            "EL valor 3 que se encuentra en el indice (0, 4) es menor a la media de los elementos del array bidimensional\n",
            "EL valor 4 que se encuentra en el indice (1, 0) es menor a la media de los elementos del array bidimensional\n",
            "EL valor 12 que se encuentra en el indice (1, 1) es menor a la media de los elementos del array bidimensional\n",
            "EL valor 25 que se encuentra en el indice (1, 2) es mayor a la media de los elementos del array bidimensional\n",
            "EL valor 8 que se encuentra en el indice (1, 3) es menor a la media de los elementos del array bidimensional\n",
            "EL valor 16 que se encuentra en el indice (1, 4) es mayor a la media de los elementos del array bidimensional\n",
            "EL valor 17 que se encuentra en el indice (2, 0) es mayor a la media de los elementos del array bidimensional\n",
            "EL valor 5 que se encuentra en el indice (2, 1) es menor a la media de los elementos del array bidimensional\n",
            "EL valor 13 que se encuentra en el indice (2, 2) es menor a la media de los elementos del array bidimensional\n",
            "EL valor 21 que se encuentra en el indice (2, 3) es mayor a la media de los elementos del array bidimensional\n",
            "EL valor 9 que se encuentra en el indice (2, 4) es menor a la media de los elementos del array bidimensional\n",
            "EL valor 10 que se encuentra en el indice (3, 0) es menor a la media de los elementos del array bidimensional\n",
            "EL valor 18 que se encuentra en el indice (3, 1) es mayor a la media de los elementos del array bidimensional\n",
            "EL valor 1 que se encuentra en el indice (3, 2) es menor a la media de los elementos del array bidimensional\n",
            "EL valor 14 que se encuentra en el indice (3, 3) es mayor a la media de los elementos del array bidimensional\n",
            "EL valor 22 que se encuentra en el indice (3, 4) es mayor a la media de los elementos del array bidimensional\n",
            "EL valor 23 que se encuentra en el indice (4, 0) es mayor a la media de los elementos del array bidimensional\n",
            "EL valor 6 que se encuentra en el indice (4, 1) es menor a la media de los elementos del array bidimensional\n",
            "EL valor 19 que se encuentra en el indice (4, 2) es mayor a la media de los elementos del array bidimensional\n",
            "EL valor 2 que se encuentra en el indice (4, 3) es menor a la media de los elementos del array bidimensional\n",
            "EL valor 15 que se encuentra en el indice (4, 4) es mayor a la media de los elementos del array bidimensional\n",
            "\n",
            "\n",
            "Los elementos mayor a la media son [24 20 25 16 17 21 18 14 22 23 19 15]\n"
          ]
        }
      ]
    }
  ]
}