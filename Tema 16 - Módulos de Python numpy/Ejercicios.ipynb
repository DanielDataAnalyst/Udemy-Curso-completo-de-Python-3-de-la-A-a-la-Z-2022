{
  "nbformat": 4,
  "nbformat_minor": 0,
  "metadata": {
    "colab": {
      "provenance": []
    },
    "kernelspec": {
      "name": "python3",
      "display_name": "Python 3"
    },
    "language_info": {
      "name": "python"
    }
  },
  "cells": [
    {
      "cell_type": "markdown",
      "source": [
        "Ejercicio 1\n",
        "\n",
        "Crea un array unidimensional de 9 elementos y transfórmalo en un array 3D. Muestra la dimensión y la shape antes y después del reshape."
      ],
      "metadata": {
        "id": "KZ3XnQbHVDVl"
      }
    },
    {
      "cell_type": "code",
      "source": [
        "import numpy as np\n",
        "\n",
        "a = np.array([8, 89, 80, 58, 98, 25, 48, 26, 78])\n",
        "print(f\"La dimension de a  es {a.ndim}\")\n",
        "print(f\"La shape de a  es {a.shape}\")\n",
        "\n",
        "\n"
      ],
      "metadata": {
        "id": "0VBtiNwKVFv1",
        "colab": {
          "base_uri": "https://localhost:8080/"
        },
        "outputId": "3da9c202-501f-4c02-fcd8-9eac1421417b"
      },
      "execution_count": 18,
      "outputs": [
        {
          "output_type": "stream",
          "name": "stdout",
          "text": [
            "La dimension de a  es 1\n",
            "La shape de a  es (9,)\n"
          ]
        }
      ]
    },
    {
      "cell_type": "code",
      "source": [
        "b = a.reshape(1,3,3)\n",
        "print(b)\n",
        "print(f\"La dimension de b  es {b.ndim}\")\n",
        "print(f\"La shape de b  es {b.shape}\")"
      ],
      "metadata": {
        "colab": {
          "base_uri": "https://localhost:8080/"
        },
        "id": "s8GIjgO3YX2h",
        "outputId": "c7f8c7bf-ec1b-4cd8-fe96-28857d229d4b"
      },
      "execution_count": 21,
      "outputs": [
        {
          "output_type": "stream",
          "name": "stdout",
          "text": [
            "[[[ 8 89 80]\n",
            "  [58 98 25]\n",
            "  [48 26 78]]]\n",
            "La dimension de b  es 3\n",
            "La shape de b  es (1, 3, 3)\n"
          ]
        }
      ]
    },
    {
      "cell_type": "markdown",
      "source": [
        "Ejercicio 2\n",
        "\n",
        "Dados los arrays 2D [[-6, -5], [-4, -3], [-2, -1]] y [[1, 2], [3, 4], [5, 6]], concaténalos de modo que obtengas el array [[1, 2, -6, -5], [3, 4, -4, -3] [5, 6, -2, -1]]."
      ],
      "metadata": {
        "id": "W-tEutXXYtnm"
      }
    },
    {
      "cell_type": "code",
      "source": [
        "a1 = np.array([[-6, -5], [-4, -3], [-2, -1]])\n",
        "a2 = np.array([[1, 2], [3, 4], [5, 6]])\n",
        "\n",
        "c = np.concatenate((a2, a1), axis = 1)\n",
        "print(c)\n"
      ],
      "metadata": {
        "colab": {
          "base_uri": "https://localhost:8080/"
        },
        "id": "1C7oC3zXY3RP",
        "outputId": "ca726a61-f062-4002-afdf-bf45bedaf3d9"
      },
      "execution_count": 29,
      "outputs": [
        {
          "output_type": "stream",
          "name": "stdout",
          "text": [
            "[[ 1  2 -6 -5]\n",
            " [ 3  4 -4 -3]\n",
            " [ 5  6 -2 -1]]\n"
          ]
        }
      ]
    },
    {
      "cell_type": "markdown",
      "source": [
        "Ejercicio 3\n",
        "\n",
        "Dado el array 2D [[1, 2, 3], [-1, 0, 1], [4, 5, 6], [-4, 0, 4], [3, 2, 1], [-3,0, 3]], divídelo en 3 arrays 2D."
      ],
      "metadata": {
        "id": "IAZD4tQsaPyI"
      }
    },
    {
      "cell_type": "code",
      "source": [
        "d = [[1, 2, 3], [-1, 0, 1], [4, 5, 6], [-4, 0, 4], [3, 2, 1], [-3,0, 3]]\n",
        "\n",
        "e = np.array_split(d,3)\n",
        "\n",
        "for i in e:\n",
        "  print(i)"
      ],
      "metadata": {
        "colab": {
          "base_uri": "https://localhost:8080/"
        },
        "id": "6qva7qnTapgO",
        "outputId": "fdd9e4ea-4fad-4bec-b95d-b82338212407"
      },
      "execution_count": 35,
      "outputs": [
        {
          "output_type": "stream",
          "name": "stdout",
          "text": [
            "[[ 1  2  3]\n",
            " [-1  0  1]]\n",
            "[[ 4  5  6]\n",
            " [-4  0  4]]\n",
            "[[ 3  2  1]\n",
            " [-3  0  3]]\n"
          ]
        }
      ]
    },
    {
      "cell_type": "markdown",
      "source": [
        "Ejercicio 4\n",
        "\n",
        "Dado el array 2D [[\"ala\", \"delfín\", \"arroz\"], [\"cena\", \"kayak\", \"picnic\"],[\"hoja\", \"gato\", \"elle\"]], busca las palabras que sean palíndromos.\n",
        "\n",
        "PISTA: Necesitarás una función universal."
      ],
      "metadata": {
        "id": "CVw4t1ZXdNrP"
      }
    },
    {
      "cell_type": "code",
      "source": [
        "def is_palindrom(word):\n",
        "    \n",
        "    word = word.lower()\n",
        "    L = []\n",
        "    M = []\n",
        "    count=0\n",
        "\n",
        "    for i in word:\n",
        "      L.append(i)\n",
        "    for j in word:\n",
        "      M.append(j)\n",
        "    M.reverse()\n",
        "\n",
        "    for k in range(len(L)):\n",
        "      if M[k] == L[k]:\n",
        "        count += 1 \n",
        "      \n",
        "    if count == len(L):\n",
        "      return True\n",
        "    else:\n",
        "      return False\n",
        "\n",
        "is_palindrom = np.frompyfunc(is_palindrom, 1, 1)\n",
        "\n",
        "f = np.array([[\"ala\", \"delfín\", \"arroz\"], [\"cena\", \"kayak\", \"picnic\"],[\"hoja\", \"gato\", \"elle\"]])\n",
        "print(is_palindrom(f))"
      ],
      "metadata": {
        "colab": {
          "base_uri": "https://localhost:8080/"
        },
        "id": "YrG-TD3bdMx5",
        "outputId": "d7dc9b56-e27d-4011-e55e-1c07ee886294"
      },
      "execution_count": 47,
      "outputs": [
        {
          "output_type": "stream",
          "name": "stdout",
          "text": [
            "[[True False False]\n",
            " [False True False]\n",
            " [False False True]]\n"
          ]
        }
      ]
    },
    {
      "cell_type": "markdown",
      "source": [
        "Ejercicio 5\n",
        "\n",
        "Dado el array 1D [\"cena\", \"frío\", \"kayak\", \"remo\", \"sol\"]], ¿qué índice deberá ocupar el elemento “python” para que se mantenga el orden alfabético?"
      ],
      "metadata": {
        "id": "BtqP52sgmLRZ"
      }
    },
    {
      "cell_type": "code",
      "source": [
        "g = np.array([\"cena\", \"frío\", \"kayak\", \"remo\", \"sol\", \"python\"])\n",
        "h = np.searchsorted(g, \"python\")\n",
        "\n",
        "print(f\"El elemento python deberá ocupar el índice {h} para que se mantenga el orden alfabético\")"
      ],
      "metadata": {
        "colab": {
          "base_uri": "https://localhost:8080/"
        },
        "id": "BBdXY4DjmrPr",
        "outputId": "115a5d6d-1e88-4a03-8da2-8d24d1bfdbb0"
      },
      "execution_count": 51,
      "outputs": [
        {
          "output_type": "stream",
          "name": "stdout",
          "text": [
            "El elemento python deberá ocupar el índice 3 para que se mantenga el orden alfabético\n"
          ]
        }
      ]
    },
    {
      "cell_type": "markdown",
      "source": [
        "Ejercicio 6\n",
        "\n",
        "Crea un minijuego que piense un número aleatorio entre 1 y 10 y, hasta que no lo aciertes, te pida un número del 1 al 10. Cuando aciertes, tendrá que devolver el número de intentos y la frase: “¡¡¡ENHORABUENA!!! Has acertado el número que había pensado: el {}”. En caso de que falles, el juego deberá mostrar la frase:\n",
        "“¡Has fallado! ¡Prueba otra vez!”"
      ],
      "metadata": {
        "id": "KWPCgThun2TX"
      }
    },
    {
      "cell_type": "code",
      "source": [
        "from numpy import random \n",
        "\n",
        "x = int(input(\"Introduzca un numero del 1 al 10: \"))\n",
        "y = random.randint(10)\n",
        "\n",
        "while x != y:\n",
        "  print(\"¡Has fallado! ¡Prueba otra vez!\")\n",
        "  x = int(input(\"Introduzca un numero del 1 al 10: \"))\n",
        "  \n",
        "print(f\"¡¡¡ENHORABUENA!!! Has acertado el número que había pensado: el {y}\")\n"
      ],
      "metadata": {
        "colab": {
          "base_uri": "https://localhost:8080/"
        },
        "id": "XDetuyUVoBLQ",
        "outputId": "7ca5c9c8-7f6e-4803-eb68-3a565da384e6"
      },
      "execution_count": 60,
      "outputs": [
        {
          "output_type": "stream",
          "name": "stdout",
          "text": [
            "Introduzca un numero del 1 al 10: 1\n",
            "¡Has fallado! ¡Prueba otra vez!\n",
            "Introduzca un numero del 1 al 10: 2\n",
            "¡Has fallado! ¡Prueba otra vez!\n",
            "Introduzca un numero del 1 al 10: 3\n",
            "¡Has fallado! ¡Prueba otra vez!\n",
            "Introduzca un numero del 1 al 10: 4\n",
            "¡¡¡ENHORABUENA!!! Has acertado el número que había pensado: el 4\n"
          ]
        }
      ]
    },
    {
      "cell_type": "markdown",
      "source": [
        "Ejercicio 7\n",
        "\n",
        "Crea un minijuego que piense un array 1D aleatorio de 5 elementos. Los elementos serán números enteros entre 1 y 20. Para cada intento, primero tendrá que pedir 5 números enteros del 1 al 20. El juego nos tendrá que decir cuántos números del array hemos acertado y cuántos números del array están bien colocados. El juego no termina hasta que no se hayan acertado todos los números pensados en la posición correspondiente. Al acabar, se tendrá que mostrar la frase: “¡¡¡ENHORABUENA!!! Has acertado el array que había pensado: {}”"
      ],
      "metadata": {
        "id": "n-zt_NDv9FRB"
      }
    },
    {
      "cell_type": "code",
      "source": [
        "from numpy import random \n",
        "\n",
        "y = random.randint(20, size = 5)\n",
        "print(y)\n",
        "count_equal_position = 0\n",
        "count_equal = 0\n",
        "\n",
        "while count_equal_position != 5 and count_equal != 5:\n",
        "  L = []\n",
        "  while len(L) < 5:\n",
        "    x = int(input(\"Introduzca un numero del 1 al 20: \"))\n",
        "    if x > 20 or x < 1:\n",
        "      print(\"El numero introducido esta fuera del rango especificado\")\n",
        "    else:\n",
        "      L.append(x)\n",
        "  z = np.array(L)\n",
        "\n",
        "  for i in range(len(y)):\n",
        "    if y[i] == z[i]:\n",
        "      count_equal_position += 1\n",
        "\n",
        "  for j in range(len(y)):\n",
        "    if y[j] in z:\n",
        "      count_equal += 1\n",
        "\n",
        "  print(f\"Has acertado {count_equal} numeros y {count_equal_position} posiciones\")\n",
        "\n",
        "print(f\"¡¡¡ENHORABUENA!!! Has acertado el array que había pensado: {y}\")\n",
        "\n"
      ],
      "metadata": {
        "colab": {
          "base_uri": "https://localhost:8080/"
        },
        "id": "8jTm9Mne9jal",
        "outputId": "fc27f7a2-8683-4602-8e4e-897798ee73c8"
      },
      "execution_count": 93,
      "outputs": [
        {
          "output_type": "stream",
          "name": "stdout",
          "text": [
            "[14 14  4 16 16]\n",
            "Introduzca un numero del 1 al 20: 14\n",
            "Introduzca un numero del 1 al 20: 14\n",
            "Introduzca un numero del 1 al 20: 4\n",
            "Introduzca un numero del 1 al 20: 16\n",
            "Introduzca un numero del 1 al 20: 16\n",
            "Has acertado 5 numeros y 5 posiciones\n",
            "¡¡¡ENHORABUENA!!! Has acertado el array que había pensado: [14 14  4 16 16]\n"
          ]
        }
      ]
    },
    {
      "cell_type": "markdown",
      "source": [
        "Ejercicio 8\n",
        "\n",
        "A partir de la lista [-3, -2, -1, 0, 1, 2, 3], genera dos arrays aleatorios 2D de size = (3, 4) y súmalos."
      ],
      "metadata": {
        "id": "7urxHYewSpc-"
      }
    },
    {
      "cell_type": "code",
      "source": [
        "list_number = [-3, -2, -1, 0, 1, 2, 3]\n",
        "\n",
        "array1 = random.choice(list_number, size = (3, 4))\n",
        "array2 = random.choice(list_number, size = (3, 4))\n",
        "\n",
        "print(np.add(array1,array2))"
      ],
      "metadata": {
        "colab": {
          "base_uri": "https://localhost:8080/"
        },
        "id": "g4NE6sw2SvTS",
        "outputId": "65af9ea7-8ea2-49ab-a5aa-7e794a7d75e0"
      },
      "execution_count": 92,
      "outputs": [
        {
          "output_type": "stream",
          "name": "stdout",
          "text": [
            "[[ 1  4 -3  4]\n",
            " [ 4  1  0  0]\n",
            " [ 0  0  1  5]]\n"
          ]
        }
      ]
    },
    {
      "cell_type": "markdown",
      "source": [
        "Ejercicio 9\n",
        "\n",
        "Crea una función universal que dado un array de strings devuelva el número total de vocales de cada string."
      ],
      "metadata": {
        "id": "6ugMXancTqpf"
      }
    },
    {
      "cell_type": "code",
      "source": [
        "def count_vocals(word):\n",
        "    \n",
        "  word = word.lower()\n",
        "  count=0\n",
        "\n",
        "  for i in word:\n",
        "    if i in [\"a\", \"á\", \"e\", \"é\", \"i\", \"í\", \"o\", \"ó\", \"u\", \"ú\"]:\n",
        "      count += 1\n",
        "  return count\n",
        "\n",
        "count_vocals = np.frompyfunc(count_vocals, 1, 1)\n",
        "\n",
        "f = np.array([[\"ala\", \"delfín\", \"arroz\"], [\"cena\", \"kayak\", \"picnic\"],[\"hoja\", \"gato\", \"elle\"]])\n",
        "\n",
        "print(count_vocals(f))\n"
      ],
      "metadata": {
        "colab": {
          "base_uri": "https://localhost:8080/"
        },
        "id": "anahHs8XTteC",
        "outputId": "b98cedab-621e-4a83-aabf-d592000f710f"
      },
      "execution_count": 105,
      "outputs": [
        {
          "output_type": "stream",
          "name": "stdout",
          "text": [
            "[[2 2 2]\n",
            " [2 2 2]\n",
            " [2 2 2]]\n"
          ]
        }
      ]
    },
    {
      "cell_type": "markdown",
      "source": [
        "Ejercicio 10\n",
        "\n",
        "Crea una función universal que dados un array 1D de valores string y conjunto de strings, compruebe para cada elemento del array 1D, si está presente o no en el conjunto."
      ],
      "metadata": {
        "id": "SsDBueO8W6qy"
      }
    },
    {
      "cell_type": "code",
      "source": [],
      "metadata": {
        "id": "rMkWQaLSXE1Y"
      },
      "execution_count": null,
      "outputs": []
    }
  ]
}