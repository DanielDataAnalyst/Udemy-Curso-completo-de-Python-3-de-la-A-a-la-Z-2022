{
  "nbformat": 4,
  "nbformat_minor": 0,
  "metadata": {
    "colab": {
      "provenance": []
    },
    "kernelspec": {
      "name": "python3",
      "display_name": "Python 3"
    },
    "language_info": {
      "name": "python"
    }
  },
  "cells": [
    {
      "cell_type": "markdown",
      "source": [
        "Ejercicio 1\n",
        "\n",
        "Muestra la veracidad de las siguientes propiedades de los logaritmos con 3 ejemplos diferentes en cada caso.\n",
        "En otras palabras, escoge 3 tríos de valores para a, b y c y comprueba que todas las propiedades se satisfacen:\n",
        "\n",
        "• loga(1) = 0 8a 2 R+\n",
        "\n",
        "• loga(a) = 1 8a 2 R+\n",
        "\n",
        "• loga(bn) = n loga(b) 8a, b 2 R+, n 2 Z\n",
        "\n",
        "• loga(b1n) = 1n loga(b) 8a, b 2 R+ n 2 Z\n",
        "\n",
        "• loga(b · c) = loga(b) + loga(c) 8a, b, c 2 R+\n",
        "\n",
        "• loga 􀀀 bc\n",
        "\u0001\n",
        "= loga(b) − loga(c) 8a, b, c 2 R+\n",
        "\n",
        "• loga(b) = logc(b)\n",
        "logc(a) 8a, b, c 2 R+"
      ],
      "metadata": {
        "id": "9-GpsynXXHD2"
      }
    },
    {
      "cell_type": "code",
      "execution_count": null,
      "metadata": {
        "colab": {
          "base_uri": "https://localhost:8080/"
        },
        "id": "OSmmQGqrBTgB",
        "outputId": "666b963f-0838-46ae-aca0-3c30a4b2cac8"
      },
      "outputs": [
        {
          "output_type": "stream",
          "name": "stdout",
          "text": [
            "(5,14,456,12)\n",
            "0.0\n",
            "1.0\n",
            "True\n",
            "True\n",
            "True\n",
            "True\n",
            "True\n",
            "(8,28,149,58)\n",
            "0.0\n",
            "1.0\n",
            "True\n",
            "True\n",
            "True\n",
            "True\n",
            "True\n",
            "(65,96,25,458)\n",
            "0.0\n",
            "1.0\n",
            "True\n",
            "True\n",
            "True\n",
            "True\n",
            "True\n"
          ]
        }
      ],
      "source": [
        "import math\n",
        "\n",
        "a, b, c, n = (5, 8, 65), (14, 28, 96), (456, 149, 25), (12, 58, 458)\n",
        "\n",
        "for i in range(3):\n",
        "  print(f\"({a[i]},{b[i]},{c[i]},{n[i]})\")\n",
        "  print(math.log(1, a[i]))\n",
        "  print(math.log(a[i], a[i]))\n",
        "  print(math.isclose(math.log((b[i]**c[i]), a[i]), c[i]*math.log(b[i], a[i])))\n",
        "  print(math.isclose(math.log((b[i]**(1/n[i])), a[i]), (1/n[i])*math.log(b[i], a[i])))\n",
        "  print(math.isclose(math.log(b[i]*c[i],a[i]), math.log(b[i],a[i]) + math.log(c[i],a[i])))\n",
        "  print(math.isclose(math.log(b[i]/c[i],a[i]), math.log(b[i],a[i]) - math.log(c[i],a[i])))\n",
        "  print(math.isclose(math.log(b[i], a[i]), math.log(b[i], c[i])/math.log(a[i], c[i])))\n"
      ]
    },
    {
      "cell_type": "markdown",
      "source": [
        "Ejercicio 2\n",
        "\n",
        "Crea una función que dado un número real representando grados lo transforme a radianes. Crea otra función que dado un valor real representando radianes lo transforme a grados.\n",
        "Comprueba que tus funciones calculan correctamente el resultado comparándolo con el obtenido con los métodos .degree() y .radians()\n",
        "\n",
        "EXTRA: Si en la primera función nos introducen un número fuera del intervalo [0, 360], devolver el equivalente en radianes dentro del intervalo [0, 2\u0019]. Y, para la segunda función, si nos introducen un valor fuera del intervalo [0, 2\u0019], devolver el equivalente en grados dentro del intervalo [0, 360]."
      ],
      "metadata": {
        "id": "UA1qAjTzXWnr"
      }
    },
    {
      "cell_type": "code",
      "source": [
        "def degrees_radians(degree):\n",
        "  import math\n",
        "  if degree <= 360 and degree >= 0:\n",
        "    return math.radians(degree)\n",
        "  else:\n",
        "    degree1 = degree % 360\n",
        "    return math.radians(degree1)\n",
        "\n",
        "def radians_degrees(radians):\n",
        "  import math\n",
        "  if radians <= math.tau and radians >= 0:\n",
        "    return math.degrees(radians)\n",
        "  else:\n",
        "    radians1 = radians % math.tau\n",
        "    return math.degrees(radians1)"
      ],
      "metadata": {
        "id": "kGCoqQhN06Bs"
      },
      "execution_count": null,
      "outputs": []
    },
    {
      "cell_type": "code",
      "source": [
        "radians_degrees(12.56637)"
      ],
      "metadata": {
        "colab": {
          "base_uri": "https://localhost:8080/"
        },
        "id": "9_v8OKFN1cXc",
        "outputId": "6abf2e91-4aac-46cd-c1f4-c1d10419cba8"
      },
      "execution_count": null,
      "outputs": [
        {
          "output_type": "execute_result",
          "data": {
            "text/plain": [
              "359.9999647998123"
            ]
          },
          "metadata": {},
          "execution_count": 75
        }
      ]
    },
    {
      "cell_type": "markdown",
      "source": [
        "Ejercicio 3\n",
        "\n",
        "Elige cualquier valor para \u000b y comprueba que\n",
        "\n",
        "sin2(\u000b) + cos2(\u000b) = 1\n",
        "\n",
        "tan(\u000b) = sin(\u000b)/cos(\u000b)"
      ],
      "metadata": {
        "id": "JZPkJn0bXexk"
      }
    },
    {
      "cell_type": "code",
      "source": [
        "a = 12\n",
        "\n",
        "print(math.isclose(math.sin(a)**2 + math.cos(a)**2, 1))\n",
        "\n",
        "print(math.isclose(math.tan(a), math.sin(a)/math.cos(a)) )"
      ],
      "metadata": {
        "colab": {
          "base_uri": "https://localhost:8080/"
        },
        "id": "6FPwJd_B5LUw",
        "outputId": "3ab80c55-bf8b-44a8-f059-58106e0f9862"
      },
      "execution_count": null,
      "outputs": [
        {
          "output_type": "stream",
          "name": "stdout",
          "text": [
            "True\n",
            "True\n"
          ]
        }
      ]
    },
    {
      "cell_type": "markdown",
      "source": [
        "Ejercicio 4\n",
        "\n",
        "Comprueba que, en Python, un número cualquiera dividido entre un número muy cercano a 0 sigue siendo considerado finito."
      ],
      "metadata": {
        "id": "FNIx3rDGXnES"
      }
    },
    {
      "cell_type": "code",
      "source": [
        "math.isfinite(50/0.0000000000000005)"
      ],
      "metadata": {
        "colab": {
          "base_uri": "https://localhost:8080/"
        },
        "id": "cK5prPK56ic3",
        "outputId": "644dcf16-6eb2-4f39-bc49-da9025303261"
      },
      "execution_count": null,
      "outputs": [
        {
          "output_type": "execute_result",
          "data": {
            "text/plain": [
              "True"
            ]
          },
          "metadata": {},
          "execution_count": 87
        }
      ]
    },
    {
      "cell_type": "markdown",
      "source": [
        "Ejercicio 5\n",
        "\n",
        "Elige valores enteros para n y k y comprueba si la siguiente igualdad es cierta:\n",
        "\u0012\n",
        "n\n",
        "k\n",
        "\u0013\n",
        "=\n",
        "\u0012\n",
        "n\n",
        "n − k\n",
        "\u0013"
      ],
      "metadata": {
        "id": "ktdfOUgYXrC8"
      }
    },
    {
      "cell_type": "code",
      "source": [
        "def choose(n, k):\n",
        "  if n >= k and k >= 0:\n",
        "    return math.factorial(n)/(math.factorial(k)*math.factorial(n-k)) \n",
        "  else:\n",
        "    return \"No es posible calcular el factorial indicado\""
      ],
      "metadata": {
        "id": "XA8fdcEk6xIX"
      },
      "execution_count": null,
      "outputs": []
    },
    {
      "cell_type": "markdown",
      "source": [
        "Ejercicio 6\n",
        "\n",
        "Transforma el complejo (1, -1) a coordenadas polares."
      ],
      "metadata": {
        "id": "Ru0FxW_HXvXL"
      }
    },
    {
      "cell_type": "code",
      "source": [
        "n, k = 50, 25\n",
        "\n",
        "choose(n, k) == choose(n, n-k)"
      ],
      "metadata": {
        "colab": {
          "base_uri": "https://localhost:8080/"
        },
        "id": "ycP9DrOj7rAU",
        "outputId": "5c91a1e8-99b7-4d35-bad1-111e2bd26bcf"
      },
      "execution_count": null,
      "outputs": [
        {
          "output_type": "execute_result",
          "data": {
            "text/plain": [
              "True"
            ]
          },
          "metadata": {},
          "execution_count": 90
        }
      ]
    },
    {
      "cell_type": "markdown",
      "source": [
        "Ejercicio 7\n",
        "\n",
        "Elige cualquier valor complejo para z y comprueba que\n",
        "sinh(z) = ez − e−z\n",
        "2\n",
        "\n",
        "cosh(z) = ez + e−z\n",
        "2"
      ],
      "metadata": {
        "id": "QfpZRR7EX1Jm"
      }
    },
    {
      "cell_type": "code",
      "source": [
        "import cmath\n",
        "\n",
        "cmath.polar(complex(2,9))"
      ],
      "metadata": {
        "colab": {
          "base_uri": "https://localhost:8080/"
        },
        "id": "NU7-HW5m829F",
        "outputId": "016e7dc1-45f3-431a-ef76-d54c1e9169e9"
      },
      "execution_count": null,
      "outputs": [
        {
          "output_type": "execute_result",
          "data": {
            "text/plain": [
              "(9.219544457292887, 1.3521273809209546)"
            ]
          },
          "metadata": {},
          "execution_count": 94
        }
      ]
    },
    {
      "cell_type": "markdown",
      "source": [
        "Ejercicio 8\n",
        "\n",
        "Elige cualquier valor complejo para z y comprueba que\n",
        "\n",
        "sinh(−z) = −sinh(z)\n",
        "\n",
        "cosh(−z) = cosh(z)"
      ],
      "metadata": {
        "id": "0O_en_pLX5yJ"
      }
    },
    {
      "cell_type": "code",
      "source": [
        "\n",
        "z = 3+12j\n",
        "\n",
        "cmath.isclose(cmath.sinh(z), (cmath.e**z - cmath.e**-z)/2)\n",
        "cmath.isclose(cmath.cosh(z), (cmath.e**z + cmath.e**-z)/2)"
      ],
      "metadata": {
        "colab": {
          "base_uri": "https://localhost:8080/"
        },
        "id": "LbmR9PHa78tw",
        "outputId": "e8e29783-cadb-442c-bbe1-5cf1387c4717"
      },
      "execution_count": null,
      "outputs": [
        {
          "output_type": "execute_result",
          "data": {
            "text/plain": [
              "True"
            ]
          },
          "metadata": {},
          "execution_count": 99
        }
      ]
    },
    {
      "cell_type": "markdown",
      "source": [
        "Ejercicio 9\n",
        "\n",
        "Comprueba que tan (x) = 0 siendo x múltiplo de \u0019. Prueba por ejemplo con los 10 primeros múltiplos negativos y positivos de \u0019."
      ],
      "metadata": {
        "id": "atTi_ynaX-kv"
      }
    },
    {
      "cell_type": "code",
      "source": [
        "z = complex(12,-6)\n",
        "\n",
        "cmath.sinh(-z) == -cmath.sinh(z)\n",
        "cmath.cosh(-z) == cmath.cosh(z)"
      ],
      "metadata": {
        "colab": {
          "base_uri": "https://localhost:8080/"
        },
        "id": "ufuTdAHo9x3O",
        "outputId": "a7916b20-8a68-4fd5-cbd4-c47d0c24ceff"
      },
      "execution_count": null,
      "outputs": [
        {
          "output_type": "execute_result",
          "data": {
            "text/plain": [
              "True"
            ]
          },
          "metadata": {},
          "execution_count": 101
        }
      ]
    },
    {
      "cell_type": "markdown",
      "source": [
        "Ejercicio 10\n",
        "\n",
        "Muestra con 3 ejemplos diferentes que la siguiente igualdad es cierta. Es decir, escoge valores diferentes para a, n y m, sustitúyelos y muestra que en ambos lados de la igualdad se obtiene el mismo resultado.\n",
        "\n",
        "am · an = am+n"
      ],
      "metadata": {
        "id": "OI4y85gcYB7n"
      }
    },
    {
      "cell_type": "code",
      "source": [
        "for i in range(-10,11):\n",
        "  print(math.isclose(math.tan(i*math.pi), 0, abs_tol = 0.01))"
      ],
      "metadata": {
        "colab": {
          "base_uri": "https://localhost:8080/"
        },
        "id": "EmeHotlq-IIk",
        "outputId": "5d806643-dfff-42bc-804b-4cf83b519f00"
      },
      "execution_count": null,
      "outputs": [
        {
          "output_type": "stream",
          "name": "stdout",
          "text": [
            "True\n",
            "True\n",
            "True\n",
            "True\n",
            "True\n",
            "True\n",
            "True\n",
            "True\n",
            "True\n",
            "True\n",
            "True\n",
            "True\n",
            "True\n",
            "True\n",
            "True\n",
            "True\n",
            "True\n",
            "True\n",
            "True\n",
            "True\n",
            "True\n"
          ]
        }
      ]
    },
    {
      "cell_type": "code",
      "source": [
        "a,m,n = (45,8,9) , (56,8,97) , (23,5,47)\n",
        "\n",
        "for i in range(3):\n",
        "  print(a[i]**m[i] * a[i]**n[i] == a[i]**(m[i]+n[i]))"
      ],
      "metadata": {
        "colab": {
          "base_uri": "https://localhost:8080/"
        },
        "id": "lFZ2Wqzw-zIc",
        "outputId": "3ef32e9a-8dfd-41d6-fd14-3f8218a0f623"
      },
      "execution_count": null,
      "outputs": [
        {
          "output_type": "stream",
          "name": "stdout",
          "text": [
            "True\n",
            "True\n",
            "True\n"
          ]
        }
      ]
    }
  ]
}