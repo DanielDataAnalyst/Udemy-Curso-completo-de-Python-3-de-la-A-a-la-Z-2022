{
  "nbformat": 4,
  "nbformat_minor": 0,
  "metadata": {
    "colab": {
      "provenance": []
    },
    "kernelspec": {
      "name": "python3",
      "display_name": "Python 3"
    },
    "language_info": {
      "name": "python"
    }
  },
  "cells": [
    {
      "cell_type": "markdown",
      "source": [
        "Ejercicio 1\n",
        "\n",
        "Haz que un usuario introduzca un número real y evalúa si dicho número es positivo, negativo o cero. Devuelve por pantalla el resultado en cada caso."
      ],
      "metadata": {
        "id": "5pRF7PsSX6co"
      }
    },
    {
      "cell_type": "code",
      "execution_count": null,
      "metadata": {
        "colab": {
          "base_uri": "https://localhost:8080/"
        },
        "id": "ErSIQBSakqVY",
        "outputId": "304c688e-2ffc-466f-aee1-cab1424b76ce"
      },
      "outputs": [
        {
          "output_type": "stream",
          "name": "stdout",
          "text": [
            "Introduzca un número: 24615\n",
            "El número 24615.0 es positivo\n"
          ]
        }
      ],
      "source": [
        "numero = float(input(\"Introduzca un número: \"))\n",
        "if numero < 0: \n",
        "  print(\"El número {} es negativo\".format(numero))\n",
        "elif numero == 0:\n",
        "  print(\"El número es 0\")\n",
        "elif numero > 0: \n",
        "  print(\"El número {} es positivo\".format(numero))"
      ]
    },
    {
      "cell_type": "markdown",
      "source": [
        "Ejercicio 2\n",
        "\n",
        "Haz que un usuario introduzca su nombre y evalúa con operadores if y else si dicho nombre tiene una longitud mayor a 10 caracteres o no. Devuelve por pantalla el resultado en cada caso."
      ],
      "metadata": {
        "id": "RGIKdVrRX-y4"
      }
    },
    {
      "cell_type": "code",
      "source": [
        "nombre = input(\"Introduzca su nombre: \")\n",
        "\n",
        "if len(nombre) > 10:\n",
        "  print(\"Su nombre tiene mas de 10 caracteres\")\n",
        "else:\n",
        "  print(\"Su nombre no tiene mas de 10 caracteres\")  "
      ],
      "metadata": {
        "colab": {
          "base_uri": "https://localhost:8080/"
        },
        "id": "p8gt-F8UmPpn",
        "outputId": "d8d0e22d-1a91-4b3e-894f-e2a18556ffd7"
      },
      "execution_count": null,
      "outputs": [
        {
          "output_type": "stream",
          "name": "stdout",
          "text": [
            "Introduzca su nombre: Daniel Enrique\n",
            "Su nombre tiene mas de 10 caracteres\n"
          ]
        }
      ]
    },
    {
      "cell_type": "markdown",
      "source": [
        "Ejercicio 3\n",
        "\n",
        "Realiza el ejercicio anterior con el uso del operador ternario."
      ],
      "metadata": {
        "id": "0fT3eonEYKhs"
      }
    },
    {
      "cell_type": "code",
      "source": [
        "nombre = input(\"Introduzca su nombre: \")\n",
        "print(\"Su nombre tiene mas de 10 caracteres\") if len(nombre) > 10 else print(\"Su nombre no tiene mas de 10 caracteres\")"
      ],
      "metadata": {
        "colab": {
          "base_uri": "https://localhost:8080/"
        },
        "id": "zHqFuUbAnctt",
        "outputId": "2758a8c5-03b7-4cc9-9e2c-c361070216da"
      },
      "execution_count": null,
      "outputs": [
        {
          "output_type": "stream",
          "name": "stdout",
          "text": [
            "Introduzca su nombre: Daniel\n",
            "Su nombre no tiene mas de 10 caracteres\n"
          ]
        }
      ]
    },
    {
      "cell_type": "markdown",
      "source": [
        "Ejercicio 4\n",
        "\n",
        "Haz que un usuario introduzca dos números enteros positivos. Comprueba si el primer número introducido por el usuario es mayor o igual que el segundo número introducido por el usuario. Devuelve por pantalla el resultado en cada caso.\n",
        "PISTA: Asegúrate de hacer uso de la función int() donde pertoque."
      ],
      "metadata": {
        "id": "K6I34OGwYOML"
      }
    },
    {
      "cell_type": "code",
      "source": [
        "numero1 = int(input(\"Introduzca el numero 1: \"))\n",
        "numero2 = int(input(\"Introduzca el numero 2: \"))\n",
        "\n",
        "if numero1 < numero2:\n",
        "  print(\"{} es menor que {}\".format(numero1, numero2))\n",
        "elif numero1 > numero2:\n",
        "  print(\"{} es mayor que {}\".format(numero1, numero2))\n",
        "else:\n",
        "  print(\"{} es igual que {}\".format(numero1, numero2))"
      ],
      "metadata": {
        "colab": {
          "base_uri": "https://localhost:8080/"
        },
        "id": "4XcMAQPfoCuW",
        "outputId": "a95fe8f9-d135-488f-c760-0459f9f892df"
      },
      "execution_count": null,
      "outputs": [
        {
          "output_type": "stream",
          "name": "stdout",
          "text": [
            "Introduzca el numero 1: 25\n",
            "Introduzca el numero 2: 5\n",
            "25 es mayor que 5\n"
          ]
        }
      ]
    },
    {
      "cell_type": "markdown",
      "source": [
        "Ejercicio 5\n",
        "\n",
        "Haz que un usuario introduzca dos números enteros positivos. Suponiendo que el primer número introducido por el usuario es mayor o igual al segundo número introducido por el usuario, comprueba que la división del primer número entre el segundo número es exacta.\n",
        "En caso de la división ser exacta, devuelve el cociente por pantalla e indica que la división en efecto es exacta.\n",
        "En caso de la división no ser exacta, devuelve el cociente y el resto por pantalla e indica que la división entre los dos números no es exacta."
      ],
      "metadata": {
        "id": "DOLFWRYvYVDv"
      }
    },
    {
      "cell_type": "code",
      "source": [
        "numero1 = int(input(\"Introduzca el numero 1: \"))\n",
        "numero2 = int(input(\"Introduzca el numero 2: \"))\n",
        "cociente = numero1 / numero2\n",
        "resto = numero1 % numero2\n",
        "\n",
        "if numero1 >= numero2 and numero1 >= 0 and numero2 >= 0:\n",
        "  if numero1 % numero2 == 0:\n",
        "    print (\"La division es exacta. El cociente es {}\".format(cociente))\n",
        "  else:\n",
        "    print (\"La division no es exacta. El cociente  es {} y el resto es {}\".format(cociente, resto))\n",
        "else:\n",
        "  print (\"Intente nuevamente. Debe introducir numeros positivos y el primer valor debe ser mayor o igual al segundo\")\n"
      ],
      "metadata": {
        "colab": {
          "base_uri": "https://localhost:8080/"
        },
        "id": "ECOJ5bTbuQWx",
        "outputId": "bc4679cb-9f5a-49ee-dc3a-7d4684da864a"
      },
      "execution_count": null,
      "outputs": [
        {
          "output_type": "stream",
          "name": "stdout",
          "text": [
            "Introduzca el numero 1: -2\n",
            "Introduzca el numero 2: 3\n",
            "Debe introducir numeros positivos y el primer valor debe ser mayor o igual al segundo\n"
          ]
        }
      ]
    },
    {
      "cell_type": "markdown",
      "source": [
        "Ejercicio 6\n",
        "Fusiona lo hecho en los ejercicios 4 y 5 para que\n",
        "1. Un usuario introduzca dos números enteros por pantalla.\n",
        "2. Comprobar si el primer número es mayor o igual al segundo número introducido por el usuario. Devolver por pantalla en que caso nos encontramos.\n",
        "3. Hacer la división entera pertinente en cada caso.\n",
        "4. Si la división es exacta, entonces devolver por pantalla el cociente e indicar que la división es exacta.\n",
        "Si la división no es exacta, entonces devolver por pantalla el cociente y el resto e indicar que la división realizada no es exacta."
      ],
      "metadata": {
        "id": "-WM8Sd0gaTWC"
      }
    },
    {
      "cell_type": "code",
      "source": [
        "numero1 = int(input(\"Introduzca el numero 1: \"))\n",
        "numero2 = int(input(\"Introduzca el numero 2: \"))\n",
        "cociente = numero1 / numero2\n",
        "resto = numero1 % numero2\n",
        "\n",
        "if numero1 >= numero2 and numero1 >= 0 and numero2 >= 0:\n",
        "  if numero1 % numero2 == 0:\n",
        "    print (\"El numero {} es mayor que {}. La division es exacta. El cociente es {}\".format(numero1, numero2, cociente))\n",
        "  else:\n",
        "    print (\"El numero {} es mayor que {}. La division no es exacta. El cociente  es {} y el resto es {}\".format(numero1, numero2, cociente, resto))\n",
        "elif numero1 < numero2 and numero1 >= 0 and numero2 >= 0:\n",
        "  print (\"Intente nuevamente. El primer valor debe ser mayor o igual al segundo\")\n",
        "else:\n",
        "  print (\"Intente nuevamente. Debe introducir numeros positivos\")"
      ],
      "metadata": {
        "colab": {
          "base_uri": "https://localhost:8080/"
        },
        "id": "EsMMQDQrxigt",
        "outputId": "80adddbf-17d3-416c-913b-14a525d417c5"
      },
      "execution_count": null,
      "outputs": [
        {
          "output_type": "stream",
          "name": "stdout",
          "text": [
            "Introduzca el numero 1: -20\n",
            "Introduzca el numero 2: 30\n",
            "Intente nuevamente. Debe introducir numeros positivos\n"
          ]
        }
      ]
    },
    {
      "cell_type": "markdown",
      "source": [
        "Ejercicio 7\n",
        "Haz que un usuario introduzca dos números enteros positivos. Comprueba si el mayor es múltiplo del menor.\n",
        "Devuelve por pantalla el resultado en cada caso."
      ],
      "metadata": {
        "id": "Ob6fjg0Wabz4"
      }
    },
    {
      "cell_type": "code",
      "source": [
        "numero1 = int(input(\"Introduzca el numero 1: \"))\n",
        "numero2 = int(input(\"Introduzca el numero 2: \"))\n",
        "\n",
        "if numero1 >= numero2 and numero1 >= 0 and numero2 >= 0:\n",
        "  if numero1 % numero2 == 0:\n",
        "    print (\"El numero {} es multiplo de {}\".format(numero1, numero2))\n",
        "  else:\n",
        "    print (\"El numero {} no es multiplo de {}\".format(numero1, numero2))\n",
        "elif numero1 < numero2 and numero1 >= 0 and numero2 >= 0:\n",
        "  if numero2 % numero1 == 0:\n",
        "    print (\"El numero {} es multiplo de {}\".format(numero2, numero1))\n",
        "  else:\n",
        "    print (\"El numero {} no es multiplo de {}\".format(numero2, numero1))\n",
        "else:\n",
        "  print (\"Intente nuevamente. Debe introducir numeros positivos\")"
      ],
      "metadata": {
        "colab": {
          "base_uri": "https://localhost:8080/"
        },
        "id": "EliPvJPQ3wOx",
        "outputId": "9a907868-bd11-473e-8c93-eedf0d7fc079"
      },
      "execution_count": null,
      "outputs": [
        {
          "output_type": "stream",
          "name": "stdout",
          "text": [
            "Introduzca el numero 1: 50\n",
            "Introduzca el numero 2: 60\n",
            "El numero 60 no es multiplo de 50\n"
          ]
        }
      ]
    },
    {
      "cell_type": "markdown",
      "source": [
        "Ejercicio 8\n",
        "Haz que un usuario introduzca una palabra y comprueba si dicha palabra empieza por mayúscula. Devuelve por pantalla el resultado en cada caso."
      ],
      "metadata": {
        "id": "5eCzfUGHaf3-"
      }
    },
    {
      "cell_type": "code",
      "source": [
        "palabra = input()\n",
        "\n",
        "if palabra.istitle():\n",
        "  print(\"La palabra {} comienza con mayúsculas\".format(palabra))\n",
        "else:  \n",
        "  print(\"La palabra {} NO comienza con mayúsculas\".format(palabra))"
      ],
      "metadata": {
        "colab": {
          "base_uri": "https://localhost:8080/"
        },
        "id": "UDmxK_Fk5928",
        "outputId": "ca665f87-d770-43da-e970-13269cde8eb3"
      },
      "execution_count": null,
      "outputs": [
        {
          "output_type": "stream",
          "name": "stdout",
          "text": [
            "vnfkj\n",
            "La palabra vnfkj NO comienza con mayúsculas\n"
          ]
        }
      ]
    },
    {
      "cell_type": "markdown",
      "source": [
        "Ejercicio 9\n",
        "Haz un usuario introduza una letra y comprueba si se trata de una vocal. Si el usuario introduce un string\n",
        "de más de un carácter, infórmale de que no se puede procesar el dato, pues debe tener como máximo tamaño 1.\n",
        "PISTA: Convierte la letra introducida a minúsculas para tener que realizar menos comprobaciones"
      ],
      "metadata": {
        "id": "obxPhMpmajeh"
      }
    },
    {
      "cell_type": "code",
      "source": [
        "letra = input()\n",
        "letra_min = letra.lower()\n",
        "if len(letra_min) == 1:\n",
        "  if letra_min == \"a\" or letra_min == \"e\" or letra_min == \"i\" or letra_min == \"o\" or letra_min == \"u\":\n",
        "    print(\"La letra introducida es una vocal\") \n",
        "  else: \n",
        "    print(\"La letra introducida NO es una vocal\") \n",
        "elif len(letra_min) == 0:\n",
        "  print(\"Introduzca una letra\")\n",
        "else: print(\"No se puede procesar el dato, debe tener como tamaño máximo 1\")\n",
        "  "
      ],
      "metadata": {
        "colab": {
          "base_uri": "https://localhost:8080/"
        },
        "id": "JUQtp1EP7IjJ",
        "outputId": "a9d899c4-1200-499e-d463-3cb22e866171"
      },
      "execution_count": null,
      "outputs": [
        {
          "output_type": "stream",
          "name": "stdout",
          "text": [
            "\n",
            "Introduzca una letra\n"
          ]
        }
      ]
    },
    {
      "cell_type": "markdown",
      "source": [
        "Ejercicio 10\n",
        "Dada una ecuación de segundo grado ax2 + bx + c = 0, sabemos que las soluciones vienen dadas por\n",
        "x = −b ±\n",
        "p\n",
        "b2 − 4ac\n",
        "2a\n",
        "siempre y cuando a 6= 0.\n",
        "El número de soluciones dentro del conjunto de los números reales R viene dado en función del signo\n",
        "que tome el discriminante, 4 = b2 \u0012 − 4ac. Si 4 > 0, entonces tendremos dos soluciones diferentes en R\n",
        "x = −b+\n",
        "p\n",
        "4\n",
        "2a y x = −b−\n",
        "p\n",
        "4\n",
        "2a\n",
        "\u0013\n",
        ". Si 4 = 0, entonces tendremos dos soluciones que serán iguales\n",
        "􀀀\n",
        "x = −b\n",
        "2a\n",
        "\u0001\n",
        ". Si\n",
        "4 < 0, entonces no existe solución dentro del conjunto de los números reales para esta ecuación de segundo grado.\n",
        "Con toda esta información, haz que el usuario introduzca los valores de los coeficientes a, b, c. Con ello,\n",
        "1. Comprueba que el coeficiente a es distinto de 0\n",
        "2. En función del discriminante, calcula cuántas soluciones va a tener la ecuación de segundo grado\n",
        "ax2 + bx + c = 0.\n",
        "3. Devuelve por pantalla el resultado en cada caso (tanto el número de soluciones en los números reales\n",
        "como el valor de éstas).\n",
        "PISTA: Para calcular la raíz cuadrada, vas a necesitar la función math.sqrt() de la librería math."
      ],
      "metadata": {
        "id": "E2DJ2cWqatCT"
      }
    },
    {
      "cell_type": "code",
      "source": [
        "a = float(input(\"Introduzca el valor de a: \"))\n",
        "b = float(input(\"Introduzca el valor de b: \"))\n",
        "c = float(input(\"Introduzca el valor de c: \"))\n",
        "delta = b**2 - 4*a*c\n",
        "\n",
        "if a > 0 or a < 0:\n",
        "  if delta > 0:\n",
        "    print(\"La ecuación de segundo grado tiene 2 soluciones, cuyos valores son {} y {}\".format((-b + math.sqrt(delta))/(2*a),(-b - math.sqrt(delta))/(2*a)))\n",
        "  elif delta == 0:\n",
        "    print(\"La ecuación de segundo grado tiene 1 solucion, cuyo valor es {}\".format(-b/(2*a)))\n",
        "  else: \n",
        "    print(\"No existe solución dentro del conjunto de los números reales\")  \n",
        "else: \n",
        "  print(\"No existe solución dentro del conjunto de los números reales\")"
      ],
      "metadata": {
        "colab": {
          "base_uri": "https://localhost:8080/"
        },
        "id": "eX3bxxukBfhJ",
        "outputId": "18bde55d-3b73-42bc-96ee-f11fc9b27f54"
      },
      "execution_count": null,
      "outputs": [
        {
          "output_type": "stream",
          "name": "stdout",
          "text": [
            "Introduzca el valor de a: 1\n",
            "Introduzca el valor de b: 2\n",
            "Introduzca el valor de c: 1\n",
            "La ecuación de segundo grado tiene 1 solucion, cuyo valor es -1.0\n"
          ]
        }
      ]
    },
    {
      "cell_type": "code",
      "source": [
        "    age = 20\n",
        "    name = \"Martin\"\n",
        "     \n",
        "    if age >= 18:\n",
        "      if name.startswith(\"M\") or name.startswith(\"m\"):\n",
        "        print(\"Eres mayor de edad pues tienes {} años y tu nombre, que es {}, empieza por M\".format(age, name))\n",
        "      else:\n",
        "        print(\"Eres mayor de edad pues tienes {} años\".format(age))\n",
        "    else:\n",
        "      print(\"Eres muy joven\")"
      ],
      "metadata": {
        "colab": {
          "base_uri": "https://localhost:8080/"
        },
        "id": "tmoMdLg4NRRl",
        "outputId": "efd26686-3d83-4fd7-d058-b8cd82cc79c6"
      },
      "execution_count": null,
      "outputs": [
        {
          "output_type": "stream",
          "name": "stdout",
          "text": [
            "Eres mayor de edad pues tienes 20 años y tu nombre, que es Martin, empieza por M\n"
          ]
        }
      ]
    },
    {
      "cell_type": "code",
      "source": [],
      "metadata": {
        "id": "wPKs9vJUOKm0"
      },
      "execution_count": null,
      "outputs": []
    },
    {
      "cell_type": "code",
      "source": [],
      "metadata": {
        "id": "vSgb1_U4NNbd"
      },
      "execution_count": null,
      "outputs": []
    },
    {
      "cell_type": "code",
      "source": [],
      "metadata": {
        "id": "28bqaCSZNF-l"
      },
      "execution_count": null,
      "outputs": []
    },
    {
      "cell_type": "code",
      "source": [
        "\n"
      ],
      "metadata": {
        "id": "Ak4uWvBANDqU"
      },
      "execution_count": null,
      "outputs": []
    },
    {
      "cell_type": "code",
      "source": [],
      "metadata": {
        "id": "xhnXqYCgM7ht"
      },
      "execution_count": null,
      "outputs": []
    },
    {
      "cell_type": "code",
      "source": [],
      "metadata": {
        "id": "JrOmPCyxMrsc"
      },
      "execution_count": null,
      "outputs": []
    },
    {
      "cell_type": "code",
      "source": [],
      "metadata": {
        "id": "eoLhWDkIMlNt"
      },
      "execution_count": null,
      "outputs": []
    },
    {
      "cell_type": "code",
      "source": [],
      "metadata": {
        "id": "GOQ28ixyMdCv"
      },
      "execution_count": null,
      "outputs": []
    },
    {
      "cell_type": "code",
      "source": [],
      "metadata": {
        "id": "ECLf_RweMVUv"
      },
      "execution_count": null,
      "outputs": []
    },
    {
      "cell_type": "code",
      "source": [],
      "metadata": {
        "id": "CQ8bHcMNMSuU"
      },
      "execution_count": null,
      "outputs": []
    },
    {
      "cell_type": "code",
      "source": [],
      "metadata": {
        "id": "3zOrHvBGLtVJ"
      },
      "execution_count": null,
      "outputs": []
    },
    {
      "cell_type": "code",
      "source": [],
      "metadata": {
        "id": "_HbbOrDYLl4F"
      },
      "execution_count": null,
      "outputs": []
    },
    {
      "cell_type": "code",
      "source": [],
      "metadata": {
        "id": "iLBpqTLrKw_W"
      },
      "execution_count": null,
      "outputs": []
    },
    {
      "cell_type": "code",
      "source": [],
      "metadata": {
        "id": "5aTST3-8KvrU"
      },
      "execution_count": null,
      "outputs": []
    },
    {
      "cell_type": "code",
      "source": [],
      "metadata": {
        "id": "crWFlaG3KrXQ"
      },
      "execution_count": null,
      "outputs": []
    },
    {
      "cell_type": "code",
      "source": [],
      "metadata": {
        "id": "-hjeHZP8KBnj"
      },
      "execution_count": null,
      "outputs": []
    },
    {
      "cell_type": "code",
      "source": [],
      "metadata": {
        "id": "r4lsjKqJBaeI"
      },
      "execution_count": null,
      "outputs": []
    },
    {
      "cell_type": "code",
      "source": [],
      "metadata": {
        "id": "r45g8i07BYsB"
      },
      "execution_count": null,
      "outputs": []
    },
    {
      "cell_type": "code",
      "source": [],
      "metadata": {
        "id": "5QNJtkK5BVFK"
      },
      "execution_count": null,
      "outputs": []
    },
    {
      "cell_type": "code",
      "source": [],
      "metadata": {
        "id": "8QdXk2rHBBUZ"
      },
      "execution_count": null,
      "outputs": []
    },
    {
      "cell_type": "code",
      "source": [],
      "metadata": {
        "id": "r2SoPBpVAxon"
      },
      "execution_count": null,
      "outputs": []
    },
    {
      "cell_type": "code",
      "source": [],
      "metadata": {
        "id": "U5pk10A1Al2k"
      },
      "execution_count": null,
      "outputs": []
    },
    {
      "cell_type": "code",
      "source": [],
      "metadata": {
        "id": "bGxZ567_AiQu"
      },
      "execution_count": null,
      "outputs": []
    },
    {
      "cell_type": "code",
      "source": [],
      "metadata": {
        "id": "ytpTmEv4AdLY"
      },
      "execution_count": null,
      "outputs": []
    },
    {
      "cell_type": "code",
      "source": [],
      "metadata": {
        "id": "E0k2wAv2Aa7y"
      },
      "execution_count": null,
      "outputs": []
    },
    {
      "cell_type": "code",
      "source": [],
      "metadata": {
        "id": "kKRK89DpALLv"
      },
      "execution_count": null,
      "outputs": []
    },
    {
      "cell_type": "code",
      "source": [],
      "metadata": {
        "id": "QiZCp2vTAEbl"
      },
      "execution_count": null,
      "outputs": []
    },
    {
      "cell_type": "code",
      "source": [
        "aeio"
      ],
      "metadata": {
        "id": "7UzkXqPoAA2Z"
      },
      "execution_count": null,
      "outputs": []
    },
    {
      "cell_type": "code",
      "source": [],
      "metadata": {
        "id": "RhDYLQwJ_4I6"
      },
      "execution_count": null,
      "outputs": []
    },
    {
      "cell_type": "code",
      "source": [],
      "metadata": {
        "id": "HZWNykAE_YZ8"
      },
      "execution_count": null,
      "outputs": []
    },
    {
      "cell_type": "code",
      "source": [],
      "metadata": {
        "id": "QaYeIRdy_F_m"
      },
      "execution_count": null,
      "outputs": []
    },
    {
      "cell_type": "code",
      "source": [],
      "metadata": {
        "id": "FuL7SCEF-5c4"
      },
      "execution_count": null,
      "outputs": []
    },
    {
      "cell_type": "code",
      "source": [],
      "metadata": {
        "id": "lOl3jqIj-x3F"
      },
      "execution_count": null,
      "outputs": []
    },
    {
      "cell_type": "code",
      "source": [],
      "metadata": {
        "id": "4Ng0NLKq-slI"
      },
      "execution_count": null,
      "outputs": []
    },
    {
      "cell_type": "code",
      "source": [],
      "metadata": {
        "id": "tkdDfcAy-i27"
      },
      "execution_count": null,
      "outputs": []
    },
    {
      "cell_type": "code",
      "source": [],
      "metadata": {
        "id": "FT02QqSM7FLy"
      },
      "execution_count": null,
      "outputs": []
    },
    {
      "cell_type": "code",
      "source": [],
      "metadata": {
        "id": "1A1KjvnZ7C0E"
      },
      "execution_count": null,
      "outputs": []
    },
    {
      "cell_type": "code",
      "source": [],
      "metadata": {
        "id": "C2hwWDt_6_l3"
      },
      "execution_count": null,
      "outputs": []
    },
    {
      "cell_type": "code",
      "source": [],
      "metadata": {
        "id": "UN5OeDhd54y1"
      },
      "execution_count": null,
      "outputs": []
    },
    {
      "cell_type": "code",
      "source": [],
      "metadata": {
        "id": "gM3uWyi43sU-"
      },
      "execution_count": null,
      "outputs": []
    },
    {
      "cell_type": "code",
      "source": [],
      "metadata": {
        "id": "StHBfV8W3o3E"
      },
      "execution_count": null,
      "outputs": []
    },
    {
      "cell_type": "code",
      "source": [],
      "metadata": {
        "id": "fi8LSnzq3maj"
      },
      "execution_count": null,
      "outputs": []
    },
    {
      "cell_type": "code",
      "source": [],
      "metadata": {
        "id": "NCIy5BnZ3e5O"
      },
      "execution_count": null,
      "outputs": []
    },
    {
      "cell_type": "code",
      "source": [],
      "metadata": {
        "id": "cFQSH4mMxeI-"
      },
      "execution_count": null,
      "outputs": []
    },
    {
      "cell_type": "code",
      "source": [],
      "metadata": {
        "id": "EJjozeB7xbEr"
      },
      "execution_count": null,
      "outputs": []
    },
    {
      "cell_type": "code",
      "source": [],
      "metadata": {
        "id": "3fKCWIQqxYUZ"
      },
      "execution_count": null,
      "outputs": []
    },
    {
      "cell_type": "code",
      "source": [],
      "metadata": {
        "id": "dc-qmbtMxWN8"
      },
      "execution_count": null,
      "outputs": []
    },
    {
      "cell_type": "code",
      "source": [],
      "metadata": {
        "id": "8DfSnoMOuOFr"
      },
      "execution_count": null,
      "outputs": []
    },
    {
      "cell_type": "code",
      "source": [],
      "metadata": {
        "id": "vkUfQQoDt9xK"
      },
      "execution_count": null,
      "outputs": []
    },
    {
      "cell_type": "code",
      "source": [],
      "metadata": {
        "id": "gI5cRyFxtsUi"
      },
      "execution_count": null,
      "outputs": []
    },
    {
      "cell_type": "code",
      "source": [],
      "metadata": {
        "id": "-ucNeT_itovV"
      },
      "execution_count": null,
      "outputs": []
    },
    {
      "cell_type": "code",
      "source": [],
      "metadata": {
        "id": "iQQB2QWdtgs5"
      },
      "execution_count": null,
      "outputs": []
    },
    {
      "cell_type": "code",
      "source": [
        "5"
      ],
      "metadata": {
        "id": "pOg-PuzItXTt"
      },
      "execution_count": null,
      "outputs": []
    },
    {
      "cell_type": "code",
      "source": [],
      "metadata": {
        "id": "vvKjg_PEtBo5"
      },
      "execution_count": null,
      "outputs": []
    },
    {
      "cell_type": "code",
      "source": [],
      "metadata": {
        "id": "84UfZP3zs5_9"
      },
      "execution_count": null,
      "outputs": []
    },
    {
      "cell_type": "code",
      "source": [],
      "metadata": {
        "id": "ht5GDZBqs39u"
      },
      "execution_count": null,
      "outputs": []
    },
    {
      "cell_type": "code",
      "source": [],
      "metadata": {
        "id": "mcQ4OUKNsxbK"
      },
      "execution_count": null,
      "outputs": []
    },
    {
      "cell_type": "code",
      "source": [
        "25"
      ],
      "metadata": {
        "id": "QsoxTa9qsrxL"
      },
      "execution_count": null,
      "outputs": []
    },
    {
      "cell_type": "code",
      "source": [
        "2"
      ],
      "metadata": {
        "id": "6ILemz0jsZml"
      },
      "execution_count": null,
      "outputs": []
    },
    {
      "cell_type": "code",
      "source": [
        "2"
      ],
      "metadata": {
        "id": "Xl9MsMvyr5ii"
      },
      "execution_count": null,
      "outputs": []
    },
    {
      "cell_type": "code",
      "source": [],
      "metadata": {
        "id": "8phbjKeyqmeN"
      },
      "execution_count": null,
      "outputs": []
    },
    {
      "cell_type": "code",
      "source": [
        "2"
      ],
      "metadata": {
        "id": "sUcj2jRqqchU"
      },
      "execution_count": null,
      "outputs": []
    },
    {
      "cell_type": "code",
      "source": [],
      "metadata": {
        "id": "PFkkeKVjqLqz"
      },
      "execution_count": null,
      "outputs": []
    },
    {
      "cell_type": "code",
      "source": [],
      "metadata": {
        "id": "eaM77WTdqDkV"
      },
      "execution_count": null,
      "outputs": []
    },
    {
      "cell_type": "code",
      "source": [],
      "metadata": {
        "id": "_A2kDfwAp_OK"
      },
      "execution_count": null,
      "outputs": []
    },
    {
      "cell_type": "code",
      "source": [],
      "metadata": {
        "id": "rqjlha8Vp7wK"
      },
      "execution_count": null,
      "outputs": []
    },
    {
      "cell_type": "code",
      "source": [],
      "metadata": {
        "id": "SctprcTlp2dM"
      },
      "execution_count": null,
      "outputs": []
    },
    {
      "cell_type": "code",
      "source": [],
      "metadata": {
        "id": "t2YWmihApvgh"
      },
      "execution_count": null,
      "outputs": []
    },
    {
      "cell_type": "code",
      "source": [],
      "metadata": {
        "id": "vjYaTE7ApaDL"
      },
      "execution_count": null,
      "outputs": []
    },
    {
      "cell_type": "code",
      "source": [],
      "metadata": {
        "id": "h8a-yoGroARc"
      },
      "execution_count": null,
      "outputs": []
    },
    {
      "cell_type": "code",
      "source": [],
      "metadata": {
        "id": "IMqLPRIPnZgf"
      },
      "execution_count": null,
      "outputs": []
    },
    {
      "cell_type": "code",
      "source": [],
      "metadata": {
        "id": "K7cK91kFnVha"
      },
      "execution_count": null,
      "outputs": []
    },
    {
      "cell_type": "code",
      "source": [],
      "metadata": {
        "id": "zxVT7IDZmODM"
      },
      "execution_count": null,
      "outputs": []
    },
    {
      "cell_type": "code",
      "source": [],
      "metadata": {
        "id": "P8k_xZIGmLTS"
      },
      "execution_count": null,
      "outputs": []
    },
    {
      "cell_type": "code",
      "source": [],
      "metadata": {
        "id": "sj-RxErEmNSf"
      },
      "execution_count": null,
      "outputs": []
    },
    {
      "cell_type": "code",
      "source": [],
      "metadata": {
        "id": "XhZRO3WEl6lv"
      },
      "execution_count": null,
      "outputs": []
    },
    {
      "cell_type": "code",
      "source": [],
      "metadata": {
        "id": "yyW2Lgwql2O_"
      },
      "execution_count": null,
      "outputs": []
    },
    {
      "cell_type": "code",
      "source": [],
      "metadata": {
        "id": "wEJ_s3ySlxoa"
      },
      "execution_count": null,
      "outputs": []
    },
    {
      "cell_type": "code",
      "source": [],
      "metadata": {
        "id": "rE2YOBVblrv9"
      },
      "execution_count": null,
      "outputs": []
    },
    {
      "cell_type": "code",
      "source": [],
      "metadata": {
        "id": "obu28lgjlOEo"
      },
      "execution_count": null,
      "outputs": []
    }
  ]
}