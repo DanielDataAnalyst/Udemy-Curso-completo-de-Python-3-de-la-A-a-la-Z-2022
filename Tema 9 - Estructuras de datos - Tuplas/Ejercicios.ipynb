{
  "nbformat": 4,
  "nbformat_minor": 0,
  "metadata": {
    "colab": {
      "provenance": []
    },
    "kernelspec": {
      "name": "python3",
      "display_name": "Python 3"
    },
    "language_info": {
      "name": "python"
    }
  },
  "cells": [
    {
      "cell_type": "code",
      "execution_count": null,
      "metadata": {
        "colab": {
          "base_uri": "https://localhost:8080/"
        },
        "id": "FG6BG1XHQyGT",
        "outputId": "bc08f7fe-036f-4367-e70d-4f15660aca56"
      },
      "outputs": [
        {
          "name": "stdout",
          "output_type": "stream",
          "text": [
            "Cuantas numeros introducira?: 3\n",
            "Introduzca el numero 1: 6\n",
            "Introduzca el numero 2: 5\n",
            "Introduzca el numero 3: 10\n"
          ]
        },
        {
          "output_type": "execute_result",
          "data": {
            "text/plain": [
              "((6, 'par'), (5, 'impar'), (10, 'par'))"
            ]
          },
          "metadata": {},
          "execution_count": 13
        }
      ],
      "source": [
        "n = int(input(\"Cuantas numeros introducira?: \"))\n",
        "list_number = []\n",
        "paridad = []\n",
        "\n",
        "for i in range(n):\n",
        "  number = int(input(f\"Introduzca el numero {i+1}: \"))\n",
        "  list_number.append(number)\n",
        "  if number % 2 == 0:\n",
        "    paridad.append(\"par\")\n",
        "  else:\n",
        "    paridad.append(\"impar\")\n",
        "\n",
        "paridad_numeros = zip(list_number,paridad)\n",
        "tuple(paridad_numeros)\n",
        "\n"
      ]
    },
    {
      "cell_type": "code",
      "source": [
        "horoscopo = [\"Mono\", \"Gallo\", \"Perro\", \"Cerdo\", \"Rata\", \"Buey\", \"Tigre\", \"Conejo\", \"Dragon\", \"Serpiente\", \"Caballo\",\"Cabra\"]\n",
        "C = ()\n",
        "\n",
        "year = int(input(\"Introduzca el año de nacimiento: \"))\n",
        "\n",
        "for i in range(len(horoscopo)):\n",
        "  if year % 12 == i:\n",
        "    C = (year, horoscopo[i])\n",
        "\n",
        "print(C)\n",
        "\n",
        "\n"
      ],
      "metadata": {
        "colab": {
          "base_uri": "https://localhost:8080/"
        },
        "id": "NlkHcmkCXhTt",
        "outputId": "7a88d78c-7537-4d43-a778-4313a7296b9c"
      },
      "execution_count": null,
      "outputs": [
        {
          "output_type": "stream",
          "name": "stdout",
          "text": [
            "Introduzca el año de nacimiento: 1988\n",
            "(1988, 'Dragon')\n"
          ]
        }
      ]
    },
    {
      "cell_type": "code",
      "source": [
        "s = input(\"Introduzca una frase: \")\n",
        "\n",
        "lista_frase = s.split()\n",
        "lista_tuplas = []\n",
        "target = 0\n",
        "T = []\n",
        "\n",
        "for i in lista_frase:\n",
        "  T = (i, len(i), i[0], target)\n",
        "  lista_tuplas.append(T)\n",
        "  target +=1 \n",
        "  \n",
        "print(lista_tuplas)"
      ],
      "metadata": {
        "colab": {
          "base_uri": "https://localhost:8080/"
        },
        "id": "z5kOyfJTm2x-",
        "outputId": "a9e121da-03d6-43b8-a771-60f46fea49cd"
      },
      "execution_count": null,
      "outputs": [
        {
          "output_type": "stream",
          "name": "stdout",
          "text": [
            "Introduzca una frase: la naranja se pico\n",
            "[('la', 2, 'l', 0), ('naranja', 7, 'n', 1), ('se', 2, 's', 2), ('pico', 4, 'p', 3)]\n"
          ]
        }
      ]
    },
    {
      "cell_type": "code",
      "source": [
        "lista_palabras =[]\n",
        "s = input(\"Introduzca una palabra: \")\n",
        "\n",
        "while s != \"\":\n",
        "  lista_palabras.append(s)\n",
        "  s = input(\"Introduzca una palabra: \")\n",
        "  \n",
        "t = tuple(lista_palabras)\n",
        "\n",
        "first, *rest, last = t\n",
        "\n",
        "print(f\"La primera palabra es {first}\")\n",
        "print(f\"La ultima palabra es {last}\")\n",
        "\n",
        "\n"
      ],
      "metadata": {
        "colab": {
          "base_uri": "https://localhost:8080/"
        },
        "id": "IMeXl90_wm4m",
        "outputId": "ecd1e9ab-1108-4f38-97a9-99923b3dbafc"
      },
      "execution_count": 10,
      "outputs": [
        {
          "output_type": "stream",
          "name": "stdout",
          "text": [
            "Introduzca una frase: Daniela\n",
            "Introduzca una frase: Isabela\n",
            "Introduzca una frase: Yaili\n",
            "Introduzca una frase: \n",
            "La primera palabra es Daniela\n",
            "La ultima palabra es Yaili\n"
          ]
        }
      ]
    },
    {
      "cell_type": "code",
      "source": [
        "lista_palabras = [\"avion\", \"camion\", \"tren\", \"barco\", \"auto\", \"bicicleta\"]\n",
        "longitud_palabras = []\n",
        "\n",
        "for w in lista_palabras:\n",
        "  longitud_palabras.append(len(w))\n",
        "\n",
        "items = zip(lista_palabras, longitud_palabras)\n",
        "dict(items)\n",
        "\n"
      ],
      "metadata": {
        "colab": {
          "base_uri": "https://localhost:8080/"
        },
        "id": "36K35aRJ_3TA",
        "outputId": "0aeb9f2b-0a83-47e5-faed-f115605665dc"
      },
      "execution_count": 13,
      "outputs": [
        {
          "output_type": "execute_result",
          "data": {
            "text/plain": [
              "{'avion': 5, 'camion': 6, 'tren': 4, 'barco': 5, 'auto': 4, 'bicicleta': 9}"
            ]
          },
          "metadata": {},
          "execution_count": 13
        }
      ]
    },
    {
      "cell_type": "code",
      "source": [
        "lista_palabras =[]\n",
        "s = input(\"Introduzca una palabra: \")\n",
        "number = 0\n",
        "\n",
        "while s != \"\":\n",
        "  lista_palabras.append(s)\n",
        "  number += len(s)\n",
        "  s = input(\"Introduzca una palabra: \")\n",
        "\n",
        "t = tuple(lista_palabras)\n",
        "print(t)\n",
        "print(number)\n",
        "  "
      ],
      "metadata": {
        "colab": {
          "base_uri": "https://localhost:8080/"
        },
        "id": "npVV9oAfBImK",
        "outputId": "fb5b814d-552a-4f6c-e298-85780d65c8f2"
      },
      "execution_count": 15,
      "outputs": [
        {
          "output_type": "stream",
          "name": "stdout",
          "text": [
            "Introduzca una palabra: ya\n",
            "Introduzca una palabra: ye\n",
            "Introduzca una palabra: yi\n",
            "Introduzca una palabra: yo\n",
            "Introduzca una palabra: yu\n",
            "Introduzca una palabra: \n",
            "('ya', 'ye', 'yi', 'yo', 'yu')\n",
            "10\n"
          ]
        }
      ]
    },
    {
      "cell_type": "code",
      "source": [
        "L = []\n",
        "\n",
        "for i in range(1, 21):\n",
        "  L.append((i, [i * j for j in range(1, 11)]))\n",
        "\n",
        "for item in L:\n",
        "  print(f\"\\nTABLA DEL {item[0]}\")\n",
        "  for multiplo in item[1]:\n",
        "    print(f\"{item[0]} x {item[1].index(multiplo) + 1} = {multiplo}\")\n",
        "\n",
        "print(L)"
      ],
      "metadata": {
        "colab": {
          "base_uri": "https://localhost:8080/"
        },
        "id": "KgCn7O8hCUTG",
        "outputId": "edcc3135-68f6-4c47-ba74-b7296406fd61"
      },
      "execution_count": 43,
      "outputs": [
        {
          "output_type": "stream",
          "name": "stdout",
          "text": [
            "\n",
            "TABLA DEL 1\n",
            "1 x 1 = 1\n",
            "1 x 2 = 2\n",
            "1 x 3 = 3\n",
            "1 x 4 = 4\n",
            "1 x 5 = 5\n",
            "1 x 6 = 6\n",
            "1 x 7 = 7\n",
            "1 x 8 = 8\n",
            "1 x 9 = 9\n",
            "1 x 10 = 10\n",
            "\n",
            "TABLA DEL 2\n",
            "2 x 1 = 2\n",
            "2 x 2 = 4\n",
            "2 x 3 = 6\n",
            "2 x 4 = 8\n",
            "2 x 5 = 10\n",
            "2 x 6 = 12\n",
            "2 x 7 = 14\n",
            "2 x 8 = 16\n",
            "2 x 9 = 18\n",
            "2 x 10 = 20\n",
            "\n",
            "TABLA DEL 3\n",
            "3 x 1 = 3\n",
            "3 x 2 = 6\n",
            "3 x 3 = 9\n",
            "3 x 4 = 12\n",
            "3 x 5 = 15\n",
            "3 x 6 = 18\n",
            "3 x 7 = 21\n",
            "3 x 8 = 24\n",
            "3 x 9 = 27\n",
            "3 x 10 = 30\n",
            "\n",
            "TABLA DEL 4\n",
            "4 x 1 = 4\n",
            "4 x 2 = 8\n",
            "4 x 3 = 12\n",
            "4 x 4 = 16\n",
            "4 x 5 = 20\n",
            "4 x 6 = 24\n",
            "4 x 7 = 28\n",
            "4 x 8 = 32\n",
            "4 x 9 = 36\n",
            "4 x 10 = 40\n",
            "\n",
            "TABLA DEL 5\n",
            "5 x 1 = 5\n",
            "5 x 2 = 10\n",
            "5 x 3 = 15\n",
            "5 x 4 = 20\n",
            "5 x 5 = 25\n",
            "5 x 6 = 30\n",
            "5 x 7 = 35\n",
            "5 x 8 = 40\n",
            "5 x 9 = 45\n",
            "5 x 10 = 50\n",
            "\n",
            "TABLA DEL 6\n",
            "6 x 1 = 6\n",
            "6 x 2 = 12\n",
            "6 x 3 = 18\n",
            "6 x 4 = 24\n",
            "6 x 5 = 30\n",
            "6 x 6 = 36\n",
            "6 x 7 = 42\n",
            "6 x 8 = 48\n",
            "6 x 9 = 54\n",
            "6 x 10 = 60\n",
            "\n",
            "TABLA DEL 7\n",
            "7 x 1 = 7\n",
            "7 x 2 = 14\n",
            "7 x 3 = 21\n",
            "7 x 4 = 28\n",
            "7 x 5 = 35\n",
            "7 x 6 = 42\n",
            "7 x 7 = 49\n",
            "7 x 8 = 56\n",
            "7 x 9 = 63\n",
            "7 x 10 = 70\n",
            "\n",
            "TABLA DEL 8\n",
            "8 x 1 = 8\n",
            "8 x 2 = 16\n",
            "8 x 3 = 24\n",
            "8 x 4 = 32\n",
            "8 x 5 = 40\n",
            "8 x 6 = 48\n",
            "8 x 7 = 56\n",
            "8 x 8 = 64\n",
            "8 x 9 = 72\n",
            "8 x 10 = 80\n",
            "\n",
            "TABLA DEL 9\n",
            "9 x 1 = 9\n",
            "9 x 2 = 18\n",
            "9 x 3 = 27\n",
            "9 x 4 = 36\n",
            "9 x 5 = 45\n",
            "9 x 6 = 54\n",
            "9 x 7 = 63\n",
            "9 x 8 = 72\n",
            "9 x 9 = 81\n",
            "9 x 10 = 90\n",
            "\n",
            "TABLA DEL 10\n",
            "10 x 1 = 10\n",
            "10 x 2 = 20\n",
            "10 x 3 = 30\n",
            "10 x 4 = 40\n",
            "10 x 5 = 50\n",
            "10 x 6 = 60\n",
            "10 x 7 = 70\n",
            "10 x 8 = 80\n",
            "10 x 9 = 90\n",
            "10 x 10 = 100\n",
            "\n",
            "TABLA DEL 11\n",
            "11 x 1 = 11\n",
            "11 x 2 = 22\n",
            "11 x 3 = 33\n",
            "11 x 4 = 44\n",
            "11 x 5 = 55\n",
            "11 x 6 = 66\n",
            "11 x 7 = 77\n",
            "11 x 8 = 88\n",
            "11 x 9 = 99\n",
            "11 x 10 = 110\n",
            "\n",
            "TABLA DEL 12\n",
            "12 x 1 = 12\n",
            "12 x 2 = 24\n",
            "12 x 3 = 36\n",
            "12 x 4 = 48\n",
            "12 x 5 = 60\n",
            "12 x 6 = 72\n",
            "12 x 7 = 84\n",
            "12 x 8 = 96\n",
            "12 x 9 = 108\n",
            "12 x 10 = 120\n",
            "\n",
            "TABLA DEL 13\n",
            "13 x 1 = 13\n",
            "13 x 2 = 26\n",
            "13 x 3 = 39\n",
            "13 x 4 = 52\n",
            "13 x 5 = 65\n",
            "13 x 6 = 78\n",
            "13 x 7 = 91\n",
            "13 x 8 = 104\n",
            "13 x 9 = 117\n",
            "13 x 10 = 130\n",
            "\n",
            "TABLA DEL 14\n",
            "14 x 1 = 14\n",
            "14 x 2 = 28\n",
            "14 x 3 = 42\n",
            "14 x 4 = 56\n",
            "14 x 5 = 70\n",
            "14 x 6 = 84\n",
            "14 x 7 = 98\n",
            "14 x 8 = 112\n",
            "14 x 9 = 126\n",
            "14 x 10 = 140\n",
            "\n",
            "TABLA DEL 15\n",
            "15 x 1 = 15\n",
            "15 x 2 = 30\n",
            "15 x 3 = 45\n",
            "15 x 4 = 60\n",
            "15 x 5 = 75\n",
            "15 x 6 = 90\n",
            "15 x 7 = 105\n",
            "15 x 8 = 120\n",
            "15 x 9 = 135\n",
            "15 x 10 = 150\n",
            "\n",
            "TABLA DEL 16\n",
            "16 x 1 = 16\n",
            "16 x 2 = 32\n",
            "16 x 3 = 48\n",
            "16 x 4 = 64\n",
            "16 x 5 = 80\n",
            "16 x 6 = 96\n",
            "16 x 7 = 112\n",
            "16 x 8 = 128\n",
            "16 x 9 = 144\n",
            "16 x 10 = 160\n",
            "\n",
            "TABLA DEL 17\n",
            "17 x 1 = 17\n",
            "17 x 2 = 34\n",
            "17 x 3 = 51\n",
            "17 x 4 = 68\n",
            "17 x 5 = 85\n",
            "17 x 6 = 102\n",
            "17 x 7 = 119\n",
            "17 x 8 = 136\n",
            "17 x 9 = 153\n",
            "17 x 10 = 170\n",
            "\n",
            "TABLA DEL 18\n",
            "18 x 1 = 18\n",
            "18 x 2 = 36\n",
            "18 x 3 = 54\n",
            "18 x 4 = 72\n",
            "18 x 5 = 90\n",
            "18 x 6 = 108\n",
            "18 x 7 = 126\n",
            "18 x 8 = 144\n",
            "18 x 9 = 162\n",
            "18 x 10 = 180\n",
            "\n",
            "TABLA DEL 19\n",
            "19 x 1 = 19\n",
            "19 x 2 = 38\n",
            "19 x 3 = 57\n",
            "19 x 4 = 76\n",
            "19 x 5 = 95\n",
            "19 x 6 = 114\n",
            "19 x 7 = 133\n",
            "19 x 8 = 152\n",
            "19 x 9 = 171\n",
            "19 x 10 = 190\n",
            "\n",
            "TABLA DEL 20\n",
            "20 x 1 = 20\n",
            "20 x 2 = 40\n",
            "20 x 3 = 60\n",
            "20 x 4 = 80\n",
            "20 x 5 = 100\n",
            "20 x 6 = 120\n",
            "20 x 7 = 140\n",
            "20 x 8 = 160\n",
            "20 x 9 = 180\n",
            "20 x 10 = 200\n",
            "[(1, [1, 2, 3, 4, 5, 6, 7, 8, 9, 10]), (2, [2, 4, 6, 8, 10, 12, 14, 16, 18, 20]), (3, [3, 6, 9, 12, 15, 18, 21, 24, 27, 30]), (4, [4, 8, 12, 16, 20, 24, 28, 32, 36, 40]), (5, [5, 10, 15, 20, 25, 30, 35, 40, 45, 50]), (6, [6, 12, 18, 24, 30, 36, 42, 48, 54, 60]), (7, [7, 14, 21, 28, 35, 42, 49, 56, 63, 70]), (8, [8, 16, 24, 32, 40, 48, 56, 64, 72, 80]), (9, [9, 18, 27, 36, 45, 54, 63, 72, 81, 90]), (10, [10, 20, 30, 40, 50, 60, 70, 80, 90, 100]), (11, [11, 22, 33, 44, 55, 66, 77, 88, 99, 110]), (12, [12, 24, 36, 48, 60, 72, 84, 96, 108, 120]), (13, [13, 26, 39, 52, 65, 78, 91, 104, 117, 130]), (14, [14, 28, 42, 56, 70, 84, 98, 112, 126, 140]), (15, [15, 30, 45, 60, 75, 90, 105, 120, 135, 150]), (16, [16, 32, 48, 64, 80, 96, 112, 128, 144, 160]), (17, [17, 34, 51, 68, 85, 102, 119, 136, 153, 170]), (18, [18, 36, 54, 72, 90, 108, 126, 144, 162, 180]), (19, [19, 38, 57, 76, 95, 114, 133, 152, 171, 190]), (20, [20, 40, 60, 80, 100, 120, 140, 160, 180, 200])]\n"
          ]
        }
      ]
    },
    {
      "cell_type": "code",
      "source": [
        "n1 = int(input(\"Introduzca el primer numero entero: \"))\n",
        "n2 = int(input(\"Introduzca el segundo numero entero: \"))\n",
        "\n",
        "while n1 < n2:\n",
        "  n1 = int(input(\"Introduzca el primer numero entero: \"))\n",
        "  n2 = int(input(\"Introduzca el segundo numero entero: \"))\n",
        "  \n",
        "T = (n1, n2, n1/n2, n1 % n2)\n",
        "\n",
        "print(f\"El cociente entre los numeros {n1} y {n2} es {n1/n2} y su resto es {n1 % n2}\")\n"
      ],
      "metadata": {
        "colab": {
          "base_uri": "https://localhost:8080/"
        },
        "id": "MKlqy3D2LBGl",
        "outputId": "6745e664-fcd6-42bc-d19f-7457ef61a2a6"
      },
      "execution_count": 46,
      "outputs": [
        {
          "output_type": "stream",
          "name": "stdout",
          "text": [
            "Introduzca el primer numero entero: 20\n",
            "Introduzca el segundo numero entero: 50\n",
            "Introduzca el primer numero entero: 50\n",
            "Introduzca el segundo numero entero: 60\n",
            "Introduzca el primer numero entero: 40\n",
            "Introduzca el segundo numero entero: 2\n",
            "El cociente entre los numeros 40 y 2 es 20.0 y su resto es 0\n"
          ]
        }
      ]
    },
    {
      "cell_type": "code",
      "source": [
        "n = int(input(\"Introduzca un numero entre 0 y 360: \"))\n",
        "\n",
        "while n < 0 or n > 360:\n",
        "  n = int(input(\"Introduzca un numero entre 0 y 360: \"))\n",
        "\n",
        "radianes = n*2*3.141592653589793/360\n",
        "T = (n, radianes)\n",
        "\n",
        "print(T)\n",
        "  "
      ],
      "metadata": {
        "colab": {
          "base_uri": "https://localhost:8080/"
        },
        "id": "Sfcm1EkvMvsC",
        "outputId": "98637e4e-c771-43cd-ddf3-8d7a271e59f9"
      },
      "execution_count": 53,
      "outputs": [
        {
          "output_type": "stream",
          "name": "stdout",
          "text": [
            "Introduzca un numero entre 0 y 360: 500\n",
            "Introduzca un numero entre 0 y 360: -9\n",
            "Introduzca un numero entre 0 y 360: 52\n",
            "(52, 0.9075712110370514)\n"
          ]
        }
      ]
    },
    {
      "cell_type": "code",
      "source": [
        "comp = complex(float(input(\"Introduce la parte real: \")), float(input(\"Introduce la parte imaginaria: \")) )\n",
        "\n",
        "T = comp, -comp, comp.conjugate()\n",
        "print(T)"
      ],
      "metadata": {
        "colab": {
          "base_uri": "https://localhost:8080/"
        },
        "id": "GBStBW4KOhtt",
        "outputId": "066ebeb9-6e87-4362-eb60-dc23dcacc5fd"
      },
      "execution_count": 57,
      "outputs": [
        {
          "output_type": "stream",
          "name": "stdout",
          "text": [
            "Introduce la parte real: 5\n",
            "Introduce la parte imaginaria: 9\n",
            "((5+9j), (-5-9j), (5-9j))\n"
          ]
        }
      ]
    },
    {
      "cell_type": "code",
      "source": [],
      "metadata": {
        "id": "kc2f1zMGP1Z5"
      },
      "execution_count": null,
      "outputs": []
    },
    {
      "cell_type": "code",
      "source": [],
      "metadata": {
        "id": "0i_Dfeg1Px-y"
      },
      "execution_count": null,
      "outputs": []
    },
    {
      "cell_type": "code",
      "source": [],
      "metadata": {
        "id": "5o6u0VRHPrUj"
      },
      "execution_count": null,
      "outputs": []
    },
    {
      "cell_type": "code",
      "source": [],
      "metadata": {
        "id": "lHS7WNsPPd-b"
      },
      "execution_count": null,
      "outputs": []
    },
    {
      "cell_type": "code",
      "source": [],
      "metadata": {
        "id": "0ZyRZyMsOeH1"
      },
      "execution_count": null,
      "outputs": []
    },
    {
      "cell_type": "code",
      "source": [],
      "metadata": {
        "id": "oSc9x0GOOYrN"
      },
      "execution_count": null,
      "outputs": []
    },
    {
      "cell_type": "code",
      "source": [],
      "metadata": {
        "id": "Rhr_0wq4OVHW"
      },
      "execution_count": null,
      "outputs": []
    },
    {
      "cell_type": "code",
      "source": [],
      "metadata": {
        "id": "JelTd-vQOH1V"
      },
      "execution_count": null,
      "outputs": []
    },
    {
      "cell_type": "code",
      "source": [],
      "metadata": {
        "id": "N_PjCd5pN8FX"
      },
      "execution_count": null,
      "outputs": []
    },
    {
      "cell_type": "code",
      "source": [],
      "metadata": {
        "id": "TU5x6WScNwiw"
      },
      "execution_count": null,
      "outputs": []
    },
    {
      "cell_type": "code",
      "source": [],
      "metadata": {
        "id": "-Br4wvxCMtyx"
      },
      "execution_count": null,
      "outputs": []
    },
    {
      "cell_type": "code",
      "source": [],
      "metadata": {
        "id": "VxGSssEcMU-J"
      },
      "execution_count": null,
      "outputs": []
    },
    {
      "cell_type": "code",
      "source": [],
      "metadata": {
        "id": "GIyakr-mK1K8"
      },
      "execution_count": null,
      "outputs": []
    },
    {
      "cell_type": "code",
      "source": [],
      "metadata": {
        "id": "yRu6r2K8KwL9"
      },
      "execution_count": null,
      "outputs": []
    },
    {
      "cell_type": "code",
      "source": [],
      "metadata": {
        "id": "aAtmiDMlKl0N"
      },
      "execution_count": null,
      "outputs": []
    },
    {
      "cell_type": "code",
      "source": [],
      "metadata": {
        "id": "mNP3U89BJlL3"
      },
      "execution_count": null,
      "outputs": []
    },
    {
      "cell_type": "code",
      "source": [],
      "metadata": {
        "id": "8TpPK7AqJftv"
      },
      "execution_count": null,
      "outputs": []
    },
    {
      "cell_type": "code",
      "source": [],
      "metadata": {
        "id": "Rz7L_5jqJBfZ"
      },
      "execution_count": null,
      "outputs": []
    },
    {
      "cell_type": "code",
      "source": [],
      "metadata": {
        "id": "7QW1K3jmI7J4"
      },
      "execution_count": null,
      "outputs": []
    },
    {
      "cell_type": "code",
      "source": [],
      "metadata": {
        "id": "YZRAgkxqI3ep"
      },
      "execution_count": null,
      "outputs": []
    },
    {
      "cell_type": "code",
      "source": [],
      "metadata": {
        "id": "rl6VjNj7IbRK"
      },
      "execution_count": null,
      "outputs": []
    },
    {
      "cell_type": "code",
      "source": [],
      "metadata": {
        "id": "U9Co5IwuG_WU"
      },
      "execution_count": null,
      "outputs": []
    },
    {
      "cell_type": "code",
      "source": [],
      "metadata": {
        "id": "G8r3UTEJG4at"
      },
      "execution_count": null,
      "outputs": []
    },
    {
      "cell_type": "code",
      "source": [],
      "metadata": {
        "id": "eaY-alUyG2JO"
      },
      "execution_count": null,
      "outputs": []
    },
    {
      "cell_type": "code",
      "source": [],
      "metadata": {
        "id": "i2yz759sGxaN"
      },
      "execution_count": null,
      "outputs": []
    },
    {
      "cell_type": "code",
      "source": [],
      "metadata": {
        "id": "rubOxVLpGf7f"
      },
      "execution_count": null,
      "outputs": []
    },
    {
      "cell_type": "code",
      "source": [],
      "metadata": {
        "id": "Yiy05GziFc-5"
      },
      "execution_count": null,
      "outputs": []
    },
    {
      "cell_type": "code",
      "source": [],
      "metadata": {
        "id": "Cv5l9ty6FZ1p"
      },
      "execution_count": null,
      "outputs": []
    },
    {
      "cell_type": "code",
      "source": [],
      "metadata": {
        "id": "QXMq7ll-FRh4"
      },
      "execution_count": null,
      "outputs": []
    },
    {
      "cell_type": "code",
      "source": [],
      "metadata": {
        "id": "vWEkQltEFJx6"
      },
      "execution_count": null,
      "outputs": []
    },
    {
      "cell_type": "code",
      "source": [],
      "metadata": {
        "id": "-yIu-ZltFDtZ"
      },
      "execution_count": null,
      "outputs": []
    },
    {
      "cell_type": "code",
      "source": [],
      "metadata": {
        "id": "-rYKCJDWFADh"
      },
      "execution_count": null,
      "outputs": []
    },
    {
      "cell_type": "code",
      "source": [],
      "metadata": {
        "id": "d1pctp94E9aK"
      },
      "execution_count": null,
      "outputs": []
    },
    {
      "cell_type": "code",
      "source": [],
      "metadata": {
        "id": "93i7UDcUEvHS"
      },
      "execution_count": null,
      "outputs": []
    },
    {
      "cell_type": "code",
      "source": [],
      "metadata": {
        "id": "37ZJFmNdEa1S"
      },
      "execution_count": null,
      "outputs": []
    },
    {
      "cell_type": "code",
      "source": [],
      "metadata": {
        "id": "7spO5u5KDwdb"
      },
      "execution_count": null,
      "outputs": []
    },
    {
      "cell_type": "code",
      "source": [],
      "metadata": {
        "id": "RFa1QUkHDrLl"
      },
      "execution_count": null,
      "outputs": []
    },
    {
      "cell_type": "code",
      "source": [],
      "metadata": {
        "id": "RpjK5KPnDjLM"
      },
      "execution_count": null,
      "outputs": []
    },
    {
      "cell_type": "code",
      "source": [],
      "metadata": {
        "id": "xtV9kX7BDgsv"
      },
      "execution_count": null,
      "outputs": []
    },
    {
      "cell_type": "code",
      "source": [
        "\n"
      ],
      "metadata": {
        "id": "ZbBWmz07CKs7"
      },
      "execution_count": null,
      "outputs": []
    },
    {
      "cell_type": "code",
      "source": [],
      "metadata": {
        "id": "_Yh_buz5BGuT"
      },
      "execution_count": null,
      "outputs": []
    },
    {
      "cell_type": "code",
      "source": [],
      "metadata": {
        "id": "plt6vgkLA1P0"
      },
      "execution_count": null,
      "outputs": []
    },
    {
      "cell_type": "code",
      "source": [],
      "metadata": {
        "id": "vSRYMRbS_A2P"
      },
      "execution_count": null,
      "outputs": []
    },
    {
      "cell_type": "code",
      "source": [],
      "metadata": {
        "id": "8v04wqD6-5Mf"
      },
      "execution_count": null,
      "outputs": []
    },
    {
      "cell_type": "code",
      "source": [
        "\n"
      ],
      "metadata": {
        "id": "tDfom3xN-qmv"
      },
      "execution_count": null,
      "outputs": []
    },
    {
      "cell_type": "code",
      "source": [],
      "metadata": {
        "id": "HzHMRWaM-kOZ"
      },
      "execution_count": null,
      "outputs": []
    },
    {
      "cell_type": "code",
      "source": [],
      "metadata": {
        "id": "CYY6PGvm9JfZ"
      },
      "execution_count": null,
      "outputs": []
    },
    {
      "cell_type": "code",
      "source": [],
      "metadata": {
        "id": "8ENx7KTB9ApK"
      },
      "execution_count": null,
      "outputs": []
    },
    {
      "cell_type": "code",
      "source": [],
      "metadata": {
        "id": "u3b6D0dG8_Br"
      },
      "execution_count": null,
      "outputs": []
    },
    {
      "cell_type": "code",
      "source": [],
      "metadata": {
        "id": "FUjZIffF8097"
      },
      "execution_count": null,
      "outputs": []
    },
    {
      "cell_type": "code",
      "source": [],
      "metadata": {
        "id": "5dabUnj48jHu"
      },
      "execution_count": null,
      "outputs": []
    },
    {
      "cell_type": "code",
      "source": [],
      "metadata": {
        "id": "UUYM7U1OygFL"
      },
      "execution_count": null,
      "outputs": []
    },
    {
      "cell_type": "code",
      "source": [],
      "metadata": {
        "id": "PxkwNdhqyHtQ"
      },
      "execution_count": null,
      "outputs": []
    },
    {
      "cell_type": "code",
      "source": [
        "Isa\n"
      ],
      "metadata": {
        "id": "ePE7OZ7-yFTW"
      },
      "execution_count": null,
      "outputs": []
    },
    {
      "cell_type": "code",
      "source": [],
      "metadata": {
        "id": "lAUFreR2x3Dp"
      },
      "execution_count": null,
      "outputs": []
    },
    {
      "cell_type": "code",
      "source": [],
      "metadata": {
        "id": "YvphCmWdxrIN"
      },
      "execution_count": null,
      "outputs": []
    },
    {
      "cell_type": "code",
      "source": [],
      "metadata": {
        "id": "2mD60jGHv61o"
      },
      "execution_count": null,
      "outputs": []
    },
    {
      "cell_type": "code",
      "source": [],
      "metadata": {
        "id": "jf_Pyyh9vNAl"
      },
      "execution_count": null,
      "outputs": []
    },
    {
      "cell_type": "code",
      "source": [],
      "metadata": {
        "id": "-hbHHBpZvBqw"
      },
      "execution_count": null,
      "outputs": []
    },
    {
      "cell_type": "code",
      "source": [],
      "metadata": {
        "id": "-OubEr0AuV80"
      },
      "execution_count": null,
      "outputs": []
    },
    {
      "cell_type": "code",
      "source": [],
      "metadata": {
        "id": "kaiksr-FuPHc"
      },
      "execution_count": null,
      "outputs": []
    },
    {
      "cell_type": "code",
      "source": [],
      "metadata": {
        "id": "Cwa9a_M4t-Dt"
      },
      "execution_count": null,
      "outputs": []
    },
    {
      "cell_type": "code",
      "source": [],
      "metadata": {
        "id": "6Kq-MN9wtod2"
      },
      "execution_count": null,
      "outputs": []
    },
    {
      "cell_type": "code",
      "source": [],
      "metadata": {
        "id": "rYO5g7oZtjxr"
      },
      "execution_count": null,
      "outputs": []
    },
    {
      "cell_type": "code",
      "source": [],
      "metadata": {
        "id": "0ntpXs6htX5r"
      },
      "execution_count": null,
      "outputs": []
    },
    {
      "cell_type": "code",
      "source": [],
      "metadata": {
        "id": "eIBkuIXFtFQI"
      },
      "execution_count": null,
      "outputs": []
    },
    {
      "cell_type": "code",
      "source": [],
      "metadata": {
        "id": "8d5BKFEqs9CU"
      },
      "execution_count": null,
      "outputs": []
    },
    {
      "cell_type": "code",
      "source": [],
      "metadata": {
        "id": "wfUUGOs2rwms"
      },
      "execution_count": null,
      "outputs": []
    },
    {
      "cell_type": "code",
      "source": [],
      "metadata": {
        "id": "WMwPv_tgrrX_"
      },
      "execution_count": null,
      "outputs": []
    },
    {
      "cell_type": "code",
      "source": [],
      "metadata": {
        "id": "jbqXkxkerfjT"
      },
      "execution_count": null,
      "outputs": []
    },
    {
      "cell_type": "code",
      "source": [],
      "metadata": {
        "id": "ZIUfPZBLrUGL"
      },
      "execution_count": null,
      "outputs": []
    },
    {
      "cell_type": "code",
      "source": [],
      "metadata": {
        "id": "sCQ3AP8crH1_"
      },
      "execution_count": null,
      "outputs": []
    },
    {
      "cell_type": "code",
      "source": [],
      "metadata": {
        "id": "kc11du_mrCS_"
      },
      "execution_count": null,
      "outputs": []
    },
    {
      "cell_type": "code",
      "source": [],
      "metadata": {
        "id": "96jdRcxeq1hQ"
      },
      "execution_count": null,
      "outputs": []
    },
    {
      "cell_type": "code",
      "source": [],
      "metadata": {
        "id": "30FntJZKqw9o"
      },
      "execution_count": null,
      "outputs": []
    },
    {
      "cell_type": "code",
      "source": [],
      "metadata": {
        "id": "Hmo-BKTfqjyV"
      },
      "execution_count": null,
      "outputs": []
    },
    {
      "cell_type": "code",
      "source": [],
      "metadata": {
        "id": "baj8mpiOqdKp"
      },
      "execution_count": null,
      "outputs": []
    },
    {
      "cell_type": "code",
      "source": [],
      "metadata": {
        "id": "ny-Hq1yYqL5p"
      },
      "execution_count": null,
      "outputs": []
    },
    {
      "cell_type": "code",
      "source": [],
      "metadata": {
        "id": "YOCEITF2p3LE"
      },
      "execution_count": null,
      "outputs": []
    },
    {
      "cell_type": "code",
      "source": [],
      "metadata": {
        "id": "jKUOGr9xpt0Z"
      },
      "execution_count": null,
      "outputs": []
    },
    {
      "cell_type": "code",
      "source": [],
      "metadata": {
        "id": "II_HrBx2m1cG"
      },
      "execution_count": null,
      "outputs": []
    },
    {
      "cell_type": "code",
      "source": [],
      "metadata": {
        "id": "e47s_vCymwKx"
      },
      "execution_count": null,
      "outputs": []
    },
    {
      "cell_type": "code",
      "source": [],
      "metadata": {
        "id": "_59Tcy5QmsJe"
      },
      "execution_count": null,
      "outputs": []
    },
    {
      "cell_type": "code",
      "source": [],
      "metadata": {
        "id": "3UFqeZv2mU5g"
      },
      "execution_count": null,
      "outputs": []
    },
    {
      "cell_type": "code",
      "source": [],
      "metadata": {
        "id": "uqakHGz6mQG4"
      },
      "execution_count": null,
      "outputs": []
    },
    {
      "cell_type": "code",
      "source": [],
      "metadata": {
        "id": "4Bx6xI07mMnX"
      },
      "execution_count": null,
      "outputs": []
    },
    {
      "cell_type": "code",
      "source": [],
      "metadata": {
        "id": "j346ZP-umEPd"
      },
      "execution_count": null,
      "outputs": []
    },
    {
      "cell_type": "code",
      "source": [],
      "metadata": {
        "id": "fKfDqIIQmCKz"
      },
      "execution_count": null,
      "outputs": []
    },
    {
      "cell_type": "code",
      "source": [],
      "metadata": {
        "id": "-eIgWGyBl_LL"
      },
      "execution_count": null,
      "outputs": []
    },
    {
      "cell_type": "code",
      "source": [],
      "metadata": {
        "id": "-LJuQPSRl5J1"
      },
      "execution_count": null,
      "outputs": []
    },
    {
      "cell_type": "code",
      "source": [],
      "metadata": {
        "id": "7tEFQ2jXlyyX"
      },
      "execution_count": null,
      "outputs": []
    },
    {
      "cell_type": "code",
      "source": [],
      "metadata": {
        "id": "EpaKZYRQkQlH"
      },
      "execution_count": null,
      "outputs": []
    },
    {
      "cell_type": "code",
      "source": [],
      "metadata": {
        "id": "qcA5TVR1kEiN"
      },
      "execution_count": null,
      "outputs": []
    },
    {
      "cell_type": "code",
      "source": [],
      "metadata": {
        "id": "r1L_pBCyjqEF"
      },
      "execution_count": null,
      "outputs": []
    },
    {
      "cell_type": "code",
      "source": [],
      "metadata": {
        "id": "J79UjdNojFvA"
      },
      "execution_count": null,
      "outputs": []
    },
    {
      "cell_type": "code",
      "source": [],
      "metadata": {
        "id": "fBpLNhMuXOqr"
      },
      "execution_count": null,
      "outputs": []
    },
    {
      "cell_type": "code",
      "source": [],
      "metadata": {
        "id": "c9hYTZuIW9te"
      },
      "execution_count": null,
      "outputs": []
    },
    {
      "cell_type": "code",
      "source": [],
      "metadata": {
        "id": "MQcfZNxgWX68"
      },
      "execution_count": null,
      "outputs": []
    },
    {
      "cell_type": "code",
      "source": [],
      "metadata": {
        "id": "RqCf9fU9WSNu"
      },
      "execution_count": null,
      "outputs": []
    },
    {
      "cell_type": "code",
      "source": [],
      "metadata": {
        "id": "ehMUv3AkWLdl"
      },
      "execution_count": null,
      "outputs": []
    },
    {
      "cell_type": "code",
      "source": [
        "69"
      ],
      "metadata": {
        "id": "scrwK1FxWJMR"
      },
      "execution_count": null,
      "outputs": []
    },
    {
      "cell_type": "code",
      "source": [],
      "metadata": {
        "id": "L0GS1pnfWEAE"
      },
      "execution_count": null,
      "outputs": []
    },
    {
      "cell_type": "code",
      "source": [],
      "metadata": {
        "id": "uHima9VtV8pJ"
      },
      "execution_count": null,
      "outputs": []
    },
    {
      "cell_type": "code",
      "source": [],
      "metadata": {
        "id": "bwLuqZbCV1Hk"
      },
      "execution_count": null,
      "outputs": []
    },
    {
      "cell_type": "code",
      "source": [],
      "metadata": {
        "id": "0jFH5MWbVutK"
      },
      "execution_count": null,
      "outputs": []
    },
    {
      "cell_type": "code",
      "source": [],
      "metadata": {
        "id": "8xTBf_CBVd6h"
      },
      "execution_count": null,
      "outputs": []
    },
    {
      "cell_type": "code",
      "source": [],
      "metadata": {
        "id": "DgYjXICxVRU6"
      },
      "execution_count": null,
      "outputs": []
    }
  ]
}