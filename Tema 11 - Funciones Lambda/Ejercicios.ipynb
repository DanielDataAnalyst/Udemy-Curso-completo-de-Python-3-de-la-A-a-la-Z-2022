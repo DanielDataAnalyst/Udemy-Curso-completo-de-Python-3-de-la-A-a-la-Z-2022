{
  "nbformat": 4,
  "nbformat_minor": 0,
  "metadata": {
    "colab": {
      "provenance": []
    },
    "kernelspec": {
      "name": "python3",
      "display_name": "Python 3"
    },
    "language_info": {
      "name": "python"
    }
  },
  "cells": [
    {
      "cell_type": "markdown",
      "source": [],
      "metadata": {
        "id": "jwEWJwciXK4l"
      }
    },
    {
      "cell_type": "markdown",
      "source": [
        "Ejercicio 1\n",
        "\n",
        "Crea una función lambda que dado un número entero multiplique por su anterior y su siguiente. Por ejemplo, si proporcionamos n = 3, nos tendrá que devolver 2 · 3 · 4 = 24."
      ],
      "metadata": {
        "id": "3nwSVry9XR6X"
      }
    },
    {
      "cell_type": "code",
      "execution_count": null,
      "metadata": {
        "colab": {
          "base_uri": "https://localhost:8080/"
        },
        "id": "5tkeDXs1t1Gp",
        "outputId": "0687d247-f73b-4a90-9237-83b861ac95db"
      },
      "outputs": [
        {
          "output_type": "execute_result",
          "data": {
            "text/plain": [
              "990"
            ]
          },
          "metadata": {},
          "execution_count": 3
        }
      ],
      "source": [
        "multp = lambda x : x*(x-1)*(x+1)"
      ]
    },
    {
      "cell_type": "markdown",
      "source": [
        "Ejercicio 2\n",
        "\n",
        "Crea una función lambda que dados dos números devuelva si el primero es mayor."
      ],
      "metadata": {
        "id": "MhntTnFRXVR2"
      }
    },
    {
      "cell_type": "code",
      "source": [
        "mayor = lambda x , y : print(f\"{x} es mayor que {y}\") if x > y else print(f\"{x} es menor o igual que {y}\")"
      ],
      "metadata": {
        "colab": {
          "base_uri": "https://localhost:8080/"
        },
        "id": "Vtfq-ka2uQFn",
        "outputId": "d5c1ac28-0e9e-41e6-e811-5817729e8e07"
      },
      "execution_count": null,
      "outputs": [
        {
          "output_type": "stream",
          "name": "stdout",
          "text": [
            "50 es menor o igual que 50\n"
          ]
        }
      ]
    },
    {
      "cell_type": "markdown",
      "source": [
        "Ejercicio 3\n",
        "\n",
        "Dada una lista de palabras, quédate con filter() con las que tengan más vocales que consonantes. Necesitarás una función que devuelva si una palabra tiene más vocales que consonantes."
      ],
      "metadata": {
        "id": "WYMyYZgmXaT9"
      }
    },
    {
      "cell_type": "code",
      "source": [
        "def count_vocal_cons(word):\n",
        "\n",
        "  word.lower()\n",
        "  count_vocal = 0\n",
        "  count_cons = 0\n",
        "  for i in word:\n",
        "    if i == \"a\" or i == \"e\" or i == \"i\" or i == \"o\" or i == \"u\":\n",
        "      count_vocal += 1\n",
        "    else:\n",
        "      count_cons += 1\n",
        "  if count_vocal > count_cons:\n",
        "    return word\n",
        "\n",
        "words = [\"camino\", \"accidente\", \"cucaracha\", \"camion\", \"murcielago\", \"comedor\", \"pasteleria\", \"cacao\", \"amo\"]\n",
        "list(filter(count_vocal_cons, words))\n"
      ],
      "metadata": {
        "colab": {
          "base_uri": "https://localhost:8080/"
        },
        "id": "0Y0egk__wP_4",
        "outputId": "491114da-ff8b-43d5-df51-b34eac3b07ef"
      },
      "execution_count": null,
      "outputs": [
        {
          "output_type": "execute_result",
          "data": {
            "text/plain": [
              "['cacao', 'amo']"
            ]
          },
          "metadata": {},
          "execution_count": 9
        }
      ]
    },
    {
      "cell_type": "markdown",
      "source": [
        "Ejercicio 4\n",
        "\n",
        "Dada una lista de números enteros, quédate con filter() con los que tengan más de 5 divisores. Necesitarás una función que devuelva el número de divisores de un número dado."
      ],
      "metadata": {
        "id": "-xA_Pm4dXuBl"
      }
    },
    {
      "cell_type": "code",
      "source": [
        "def five_div(number):\n",
        "  \n",
        "  list_div = []\n",
        "  for i in range(number):\n",
        "    if number % (i+1) == 0:\n",
        "     list_div.append(i)\n",
        "  if len(list_div) > 5:\n",
        "    return number\n",
        "\n",
        "list_number = [5, 46546, 546, 85, 89, 789, 962, 83]\n",
        "list(filter(five_div, list_number))"
      ],
      "metadata": {
        "colab": {
          "base_uri": "https://localhost:8080/"
        },
        "id": "oo5bf2Ac0Oqo",
        "outputId": "676de26f-d355-446f-aa8e-7346268cf2f7"
      },
      "execution_count": null,
      "outputs": [
        {
          "output_type": "execute_result",
          "data": {
            "text/plain": [
              "[46546, 546, 962]"
            ]
          },
          "metadata": {},
          "execution_count": 11
        }
      ]
    },
    {
      "cell_type": "markdown",
      "source": [
        "Ejercicio 5\n",
        "\n",
        "Dada una lista de palabras, quédate con reduce() con la palabra más larga. Necesitarás una función que compare dos palabras y devuelva la que tenga mayor longitud."
      ],
      "metadata": {
        "id": "6QlBc4LFX1Rn"
      }
    },
    {
      "cell_type": "code",
      "source": [
        "from functools import reduce"
      ],
      "metadata": {
        "id": "1QvB3IbY2Itz"
      },
      "execution_count": null,
      "outputs": []
    },
    {
      "cell_type": "code",
      "source": [
        "def word_high_len(word1, word2):\n",
        "  if len(word1) >= len(word2):\n",
        "    return word1\n",
        "  return word2\n",
        "\n",
        "\n",
        "words = [\"camino\", \"accidente\", \"cucaracha\", \"camion\", \"murcielago\", \"comedor\", \"pasteleria\", \"cacao\", \"amo\"]\n",
        "reduce(word_high_len, words)\n"
      ],
      "metadata": {
        "colab": {
          "base_uri": "https://localhost:8080/",
          "height": 35
        },
        "id": "Waegv5Kq1jmy",
        "outputId": "d42bcb5a-a873-4f77-baea-69ec768a209d"
      },
      "execution_count": null,
      "outputs": [
        {
          "output_type": "execute_result",
          "data": {
            "text/plain": [
              "'murcielago'"
            ],
            "application/vnd.google.colaboratory.intrinsic+json": {
              "type": "string"
            }
          },
          "metadata": {},
          "execution_count": 14
        }
      ]
    },
    {
      "cell_type": "markdown",
      "source": [
        "Ejercicio 6\n",
        "\n",
        "Dada una lista de palabras, calcula el número de vocales de cada una con map()."
      ],
      "metadata": {
        "id": "Y22SlbmNX6dR"
      }
    },
    {
      "cell_type": "code",
      "source": [
        "def count_vocals(word):\n",
        "\n",
        "  word.lower()\n",
        "  count_vocal = 0\n",
        "  for i in word:\n",
        "    if i == \"a\" or i == \"e\" or i == \"i\" or i == \"o\" or i == \"u\":\n",
        "      count_vocal += 1\n",
        "  return count_vocal\n",
        "\n",
        "words = [\"camino\", \"accidente\", \"cucaracha\", \"camion\", \"murcielago\", \"comedor\", \"pasteleria\", \"cacao\", \"amo\"]\n",
        "list(map(count_vocals, words))"
      ],
      "metadata": {
        "colab": {
          "base_uri": "https://localhost:8080/"
        },
        "id": "ObobiYO120_I",
        "outputId": "95dbbb6c-875c-44f4-d119-cb6d812a4f50"
      },
      "execution_count": null,
      "outputs": [
        {
          "output_type": "execute_result",
          "data": {
            "text/plain": [
              "[3, 4, 4, 3, 5, 3, 5, 3, 2]"
            ]
          },
          "metadata": {},
          "execution_count": 15
        }
      ]
    },
    {
      "cell_type": "markdown",
      "source": [
        "Ejercicio 7\n",
        "\n",
        "Dada una lista de palabras, quédate con reduce() y map() con la palabra con más consonantes. Necesitarás una función que cuente el número de consonantes de una palabra y otra que dados dos números, devuelva el mayor."
      ],
      "metadata": {
        "id": "aBOGt2LiX9us"
      }
    },
    {
      "cell_type": "code",
      "source": [
        "def count_consonant(word):\n",
        "\n",
        "  word.lower()\n",
        "  count_cons = 0\n",
        "  for i in word:\n",
        "    if i != \"a\" and i != \"e\" and i != \"i\" and i != \"o\" and i != \"u\":\n",
        "      count_cons += 1\n",
        "  return count_cons\n",
        "\n",
        "words = [\"camino\", \"accidente\", \"cucaracha\", \"camion\", \"murcielago\", \"comedor\", \"pasteleria\", \"cacao\", \"amo\", \"faringoamigdalitis\"]\n",
        "reduce(lambda x, y: x if x > y else y, list(map(count_consonant, words)))"
      ],
      "metadata": {
        "colab": {
          "base_uri": "https://localhost:8080/"
        },
        "id": "gbO4OFBM3YxM",
        "outputId": "ca746eb1-0ae5-49d3-8f85-36f1ab06e012"
      },
      "execution_count": null,
      "outputs": [
        {
          "output_type": "execute_result",
          "data": {
            "text/plain": [
              "10"
            ]
          },
          "metadata": {},
          "execution_count": 28
        }
      ]
    },
    {
      "cell_type": "markdown",
      "source": [
        "Ejercicio 8\n",
        "\n",
        "Dada una lista de números enteros, calcula el número anterior con map()."
      ],
      "metadata": {
        "id": "rGIC4e35YBtV"
      }
    },
    {
      "cell_type": "code",
      "source": [
        "list_number = [5, 46546, 546, 85, 89, 789, 962, 83]\n",
        "list(map(lambda x : x-1,list_number))"
      ],
      "metadata": {
        "colab": {
          "base_uri": "https://localhost:8080/"
        },
        "id": "5LJIuftS55Bh",
        "outputId": "cfdac642-9ace-4ae1-8922-eb1d2007eeca"
      },
      "execution_count": null,
      "outputs": [
        {
          "output_type": "execute_result",
          "data": {
            "text/plain": [
              "[4, 46545, 545, 84, 88, 788, 961, 82]"
            ]
          },
          "metadata": {},
          "execution_count": 29
        }
      ]
    },
    {
      "cell_type": "markdown",
      "source": [
        "Ejercicio 9\n",
        "\n",
        "Dada una lista de números reales, ordénalos con sorted() por valor absoluto de menor a mayor."
      ],
      "metadata": {
        "id": "dnWb4fPWYKUu"
      }
    },
    {
      "cell_type": "code",
      "source": [
        "list_number = [5.52, 46546.84, -90.5, -89.5, 89, 789, 962, 83]\n",
        "sorted(list_number, key = lambda x: abs(x))"
      ],
      "metadata": {
        "colab": {
          "base_uri": "https://localhost:8080/"
        },
        "id": "MhRwe6Iy8nXD",
        "outputId": "4be11be5-823e-4796-84f5-739210c1d369"
      },
      "execution_count": null,
      "outputs": [
        {
          "output_type": "execute_result",
          "data": {
            "text/plain": [
              "[5.52, 83, 89, -89.5, -90.5, 789, 962, 46546.84]"
            ]
          },
          "metadata": {},
          "execution_count": 30
        }
      ]
    },
    {
      "cell_type": "markdown",
      "source": [
        "Ejercicio 10\n",
        "\n",
        "Dada una lista de palabras, ordénalos con sorted() por número de consonates de mayor a menor."
      ],
      "metadata": {
        "id": "mgiDW-vBYNhy"
      }
    },
    {
      "cell_type": "code",
      "source": [
        "def count_consonant(word):\n",
        "\n",
        "  word.lower()\n",
        "  count_cons = 0\n",
        "  for i in word:\n",
        "    if i != \"a\" and i != \"e\" and i != \"i\" and i != \"o\" and i != \"u\":\n",
        "      count_cons += 1\n",
        "  return count_cons\n",
        "\n",
        "words = [\"camino\", \"accidente\", \"cucaracha\", \"camion\", \"murcielago\", \"comedor\", \"pasteleria\", \"cacao\", \"amo\", \"faringoamigdalitis\"]\n",
        "sorted(words, key = count_consonant, reverse = True)"
      ],
      "metadata": {
        "colab": {
          "base_uri": "https://localhost:8080/"
        },
        "id": "9BIrDidl9N3s",
        "outputId": "bdf93406-70bf-41b6-867a-be8a148fde9b"
      },
      "execution_count": null,
      "outputs": [
        {
          "output_type": "execute_result",
          "data": {
            "text/plain": [
              "['faringoamigdalitis',\n",
              " 'accidente',\n",
              " 'cucaracha',\n",
              " 'murcielago',\n",
              " 'pasteleria',\n",
              " 'comedor',\n",
              " 'camino',\n",
              " 'camion',\n",
              " 'cacao',\n",
              " 'amo']"
            ]
          },
          "metadata": {},
          "execution_count": 31
        }
      ]
    }
  ]
}