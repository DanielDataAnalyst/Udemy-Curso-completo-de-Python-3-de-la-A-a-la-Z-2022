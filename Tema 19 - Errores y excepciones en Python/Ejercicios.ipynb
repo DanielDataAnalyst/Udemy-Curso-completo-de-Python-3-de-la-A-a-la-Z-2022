{
  "nbformat": 4,
  "nbformat_minor": 0,
  "metadata": {
    "colab": {
      "provenance": []
    },
    "kernelspec": {
      "name": "python3",
      "display_name": "Python 3"
    },
    "language_info": {
      "name": "python"
    }
  },
  "cells": [
    {
      "cell_type": "markdown",
      "source": [
        "Ejercicio 1\n",
        "\n",
        "Dada la función divisors(), asegura con assert que el parámetro n se trata de un número entero positivo.\n",
        "De lo contrario, muestra como mensaje que \"n debe ser de tipo int y debe ser mayor que 0\"\n",
        "\n",
        "```\n",
        "def divisors(n):\n",
        "  \"\"\"\n",
        "  Calcula los divisores de un número entero positivo.\n",
        "  Args:\n",
        "    n: Número entero positivo\n",
        "  Returns:\n",
        "    divisors: Lista de divisores de n\n",
        "  \"\"\"\n",
        "  divisors = []\n",
        "  for i in range(1, n + 1):\n",
        "    if n % i == 0: divisors.append(i)\n",
        "  return divisors\n",
        "```\n",
        "\n"
      ],
      "metadata": {
        "id": "lsgTURQXvX2S"
      }
    },
    {
      "cell_type": "code",
      "source": [
        "def divisors(n):\n",
        "  \"\"\"\n",
        "  Calcula los divisores de un número entero positivo.\n",
        "  Args:\n",
        "    n: Número entero positivo\n",
        "  Returns:\n",
        "    divisors: Lista de divisores de n\n",
        "  \"\"\"\n",
        "  divisors = []\n",
        "  assert n > 0, \"n debe ser de tipo int y debe ser mayor que 0\"  \n",
        "  assert type(n) == int, \"n debe ser de tipo int y debe ser mayor que 0\"\n",
        "  for i in range(1, n + 1):\n",
        "    if n % i == 0: \n",
        "      divisors.append(i)\n",
        "  return divisors"
      ],
      "metadata": {
        "id": "Auf1fa66v7DN"
      },
      "execution_count": null,
      "outputs": []
    },
    {
      "cell_type": "code",
      "source": [
        "divisors(-80)"
      ],
      "metadata": {
        "colab": {
          "base_uri": "https://localhost:8080/",
          "height": 287
        },
        "id": "bc25tTwNxJM-",
        "outputId": "5ff3c930-b15c-4939-eb3a-cc8a006ef0bd"
      },
      "execution_count": null,
      "outputs": [
        {
          "output_type": "error",
          "ename": "AssertionError",
          "evalue": "ignored",
          "traceback": [
            "\u001b[0;31m---------------------------------------------------------------------------\u001b[0m",
            "\u001b[0;31mAssertionError\u001b[0m                            Traceback (most recent call last)",
            "\u001b[0;32m<ipython-input-29-a5d86adbca76>\u001b[0m in \u001b[0;36m<cell line: 1>\u001b[0;34m()\u001b[0m\n\u001b[0;32m----> 1\u001b[0;31m \u001b[0mdivisors\u001b[0m\u001b[0;34m(\u001b[0m\u001b[0;34m-\u001b[0m\u001b[0;36m80\u001b[0m\u001b[0;34m)\u001b[0m\u001b[0;34m\u001b[0m\u001b[0;34m\u001b[0m\u001b[0m\n\u001b[0m",
            "\u001b[0;32m<ipython-input-27-6dc7ea174e36>\u001b[0m in \u001b[0;36mdivisors\u001b[0;34m(n)\u001b[0m\n\u001b[1;32m      8\u001b[0m   \"\"\"\n\u001b[1;32m      9\u001b[0m   \u001b[0mdivisors\u001b[0m \u001b[0;34m=\u001b[0m \u001b[0;34m[\u001b[0m\u001b[0;34m]\u001b[0m\u001b[0;34m\u001b[0m\u001b[0;34m\u001b[0m\u001b[0m\n\u001b[0;32m---> 10\u001b[0;31m   \u001b[0;32massert\u001b[0m \u001b[0mn\u001b[0m \u001b[0;34m>\u001b[0m \u001b[0;36m0\u001b[0m\u001b[0;34m,\u001b[0m \u001b[0;34m\"n debe ser de tipo int y debe ser mayor que 0\"\u001b[0m\u001b[0;34m\u001b[0m\u001b[0;34m\u001b[0m\u001b[0m\n\u001b[0m\u001b[1;32m     11\u001b[0m   \u001b[0;32massert\u001b[0m \u001b[0mtype\u001b[0m\u001b[0;34m(\u001b[0m\u001b[0mn\u001b[0m\u001b[0;34m)\u001b[0m \u001b[0;34m==\u001b[0m \u001b[0mint\u001b[0m\u001b[0;34m,\u001b[0m \u001b[0;34m\"n debe ser de tipo int y debe ser mayor que 0\"\u001b[0m\u001b[0;34m\u001b[0m\u001b[0;34m\u001b[0m\u001b[0m\n\u001b[1;32m     12\u001b[0m   \u001b[0;32mfor\u001b[0m \u001b[0mi\u001b[0m \u001b[0;32min\u001b[0m \u001b[0mrange\u001b[0m\u001b[0;34m(\u001b[0m\u001b[0;36m1\u001b[0m\u001b[0;34m,\u001b[0m \u001b[0mn\u001b[0m \u001b[0;34m+\u001b[0m \u001b[0;36m1\u001b[0m\u001b[0;34m)\u001b[0m\u001b[0;34m:\u001b[0m\u001b[0;34m\u001b[0m\u001b[0;34m\u001b[0m\u001b[0m\n",
            "\u001b[0;31mAssertionError\u001b[0m: n debe ser de tipo int y debe ser mayor que 0"
          ]
        }
      ]
    },
    {
      "cell_type": "markdown",
      "source": [
        "Ejercicio 2\n",
        "\n",
        "Dada la función divisors(), muestra TypeError con el mensaje correspondiente si el parámetro n no se trata de un número entero y muestra ValueError con el mensaje correspondiente si n no se trata de un número positivo."
      ],
      "metadata": {
        "id": "0DLK_jmV05Ba"
      }
    },
    {
      "cell_type": "code",
      "source": [
        "def divisors(n):\n",
        "  \"\"\"\n",
        "  Calcula los divisores de un número entero positivo.\n",
        "  Args:\n",
        "    n: Número entero positivo\n",
        "  Returns:\n",
        "    divisors: Lista de divisores de n\n",
        "  \"\"\"\n",
        "  divisors = []\n",
        "  if n < 0:\n",
        "    raise ValueError(\"El número no es positivo\") \n",
        "  elif type(n) != int:\n",
        "    raise TypeError(\"El número no es entero\") \n",
        "  for i in range(1, n + 1):\n",
        "    if n % i == 0: \n",
        "      divisors.append(i)\n",
        "  return divisors"
      ],
      "metadata": {
        "id": "IIlxXgmV1BfL"
      },
      "execution_count": null,
      "outputs": []
    },
    {
      "cell_type": "code",
      "source": [
        "divisors(10.5)"
      ],
      "metadata": {
        "colab": {
          "base_uri": "https://localhost:8080/",
          "height": 287
        },
        "id": "vq6MiTZ82ePD",
        "outputId": "991b00a6-0686-416e-beec-b3fc584a1aee"
      },
      "execution_count": null,
      "outputs": [
        {
          "output_type": "error",
          "ename": "TypeError",
          "evalue": "ignored",
          "traceback": [
            "\u001b[0;31m---------------------------------------------------------------------------\u001b[0m",
            "\u001b[0;31mTypeError\u001b[0m                                 Traceback (most recent call last)",
            "\u001b[0;32m<ipython-input-107-7ad2a62ae786>\u001b[0m in \u001b[0;36m<cell line: 1>\u001b[0;34m()\u001b[0m\n\u001b[0;32m----> 1\u001b[0;31m \u001b[0mdivisors\u001b[0m\u001b[0;34m(\u001b[0m\u001b[0;36m10.5\u001b[0m\u001b[0;34m)\u001b[0m\u001b[0;34m\u001b[0m\u001b[0;34m\u001b[0m\u001b[0m\n\u001b[0m",
            "\u001b[0;32m<ipython-input-42-536ff11544b8>\u001b[0m in \u001b[0;36mdivisors\u001b[0;34m(n)\u001b[0m\n\u001b[1;32m     11\u001b[0m     \u001b[0;32mraise\u001b[0m \u001b[0mValueError\u001b[0m\u001b[0;34m(\u001b[0m\u001b[0;34m\"El número no es positivo\"\u001b[0m\u001b[0;34m)\u001b[0m\u001b[0;34m\u001b[0m\u001b[0;34m\u001b[0m\u001b[0m\n\u001b[1;32m     12\u001b[0m   \u001b[0;32melif\u001b[0m \u001b[0mtype\u001b[0m\u001b[0;34m(\u001b[0m\u001b[0mn\u001b[0m\u001b[0;34m)\u001b[0m \u001b[0;34m!=\u001b[0m \u001b[0mint\u001b[0m\u001b[0;34m:\u001b[0m\u001b[0;34m\u001b[0m\u001b[0;34m\u001b[0m\u001b[0m\n\u001b[0;32m---> 13\u001b[0;31m     \u001b[0;32mraise\u001b[0m \u001b[0mTypeError\u001b[0m\u001b[0;34m(\u001b[0m\u001b[0;34m\"El número no es entero\"\u001b[0m\u001b[0;34m)\u001b[0m\u001b[0;34m\u001b[0m\u001b[0;34m\u001b[0m\u001b[0m\n\u001b[0m\u001b[1;32m     14\u001b[0m   \u001b[0;32mfor\u001b[0m \u001b[0mi\u001b[0m \u001b[0;32min\u001b[0m \u001b[0mrange\u001b[0m\u001b[0;34m(\u001b[0m\u001b[0;36m1\u001b[0m\u001b[0;34m,\u001b[0m \u001b[0mn\u001b[0m \u001b[0;34m+\u001b[0m \u001b[0;36m1\u001b[0m\u001b[0;34m)\u001b[0m\u001b[0;34m:\u001b[0m\u001b[0;34m\u001b[0m\u001b[0;34m\u001b[0m\u001b[0m\n\u001b[1;32m     15\u001b[0m     \u001b[0;32mif\u001b[0m \u001b[0mn\u001b[0m \u001b[0;34m%\u001b[0m \u001b[0mi\u001b[0m \u001b[0;34m==\u001b[0m \u001b[0;36m0\u001b[0m\u001b[0;34m:\u001b[0m\u001b[0;34m\u001b[0m\u001b[0;34m\u001b[0m\u001b[0m\n",
            "\u001b[0;31mTypeError\u001b[0m: El número no es entero"
          ]
        }
      ]
    },
    {
      "cell_type": "markdown",
      "source": [
        "Ejercicio 3\n",
        "\n",
        "Dada la función is_palindrome(), asegura con assert que el parámetro word se trata de una variable de tipo string. De lo contrario, muestra como mensaje que \"word debe ser de tipo string\"."
      ],
      "metadata": {
        "id": "8ZCk56qf_zxS"
      }
    },
    {
      "cell_type": "code",
      "source": [
        "def is_palindrome(word):\n",
        "  \"\"\"\n",
        "  Devuelve si la palabra word es palíndroma.\n",
        "  Args:\n",
        "  word: Palabra\n",
        "  Returns:\n",
        "  isPalindrome: Booleano\n",
        "  \"\"\"\n",
        "  assert type(word) == str, \"word debe ser de tipo string\"\n",
        "  word = word.lower()\n",
        "  l = []\n",
        "  isPalindrome = True\n",
        "  \n",
        "  for c in word:\n",
        "    l.append(c)\n",
        "  n = len(l)\n",
        "  for i in range(int(n / 2)):\n",
        "    if l[i] != l[n - (i + 1)]: isPalindrome = False\n",
        "  return isPalindrome"
      ],
      "metadata": {
        "id": "4GVPtdt-Ac2X"
      },
      "execution_count": null,
      "outputs": []
    },
    {
      "cell_type": "code",
      "source": [
        "is_palindrome(True)"
      ],
      "metadata": {
        "colab": {
          "base_uri": "https://localhost:8080/",
          "height": 287
        },
        "id": "z3i1AQLcA818",
        "outputId": "1bb01a27-4151-467c-bd70-8bd917acce25"
      },
      "execution_count": null,
      "outputs": [
        {
          "output_type": "error",
          "ename": "AssertionError",
          "evalue": "ignored",
          "traceback": [
            "\u001b[0;31m---------------------------------------------------------------------------\u001b[0m",
            "\u001b[0;31mAssertionError\u001b[0m                            Traceback (most recent call last)",
            "\u001b[0;32m<ipython-input-49-4cdcce12b1e6>\u001b[0m in \u001b[0;36m<cell line: 1>\u001b[0;34m()\u001b[0m\n\u001b[0;32m----> 1\u001b[0;31m \u001b[0mis_palindrome\u001b[0m\u001b[0;34m(\u001b[0m\u001b[0;32mTrue\u001b[0m\u001b[0;34m)\u001b[0m\u001b[0;34m\u001b[0m\u001b[0;34m\u001b[0m\u001b[0m\n\u001b[0m",
            "\u001b[0;32m<ipython-input-47-580b349b0232>\u001b[0m in \u001b[0;36mis_palindrome\u001b[0;34m(word)\u001b[0m\n\u001b[1;32m      7\u001b[0m   \u001b[0misPalindrome\u001b[0m\u001b[0;34m:\u001b[0m \u001b[0mBooleano\u001b[0m\u001b[0;34m\u001b[0m\u001b[0;34m\u001b[0m\u001b[0m\n\u001b[1;32m      8\u001b[0m   \"\"\"\n\u001b[0;32m----> 9\u001b[0;31m   \u001b[0;32massert\u001b[0m \u001b[0mtype\u001b[0m\u001b[0;34m(\u001b[0m\u001b[0mword\u001b[0m\u001b[0;34m)\u001b[0m \u001b[0;34m==\u001b[0m \u001b[0mstr\u001b[0m\u001b[0;34m,\u001b[0m \u001b[0;34m\"word debe ser de tipo string\"\u001b[0m\u001b[0;34m\u001b[0m\u001b[0;34m\u001b[0m\u001b[0m\n\u001b[0m\u001b[1;32m     10\u001b[0m   \u001b[0mword\u001b[0m \u001b[0;34m=\u001b[0m \u001b[0mword\u001b[0m\u001b[0;34m.\u001b[0m\u001b[0mlower\u001b[0m\u001b[0;34m(\u001b[0m\u001b[0;34m)\u001b[0m\u001b[0;34m\u001b[0m\u001b[0;34m\u001b[0m\u001b[0m\n\u001b[1;32m     11\u001b[0m   \u001b[0ml\u001b[0m \u001b[0;34m=\u001b[0m \u001b[0;34m[\u001b[0m\u001b[0;34m]\u001b[0m\u001b[0;34m\u001b[0m\u001b[0;34m\u001b[0m\u001b[0m\n",
            "\u001b[0;31mAssertionError\u001b[0m: word debe ser de tipo string"
          ]
        }
      ]
    },
    {
      "cell_type": "markdown",
      "source": [
        "Ejercicio 4\n",
        "\n",
        "Dada la función is_palindrome(), muestra TypeError con el mensaje correspondiente si word no se trata de una variable de tipo string."
      ],
      "metadata": {
        "id": "SKT7HXasBO0_"
      }
    },
    {
      "cell_type": "code",
      "source": [
        "def is_palindrome(word):\n",
        "  \"\"\"\n",
        "  Devuelve si la palabra word es palíndroma.\n",
        "  Args:\n",
        "  word: Palabra\n",
        "  Returns:\n",
        "  isPalindrome: Booleano\n",
        "  \"\"\"\n",
        "  if type(word) != str:\n",
        "    raise TypeError(\"word debe ser de tipo string\") \n",
        "  word = word.lower()\n",
        "  l = []\n",
        "  isPalindrome = True\n",
        "  \n",
        "  for c in word:\n",
        "    l.append(c)\n",
        "  n = len(l)\n",
        "  for i in range(int(n / 2)):\n",
        "    if l[i] != l[n - (i + 1)]: isPalindrome = False\n",
        "  return isPalindrome"
      ],
      "metadata": {
        "id": "8SK1Kl8_BYSt"
      },
      "execution_count": null,
      "outputs": []
    },
    {
      "cell_type": "markdown",
      "source": [
        "Ejercicio 5\n",
        "\n",
        "Dada la función is_palindrome(), muestra ValueError con el mensaje correspondiente si word no se trata de una palabra. Es decir, si una vez ha pasado la comprobación de ser una variable de tipo string, comprueba que no tiene espacios."
      ],
      "metadata": {
        "id": "hWBvF9YNB4hQ"
      }
    },
    {
      "cell_type": "code",
      "source": [
        "def is_palindrome(word):\n",
        "  \"\"\"\n",
        "  Devuelve si la palabra word es palíndroma.\n",
        "  Args:\n",
        "  word: Palabra\n",
        "  Returns:\n",
        "  isPalindrome: Booleano\n",
        "  \"\"\"\n",
        "  if type(word) != str:\n",
        "    raise TypeError(\"word debe ser de tipo string\")\n",
        "  elif \" \" in word:\n",
        "    raise ValueError(\"word no debe tener espacios\") \n",
        "\n",
        "  word = word.lower()\n",
        "  l = []\n",
        "  isPalindrome = True\n",
        "  \n",
        "  for c in word:\n",
        "    l.append(c)\n",
        "  n = len(l)\n",
        "  for i in range(int(n / 2)):\n",
        "    if l[i] != l[n - (i + 1)]: isPalindrome = False\n",
        "  return isPalindrome"
      ],
      "metadata": {
        "id": "Dy2ohy0pCAm8"
      },
      "execution_count": null,
      "outputs": []
    },
    {
      "cell_type": "code",
      "source": [
        "is_palindrome(\"Daniel Gongora\")"
      ],
      "metadata": {
        "colab": {
          "base_uri": "https://localhost:8080/",
          "height": 287
        },
        "id": "DYE0qjDBC9JV",
        "outputId": "fe1c60fd-2f2b-40e5-936e-fcc06ced2fe6"
      },
      "execution_count": null,
      "outputs": [
        {
          "output_type": "error",
          "ename": "ValueError",
          "evalue": "ignored",
          "traceback": [
            "\u001b[0;31m---------------------------------------------------------------------------\u001b[0m",
            "\u001b[0;31mValueError\u001b[0m                                Traceback (most recent call last)",
            "\u001b[0;32m<ipython-input-53-bf23e994bbc5>\u001b[0m in \u001b[0;36m<cell line: 1>\u001b[0;34m()\u001b[0m\n\u001b[0;32m----> 1\u001b[0;31m \u001b[0mis_palindrome\u001b[0m\u001b[0;34m(\u001b[0m\u001b[0;34m\"Daniel Gongora\"\u001b[0m\u001b[0;34m)\u001b[0m\u001b[0;34m\u001b[0m\u001b[0;34m\u001b[0m\u001b[0m\n\u001b[0m",
            "\u001b[0;32m<ipython-input-52-2866484a933a>\u001b[0m in \u001b[0;36mis_palindrome\u001b[0;34m(word)\u001b[0m\n\u001b[1;32m     10\u001b[0m     \u001b[0;32mraise\u001b[0m \u001b[0mTypeError\u001b[0m\u001b[0;34m(\u001b[0m\u001b[0;34m\"word debe ser de tipo string\"\u001b[0m\u001b[0;34m)\u001b[0m\u001b[0;34m\u001b[0m\u001b[0;34m\u001b[0m\u001b[0m\n\u001b[1;32m     11\u001b[0m   \u001b[0;32melif\u001b[0m \u001b[0;34m\" \"\u001b[0m \u001b[0;32min\u001b[0m \u001b[0mword\u001b[0m\u001b[0;34m:\u001b[0m\u001b[0;34m\u001b[0m\u001b[0;34m\u001b[0m\u001b[0m\n\u001b[0;32m---> 12\u001b[0;31m     \u001b[0;32mraise\u001b[0m \u001b[0mValueError\u001b[0m\u001b[0;34m(\u001b[0m\u001b[0;34m\"word no debe tener espacios\"\u001b[0m\u001b[0;34m)\u001b[0m\u001b[0;34m\u001b[0m\u001b[0;34m\u001b[0m\u001b[0m\n\u001b[0m\u001b[1;32m     13\u001b[0m \u001b[0;34m\u001b[0m\u001b[0m\n\u001b[1;32m     14\u001b[0m   \u001b[0mword\u001b[0m \u001b[0;34m=\u001b[0m \u001b[0mword\u001b[0m\u001b[0;34m.\u001b[0m\u001b[0mlower\u001b[0m\u001b[0;34m(\u001b[0m\u001b[0;34m)\u001b[0m\u001b[0;34m\u001b[0m\u001b[0;34m\u001b[0m\u001b[0m\n",
            "\u001b[0;31mValueError\u001b[0m: word no debe tener espacios"
          ]
        }
      ]
    },
    {
      "cell_type": "markdown",
      "source": [
        "Ejercicio 6\n",
        "\n",
        "Dada la función is_palindrome() del resultado del ejercicio anterior, modifícala de modo que acepte no solo palabras sino también frases y devuelva si el string introducido es palíndromo o no. Recuerda tener en cuenta la excepción TypeError junto al mensaje correspondiente."
      ],
      "metadata": {
        "id": "STS8UOTTDGDl"
      }
    },
    {
      "cell_type": "code",
      "source": [
        "def is_palindrome(frase):\n",
        "  \"\"\"\n",
        "  Devuelve si la frase word es palíndroma.\n",
        "  Args:\n",
        "  frase: Frase\n",
        "  Returns:\n",
        "  isPalindrome: Booleano\n",
        "  \"\"\"\n",
        "\n",
        "  if type(frase) != str:\n",
        "    raise TypeError(\"La palabra/frase debe ser de tipo string\")\n",
        "  frase = frase.lower()\n",
        "  l = []\n",
        "  m = []\n",
        "  count=0\n",
        "  is_palindrome = True\n",
        "  \n",
        "\n",
        "  for i in frase:\n",
        "    if i != \" \":\n",
        "      l.append(i)\n",
        "\n",
        "  for j in frase:\n",
        "    if j != \" \":\n",
        "      m.append(j)\n",
        "  m.reverse()\n",
        "\n",
        "  for k in range(len(l)):\n",
        "    if m[k] == l[k]:\n",
        "      count += 1 \n",
        "\n",
        "  if count != len(l):\n",
        "    is_palindrome = False\n",
        "  \n",
        "  return is_palindrome"
      ],
      "metadata": {
        "id": "UMVJowXIDTgS"
      },
      "execution_count": null,
      "outputs": []
    },
    {
      "cell_type": "code",
      "source": [
        "is_palindrome(5646)"
      ],
      "metadata": {
        "colab": {
          "base_uri": "https://localhost:8080/",
          "height": 287
        },
        "id": "03PmGl7dGg0Q",
        "outputId": "fbf69dad-f5fb-49db-f173-9c1289a8c29b"
      },
      "execution_count": null,
      "outputs": [
        {
          "output_type": "error",
          "ename": "TypeError",
          "evalue": "ignored",
          "traceback": [
            "\u001b[0;31m---------------------------------------------------------------------------\u001b[0m",
            "\u001b[0;31mTypeError\u001b[0m                                 Traceback (most recent call last)",
            "\u001b[0;32m<ipython-input-106-34fe7e1417ea>\u001b[0m in \u001b[0;36m<cell line: 1>\u001b[0;34m()\u001b[0m\n\u001b[0;32m----> 1\u001b[0;31m \u001b[0mis_palindrome\u001b[0m\u001b[0;34m(\u001b[0m\u001b[0;36m5646\u001b[0m\u001b[0;34m)\u001b[0m\u001b[0;34m\u001b[0m\u001b[0;34m\u001b[0m\u001b[0m\n\u001b[0m",
            "\u001b[0;32m<ipython-input-105-5738c4954c81>\u001b[0m in \u001b[0;36mis_palindrome\u001b[0;34m(frase)\u001b[0m\n\u001b[1;32m      9\u001b[0m \u001b[0;34m\u001b[0m\u001b[0m\n\u001b[1;32m     10\u001b[0m   \u001b[0;32mif\u001b[0m \u001b[0mtype\u001b[0m\u001b[0;34m(\u001b[0m\u001b[0mfrase\u001b[0m\u001b[0;34m)\u001b[0m \u001b[0;34m!=\u001b[0m \u001b[0mstr\u001b[0m\u001b[0;34m:\u001b[0m\u001b[0;34m\u001b[0m\u001b[0;34m\u001b[0m\u001b[0m\n\u001b[0;32m---> 11\u001b[0;31m     \u001b[0;32mraise\u001b[0m \u001b[0mTypeError\u001b[0m\u001b[0;34m(\u001b[0m\u001b[0;34m\"La palabra/frase debe ser de tipo string\"\u001b[0m\u001b[0;34m)\u001b[0m\u001b[0;34m\u001b[0m\u001b[0;34m\u001b[0m\u001b[0m\n\u001b[0m\u001b[1;32m     12\u001b[0m   \u001b[0mfrase\u001b[0m \u001b[0;34m=\u001b[0m \u001b[0mfrase\u001b[0m\u001b[0;34m.\u001b[0m\u001b[0mlower\u001b[0m\u001b[0;34m(\u001b[0m\u001b[0;34m)\u001b[0m\u001b[0;34m\u001b[0m\u001b[0;34m\u001b[0m\u001b[0m\n\u001b[1;32m     13\u001b[0m   \u001b[0ml\u001b[0m \u001b[0;34m=\u001b[0m \u001b[0;34m[\u001b[0m\u001b[0;34m]\u001b[0m\u001b[0;34m\u001b[0m\u001b[0;34m\u001b[0m\u001b[0m\n",
            "\u001b[0;31mTypeError\u001b[0m: La palabra/frase debe ser de tipo string"
          ]
        }
      ]
    },
    {
      "cell_type": "markdown",
      "source": [
        "Ejercicio 7\n",
        "\n",
        "Utiliza try / except para dado un objeto de Python guardado en la variable x, aplicarle el método .index() y localizar el elemento \"c\". En el bloque try, guarda el resultado en la variable result. En el bloque except, en la variable result, si el objeto x es una lista, guarda el mensaje \"La lista no tiene el elemento \"c\".\n",
        "En caso contario, guarda el mensaje \"El objeto {tipo del objeto que sea x} no tiene el método .index()\". Finalmente, imprime por pantalla el resultado."
      ],
      "metadata": {
        "id": "M41co07SOuPd"
      }
    },
    {
      "cell_type": "code",
      "source": [
        "c = input(\"Introduzca elemento a localizar: \")\n",
        "x = ({\"palabras\":[\"teclado\",\"Daniel\", \"Isabela\"]})\n",
        "\n",
        "try:\n",
        "  result = x.index(c)\n",
        "  print(f\"La palabra introducida se encuentra en el indice {result}\")\n",
        "except ValueError:\n",
        "  print(\"La lista no tiene el elemento c\")\n",
        "except AttributeError:\n",
        "  print(f\"El objeto {type(x).__name__} no tiene el método .index()\")"
      ],
      "metadata": {
        "colab": {
          "base_uri": "https://localhost:8080/"
        },
        "id": "2kFSwh4VRY6e",
        "outputId": "bc899ade-c938-4d26-a950-1f326c77b4d6"
      },
      "execution_count": 1,
      "outputs": [
        {
          "output_type": "stream",
          "name": "stdout",
          "text": [
            "Introduzca elemento a localizar: teclado\n",
            "El objeto dict no tiene el método .index()\n"
          ]
        }
      ]
    },
    {
      "cell_type": "markdown",
      "source": [
        "Ejercicio 8\n",
        "\n",
        "Crea una función que calcule el área de un cuadrado. Como parámetro se recibirá un número real, correspondiente a la longitud de la base. Lanza las excepciones pertinentes siempre que el parámetro no se trate de un número real o entero positivo."
      ],
      "metadata": {
        "id": "Vju4AbLPjPwo"
      }
    },
    {
      "cell_type": "code",
      "source": [
        "def area_cuadrado(base):\n",
        "  \"\"\"\n",
        "  Devuelve el area de un cuadrado a partir de su base.\n",
        "  Args:\n",
        "  base: Longitud de sus lados \n",
        "  Returns:\n",
        "  area: area del cuadrado\n",
        "  \"\"\"\n",
        "\n",
        "  if type(base) != int and type(base) != float:\n",
        "    raise Exception(\"La longitud de la base debe ser un numero real\")\n",
        "  elif base < 0:\n",
        "    raise Exception(\"La longitud de la base no puede tomar valores menores a 0\")\n",
        "  \n",
        "  area = base**2\n",
        "  return area"
      ],
      "metadata": {
        "id": "yadSsaiCj2LF"
      },
      "execution_count": null,
      "outputs": []
    },
    {
      "cell_type": "code",
      "source": [
        "area_cuadrado(\"-50.5\")"
      ],
      "metadata": {
        "colab": {
          "base_uri": "https://localhost:8080/",
          "height": 287
        },
        "id": "tF8m6gJXrhXD",
        "outputId": "ccc7a609-5552-429e-acc9-cac9af2c8cd7"
      },
      "execution_count": null,
      "outputs": [
        {
          "output_type": "error",
          "ename": "Exception",
          "evalue": "ignored",
          "traceback": [
            "\u001b[0;31m---------------------------------------------------------------------------\u001b[0m",
            "\u001b[0;31mException\u001b[0m                                 Traceback (most recent call last)",
            "\u001b[0;32m<ipython-input-154-c280bba1494d>\u001b[0m in \u001b[0;36m<cell line: 1>\u001b[0;34m()\u001b[0m\n\u001b[0;32m----> 1\u001b[0;31m \u001b[0marea_cuadrado\u001b[0m\u001b[0;34m(\u001b[0m\u001b[0;34m\"-50.5\"\u001b[0m\u001b[0;34m)\u001b[0m\u001b[0;34m\u001b[0m\u001b[0;34m\u001b[0m\u001b[0m\n\u001b[0m",
            "\u001b[0;32m<ipython-input-150-4a6079241175>\u001b[0m in \u001b[0;36marea_cuadrado\u001b[0;34m(base)\u001b[0m\n\u001b[1;32m      9\u001b[0m \u001b[0;34m\u001b[0m\u001b[0m\n\u001b[1;32m     10\u001b[0m   \u001b[0;32mif\u001b[0m \u001b[0mtype\u001b[0m\u001b[0;34m(\u001b[0m\u001b[0mbase\u001b[0m\u001b[0;34m)\u001b[0m \u001b[0;34m!=\u001b[0m \u001b[0mint\u001b[0m \u001b[0;32mand\u001b[0m \u001b[0mtype\u001b[0m\u001b[0;34m(\u001b[0m\u001b[0mbase\u001b[0m\u001b[0;34m)\u001b[0m \u001b[0;34m!=\u001b[0m \u001b[0mfloat\u001b[0m\u001b[0;34m:\u001b[0m\u001b[0;34m\u001b[0m\u001b[0;34m\u001b[0m\u001b[0m\n\u001b[0;32m---> 11\u001b[0;31m     \u001b[0;32mraise\u001b[0m \u001b[0mException\u001b[0m\u001b[0;34m(\u001b[0m\u001b[0;34m\"La longitud de la base debe ser un numero real\"\u001b[0m\u001b[0;34m)\u001b[0m\u001b[0;34m\u001b[0m\u001b[0;34m\u001b[0m\u001b[0m\n\u001b[0m\u001b[1;32m     12\u001b[0m   \u001b[0;32melif\u001b[0m \u001b[0mbase\u001b[0m \u001b[0;34m<\u001b[0m \u001b[0;36m0\u001b[0m\u001b[0;34m:\u001b[0m\u001b[0;34m\u001b[0m\u001b[0;34m\u001b[0m\u001b[0m\n\u001b[1;32m     13\u001b[0m     \u001b[0;32mraise\u001b[0m \u001b[0mException\u001b[0m\u001b[0;34m(\u001b[0m\u001b[0;34m\"La longitud de la base no puede tomar valores menores a 0\"\u001b[0m\u001b[0;34m)\u001b[0m\u001b[0;34m\u001b[0m\u001b[0;34m\u001b[0m\u001b[0m\n",
            "\u001b[0;31mException\u001b[0m: La longitud de la base debe ser un numero real"
          ]
        }
      ]
    },
    {
      "cell_type": "markdown",
      "source": [
        "Ejercicio 9\n",
        "\n",
        "Crea una función que solicite al usuario la edad. Lanza una excepción en caso de que no se trate de una edad válida. Se considera edad no válida una edad negativa o mayor a 150. En cada caso, lanza el mensaje correspondiente."
      ],
      "metadata": {
        "id": "u8REIYkZtFN4"
      }
    },
    {
      "cell_type": "code",
      "source": [
        "def edad_valida():\n",
        "\n",
        "  edad = int(input(\"Introduce tu edad: \"))\n",
        "  if edad < 0:\n",
        "    raise Exception(\"La edad no puede ser un número negativo\")\n",
        "  elif edad > 150:\n",
        "    raise Exception(\"El valor de la edad no puede ser mayor de 150\")\n",
        "  return edad"
      ],
      "metadata": {
        "id": "MAWLzlPs2VZh"
      },
      "execution_count": 2,
      "outputs": []
    },
    {
      "cell_type": "code",
      "source": [
        "edad_valida()"
      ],
      "metadata": {
        "colab": {
          "base_uri": "https://localhost:8080/",
          "height": 287
        },
        "id": "f7otACkD8OOo",
        "outputId": "f4186669-164f-48ed-923d-96310c69af19"
      },
      "execution_count": 5,
      "outputs": [
        {
          "name": "stdout",
          "output_type": "stream",
          "text": [
            "Introduce tu edad: 180\n"
          ]
        },
        {
          "output_type": "error",
          "ename": "Exception",
          "evalue": "ignored",
          "traceback": [
            "\u001b[0;31m---------------------------------------------------------------------------\u001b[0m",
            "\u001b[0;31mException\u001b[0m                                 Traceback (most recent call last)",
            "\u001b[0;32m<ipython-input-5-0cd2bde75085>\u001b[0m in \u001b[0;36m<cell line: 1>\u001b[0;34m()\u001b[0m\n\u001b[0;32m----> 1\u001b[0;31m \u001b[0medad_valida\u001b[0m\u001b[0;34m(\u001b[0m\u001b[0;34m)\u001b[0m\u001b[0;34m\u001b[0m\u001b[0;34m\u001b[0m\u001b[0m\n\u001b[0m",
            "\u001b[0;32m<ipython-input-2-b3d19b95de3f>\u001b[0m in \u001b[0;36medad_valida\u001b[0;34m()\u001b[0m\n\u001b[1;32m      5\u001b[0m     \u001b[0;32mraise\u001b[0m \u001b[0mException\u001b[0m\u001b[0;34m(\u001b[0m\u001b[0;34m\"La edad no puede ser un número negativo\"\u001b[0m\u001b[0;34m)\u001b[0m\u001b[0;34m\u001b[0m\u001b[0;34m\u001b[0m\u001b[0m\n\u001b[1;32m      6\u001b[0m   \u001b[0;32melif\u001b[0m \u001b[0medad\u001b[0m \u001b[0;34m>\u001b[0m \u001b[0;36m150\u001b[0m\u001b[0;34m:\u001b[0m\u001b[0;34m\u001b[0m\u001b[0;34m\u001b[0m\u001b[0m\n\u001b[0;32m----> 7\u001b[0;31m     \u001b[0;32mraise\u001b[0m \u001b[0mException\u001b[0m\u001b[0;34m(\u001b[0m\u001b[0;34m\"El valor de la edad no puede ser mayor de 150\"\u001b[0m\u001b[0;34m)\u001b[0m\u001b[0;34m\u001b[0m\u001b[0;34m\u001b[0m\u001b[0m\n\u001b[0m\u001b[1;32m      8\u001b[0m   \u001b[0;32mreturn\u001b[0m \u001b[0medad\u001b[0m\u001b[0;34m\u001b[0m\u001b[0;34m\u001b[0m\u001b[0m\n",
            "\u001b[0;31mException\u001b[0m: El valor de la edad no puede ser mayor de 150"
          ]
        }
      ]
    },
    {
      "cell_type": "markdown",
      "source": [
        "Ejercicio 10\n",
        "\n",
        "Crea una función que solicite al usuario una letra en mayúscula. Lanza una excepción en caso de que el usuario no haya introducido nada, no haya introducido una letra, no haya introducido una letra mayúscula o no haya introducido solamente un caracter."
      ],
      "metadata": {
        "id": "LVMPPveV8aY7"
      }
    },
    {
      "cell_type": "code",
      "source": [
        "def letra_mayuscula():\n",
        "\n",
        "  letra = input(\"Introduce una letra mayuscula: \")\n",
        "  if letra == \"\":\n",
        "    raise Exception(\"No se ha introducido ningún caracter\")\n",
        "  elif type(letra) == int:\n",
        "    raise Exception(\"Se ha introducido un numero\")\n",
        "  elif len(letra) > 1:\n",
        "    raise Exception(\"Se ha introducido mas de 1 caracter\")\n",
        "  elif letra.isupper() == False:\n",
        "     raise Exception(\"La letra introducida esta en minusculas\")\n",
        "\n"
      ],
      "metadata": {
        "id": "dqZ-Gyij82Vo"
      },
      "execution_count": 6,
      "outputs": []
    },
    {
      "cell_type": "code",
      "source": [
        "letra_mayuscula()"
      ],
      "metadata": {
        "colab": {
          "base_uri": "https://localhost:8080/",
          "height": 287
        },
        "id": "O713MqrWCrVI",
        "outputId": "be085252-ff43-4413-bc07-af4b39df43d6"
      },
      "execution_count": 7,
      "outputs": [
        {
          "name": "stdout",
          "output_type": "stream",
          "text": [
            "Introduce una letra mayusculai\n"
          ]
        },
        {
          "output_type": "error",
          "ename": "Exception",
          "evalue": "ignored",
          "traceback": [
            "\u001b[0;31m---------------------------------------------------------------------------\u001b[0m",
            "\u001b[0;31mException\u001b[0m                                 Traceback (most recent call last)",
            "\u001b[0;32m<ipython-input-7-e947c6d9e5d8>\u001b[0m in \u001b[0;36m<cell line: 1>\u001b[0;34m()\u001b[0m\n\u001b[0;32m----> 1\u001b[0;31m \u001b[0mletra_mayuscula\u001b[0m\u001b[0;34m(\u001b[0m\u001b[0;34m)\u001b[0m\u001b[0;34m\u001b[0m\u001b[0;34m\u001b[0m\u001b[0m\n\u001b[0m",
            "\u001b[0;32m<ipython-input-6-c40d9a41775f>\u001b[0m in \u001b[0;36mletra_mayuscula\u001b[0;34m()\u001b[0m\n\u001b[1;32m      9\u001b[0m     \u001b[0;32mraise\u001b[0m \u001b[0mException\u001b[0m\u001b[0;34m(\u001b[0m\u001b[0;34m\"Se ha introducido mas de 1 caracter\"\u001b[0m\u001b[0;34m)\u001b[0m\u001b[0;34m\u001b[0m\u001b[0;34m\u001b[0m\u001b[0m\n\u001b[1;32m     10\u001b[0m   \u001b[0;32melif\u001b[0m \u001b[0mletra\u001b[0m\u001b[0;34m.\u001b[0m\u001b[0misupper\u001b[0m\u001b[0;34m(\u001b[0m\u001b[0;34m)\u001b[0m \u001b[0;34m==\u001b[0m \u001b[0;32mFalse\u001b[0m\u001b[0;34m:\u001b[0m\u001b[0;34m\u001b[0m\u001b[0;34m\u001b[0m\u001b[0m\n\u001b[0;32m---> 11\u001b[0;31m      \u001b[0;32mraise\u001b[0m \u001b[0mException\u001b[0m\u001b[0;34m(\u001b[0m\u001b[0;34m\"La letra introducida esta en minusculas\"\u001b[0m\u001b[0;34m)\u001b[0m\u001b[0;34m\u001b[0m\u001b[0;34m\u001b[0m\u001b[0m\n\u001b[0m\u001b[1;32m     12\u001b[0m \u001b[0;34m\u001b[0m\u001b[0m\n",
            "\u001b[0;31mException\u001b[0m: La letra introducida esta en minusculas"
          ]
        }
      ]
    }
  ]
}