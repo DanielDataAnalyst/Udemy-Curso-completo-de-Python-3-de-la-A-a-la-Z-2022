{
  "nbformat": 4,
  "nbformat_minor": 0,
  "metadata": {
    "colab": {
      "provenance": []
    },
    "kernelspec": {
      "name": "python3",
      "display_name": "Python 3"
    },
    "language_info": {
      "name": "python"
    }
  },
  "cells": [
    {
      "cell_type": "markdown",
      "source": [
        "Ejercicio 1\n",
        "\n",
        "A lo largo de toda esta taraea vas a construir la clase Date. Empieza con el constructor, que recibe por\n",
        "parámetros el día (day), mes (month) y año (year). Los 3 parámetros son de tipo int y por defecto todos\n",
        "valen 1."
      ],
      "metadata": {
        "id": "hRXEVpwix8R_"
      }
    },
    {
      "cell_type": "code",
      "source": [
        "class Date():\n",
        "  def __init__(self, day = 1, month = 1, year = 1):\n",
        "    self.day = day\n",
        "    self.month = month\n",
        "    self.year = year\n"
      ],
      "metadata": {
        "id": "2hQ9JHLLx_EK"
      },
      "execution_count": null,
      "outputs": []
    },
    {
      "cell_type": "markdown",
      "source": [
        "Ejercicio 2\n",
        "\n",
        "Configura el método .__str__() para que muestre la fecha en formato day / month / year. Si el valor\n",
        "del día o el mes son menores a 10, mostrar el valor con un 0 delante. Por ejemplo, si day = 8, month = 7 y\n",
        "year = 1998, entonces se debería mostrar 08 / 07 / 1998.\n",
        "En el caso del año, si el año es menor a 1000, mostrar con un cero delante; si es menor a 100, mostrar con 2\n",
        "ceros delante; y si es menor a 10, mostrar con 3 ceros delante.\n",
        "PISTA: Puedes crear una función que dado un número entero y el número de cifras que debe tener, rellene\n",
        "con ceros a la izquierda hasta completar el número de cifras indicado.\n"
      ],
      "metadata": {
        "id": "DQGhS3MrzgD1"
      }
    },
    {
      "cell_type": "code",
      "source": [
        "def zero_complete(numero):\n",
        "  numero = str(numero)\n",
        "  if len(numero) == 1:\n",
        "    return ('000' + str(numero))\n",
        "  elif len(numero) == 2:\n",
        "    return ('00' + str(numero))\n",
        "  elif len(numero) == 3:\n",
        "    return ('0' + str(numero))\n",
        "  else:\n",
        "    return numero\n",
        "\n",
        "class Date():\n",
        "  def __init__(self, day = 1, month = 1, year = 1):\n",
        "    self.day = day\n",
        "    self.month = month\n",
        "    self.year = year   \n",
        "\n",
        "  def __str__(self):\n",
        "    return (f\"{self.day if self.day > 9 else '0' + str(self.day)}/{self.month if self.month > 9 else '0' + str(self.month)}/{zero_complete(self.year)}\")\n",
        "    \n"
      ],
      "metadata": {
        "id": "yaXrNCcnziXe"
      },
      "execution_count": null,
      "outputs": []
    },
    {
      "cell_type": "markdown",
      "source": [
        "Ejercicio 3\n",
        "\n",
        "Implementa el método de instancia .isLeap() que diga si el año es bisiesto o no."
      ],
      "metadata": {
        "id": "_Y5YRTxZeVzf"
      }
    },
    {
      "cell_type": "code",
      "source": [
        "def zero_complete(numero):\n",
        "  numero = str(numero)\n",
        "  if len(numero) == 1:\n",
        "    return ('000' + str(numero))\n",
        "  elif len(numero) == 2:\n",
        "    return ('00' + str(numero))\n",
        "  elif len(numero) == 3:\n",
        "    return ('0' + str(numero))\n",
        "  else:\n",
        "    return numero\n",
        "    \n",
        "class Date():\n",
        "  \n",
        "  def __init__(self, day = 1, month = 1, year = 1):\n",
        "    self.day = day\n",
        "    self.month = month\n",
        "    self.year = year\n",
        "\n",
        "  def __str__(self):\n",
        "    return (f\"{self.day if self.day > 9 else '0' + str(self.day)}/{self.month if self.month > 9 else '0' + str(self.month)}/{zero_complete(self.year)}\")\n",
        "\n",
        "  def bisiesto(self):\n",
        "    import calendar\n",
        "    if calendar.isleap(self.year):\n",
        "      print(f\"El año {self.year} es bisiesto\") \n",
        "    else:\n",
        "      print(f\"El año {self.year} NO es bisiesto\")\n",
        "        "
      ],
      "metadata": {
        "id": "heNWfNxXf2da"
      },
      "execution_count": null,
      "outputs": []
    },
    {
      "cell_type": "code",
      "source": [
        "fecha = Date(22,5,2023)\n",
        "fecha.bisiesto()"
      ],
      "metadata": {
        "colab": {
          "base_uri": "https://localhost:8080/"
        },
        "id": "BVnLpi6MnQi7",
        "outputId": "edbc31c3-303f-4fab-e153-39c4dfe4396b"
      },
      "execution_count": null,
      "outputs": [
        {
          "output_type": "stream",
          "name": "stdout",
          "text": [
            "El año 2023 NO es bisiesto\n"
          ]
        }
      ]
    },
    {
      "cell_type": "markdown",
      "source": [
        "Ejercicio 4\n",
        "\n",
        "• Implementa un método de instancia .totalMonthDays() que diga el número de días del mes. Ten en\n",
        "cuenta que en los años bisiestos, Febrero tiene 29 días.\n",
        "\n",
        "• Implementa el método de instancia .validDate() que determine si una fecha es válida. Modifica el\n",
        "constructor para que si la fecha introducida no es válida, devuelva un mensaje indicando “¡¡¡La fecha\n",
        "introducida no es una fecha válida!!!”.*texto en cursiva*"
      ],
      "metadata": {
        "id": "IrHstZ7Oj751"
      }
    },
    {
      "cell_type": "code",
      "source": [
        "def zero_complete(numero):\n",
        "  numero = str(numero)\n",
        "  if len(numero) == 1:\n",
        "    return ('000' + str(numero))\n",
        "  elif len(numero) == 2:\n",
        "    return ('00' + str(numero))\n",
        "  elif len(numero) == 3:\n",
        "    return ('0' + str(numero))\n",
        "  else:\n",
        "    return numero\n",
        "    \n",
        "class Date():\n",
        "  \n",
        "  def __init__(self, day = 1, month = 1, year = 1):\n",
        "    self.day = day\n",
        "    self.month = month\n",
        "    self.year = year\n",
        "\n",
        "  def __str__(self):\n",
        "    return (f\"{self.day if self.day > 9 else '0' + str(self.day)}/{self.month if self.month > 9 else '0' + str(self.month)}/{zero_complete(self.year)}\")\n",
        "\n",
        "  def bisiesto(self):\n",
        "    import calendar\n",
        "    if calendar.isleap(self.year):\n",
        "      print(f\"El año {self.year} es bisiesto\") \n",
        "    else:\n",
        "      print(f\"El año {self.year} NO es bisiesto\")\n",
        "        \n",
        "  def totalMonthDays(self):\n",
        "    month30 = [4,6,9,11]\n",
        "    month31 = [1,3,5,7,8,10,12]\n",
        "    if self.month in month30:\n",
        "      return 30\n",
        "    elif self.month in month31:\n",
        "      return 31\n",
        "    elif self.month == 2:\n",
        "      import calendar\n",
        "      if calendar.isleap(self.year):\n",
        "        return 29\n",
        "      else: \n",
        "        return 28\n",
        "\n",
        "  def validDate(self):\n",
        "    if self.year < 0:\n",
        "      return False\n",
        "    if self.month <= 0 or self.month > 12:\n",
        "      return False\n",
        "    if self.day <= 0 or self.day > self.totalMonthDays():\n",
        "      return False\n",
        "    return True\n"
      ],
      "metadata": {
        "id": "wLLDyD_ZkA-H"
      },
      "execution_count": null,
      "outputs": []
    },
    {
      "cell_type": "code",
      "source": [
        "fecha1=Date(21,2,2003)\n",
        "fecha1.totalMonthDays()\n"
      ],
      "metadata": {
        "colab": {
          "base_uri": "https://localhost:8080/"
        },
        "id": "uJQvTJGynll8",
        "outputId": "d5c2609c-54f7-40c0-b2d4-c1ffe566937f"
      },
      "execution_count": null,
      "outputs": [
        {
          "output_type": "execute_result",
          "data": {
            "text/plain": [
              "28"
            ]
          },
          "metadata": {},
          "execution_count": 121
        }
      ]
    },
    {
      "cell_type": "code",
      "source": [
        "fecha1.validDate()"
      ],
      "metadata": {
        "colab": {
          "base_uri": "https://localhost:8080/"
        },
        "id": "Q0-K238Jnvtg",
        "outputId": "774e308e-4e25-412d-c880-73c993eb6d3e"
      },
      "execution_count": null,
      "outputs": [
        {
          "output_type": "execute_result",
          "data": {
            "text/plain": [
              "True"
            ]
          },
          "metadata": {},
          "execution_count": 122
        }
      ]
    },
    {
      "cell_type": "markdown",
      "source": [
        "Ejercicio 5\n",
        "\n",
        "Implementa la propiedad .monthName que devuelva el nombre del mes en inglés. Por ejemplo, si nuestra fecha es day = 8, month = 7 y year = 1998, la propiedad debe devolver July.\n",
        "\n"
      ],
      "metadata": {
        "id": "rVxFLioCkKeq"
      }
    },
    {
      "cell_type": "code",
      "source": [
        "def zero_complete(numero):\n",
        "  numero = str(numero)\n",
        "  if len(numero) == 1:\n",
        "    return ('000' + str(numero))\n",
        "  elif len(numero) == 2:\n",
        "    return ('00' + str(numero))\n",
        "  elif len(numero) == 3:\n",
        "    return ('0' + str(numero))\n",
        "  else:\n",
        "    return numero\n",
        "    \n",
        "class Date():\n",
        "  \n",
        "  def __init__(self, day = 1, month = 1, year = 1):\n",
        "    self.day = day\n",
        "    self.month = month\n",
        "    self.year = year\n",
        "\n",
        "  def __str__(self):\n",
        "    return (f\"{self.day if self.day > 9 else '0' + str(self.day)}/{self.month if self.month > 9 else '0' + str(self.month)}/{zero_complete(self.year)}\")\n",
        "\n",
        "  def bisiesto(self):\n",
        "    import calendar\n",
        "    if calendar.isleap(self.year):\n",
        "      print(f\"El año {self.year} es bisiesto\") \n",
        "    else:\n",
        "      print(f\"El año {self.year} NO es bisiesto\")\n",
        "        \n",
        "  def totalMonthDays(self):\n",
        "    month30 = [4,6,9,11]\n",
        "    month31 = [1,3,5,7,8,10,12]\n",
        "    if self.month in month30:\n",
        "      return 30\n",
        "    elif self.month in month31:\n",
        "      return 31\n",
        "    elif self.month == 2:\n",
        "      import calendar\n",
        "      if calendar.isleap(self.year):\n",
        "        return 29\n",
        "      else: \n",
        "        return 28\n",
        "\n",
        "  def validDate(self):\n",
        "    if self.year < 0:\n",
        "      return False\n",
        "    if self.month <= 0 or self.month > 12:\n",
        "      return False\n",
        "    if self.day <= 0 or self.day > self.totalMonthDays():\n",
        "      return False\n",
        "    return True\n",
        "\n",
        "  @property\n",
        "  def monthName(self):\n",
        "    month_name = {1:\"January\", 2:\"February\", 3:\"March\", 4:\"April\", 5:\"May\" , 6:\"June\", 7:\"July\", 8:\"August\", 9:\"September\", 10:\"October\", 11:\"November\", 12:\"December\"}\n",
        "    return month_name[self.month]"
      ],
      "metadata": {
        "id": "IcqOhU26kdYN"
      },
      "execution_count": null,
      "outputs": []
    },
    {
      "cell_type": "code",
      "source": [
        "fecha2 = Date(25,12,2023)\n",
        "fecha2.monthName"
      ],
      "metadata": {
        "colab": {
          "base_uri": "https://localhost:8080/",
          "height": 35
        },
        "id": "Waj0ee44n8Lr",
        "outputId": "f0a1a2b8-1cba-4c92-e6d1-cfda6b0e2695"
      },
      "execution_count": null,
      "outputs": [
        {
          "output_type": "execute_result",
          "data": {
            "text/plain": [
              "'December'"
            ],
            "application/vnd.google.colaboratory.intrinsic+json": {
              "type": "string"
            }
          },
          "metadata": {},
          "execution_count": 99
        }
      ]
    },
    {
      "cell_type": "markdown",
      "source": [
        "Ejercicio 6\n",
        "\n",
        "• Implementa el método estático .areEqual(), que dadas dos fechas diga si son iguales.\n",
        "\n",
        "• Implementa el método estático .isLater(), que dadas dos fechas diga si la primera es posterior a la\n",
        "segunda.\n",
        "\n",
        "• Implementa el método estático .isPrevious(), que dadas dos fechas diga si la primera es anterior a la segunda."
      ],
      "metadata": {
        "id": "zJCXj0kImEeY"
      }
    },
    {
      "cell_type": "code",
      "source": [
        "def zero_complete(numero):\n",
        "  numero = str(numero)\n",
        "  if len(numero) == 1:\n",
        "    return ('000' + str(numero))\n",
        "  elif len(numero) == 2:\n",
        "    return ('00' + str(numero))\n",
        "  elif len(numero) == 3:\n",
        "    return ('0' + str(numero))\n",
        "  else:\n",
        "    return numero\n",
        "    \n",
        "class Date():\n",
        "  \n",
        "  def __init__(self, day = 1, month = 1, year = 1):\n",
        "    self.day = day\n",
        "    self.month = month\n",
        "    self.year = year\n",
        "\n",
        "  def __str__(self):\n",
        "    return (f\"{self.day if self.day > 9 else '0' + str(self.day)}/{self.month if self.month > 9 else '0' + str(self.month)}/{zero_complete(self.year)}\")\n",
        "\n",
        "  def bisiesto(self):\n",
        "    import calendar\n",
        "    if calendar.isleap(self.year):\n",
        "      print(f\"El año {self.year} es bisiesto\") \n",
        "    else:\n",
        "      print(f\"El año {self.year} NO es bisiesto\")\n",
        "        \n",
        "  def totalMonthDays(self):\n",
        "    month30 = [4,6,9,11]\n",
        "    month31 = [1,3,5,7,8,10,12]\n",
        "    if self.month in month30:\n",
        "      return 30\n",
        "    elif self.month in month31:\n",
        "      return 31\n",
        "    elif self.month == 2:\n",
        "      import calendar\n",
        "      if calendar.isleap(self.year):\n",
        "        return 29\n",
        "      else: \n",
        "        return 28\n",
        "\n",
        "  def validDate(self):\n",
        "    if self.year < 0:\n",
        "      return False\n",
        "    if self.month <= 0 or self.month > 12:\n",
        "      return False\n",
        "    if self.day <= 0 or self.day > self.totalMonthDays():\n",
        "      return False\n",
        "    return True\n",
        "\n",
        "  @property\n",
        "  def monthName(self):\n",
        "    month_name = {1:\"January\", 2:\"February\", 3:\"March\", 4:\"April\", 5:\"May\" , 6:\"June\", 7:\"July\", 8:\"August\", 9:\"September\", 10:\"October\", 11:\"November\", 12:\"December\"}\n",
        "    return month_name[self.month]\n",
        "\n",
        "  @staticmethod\n",
        "  def areEqual(date1, date2):\n",
        "    if date1.year == date2.year and date1.month == date2.month and date1.day == date2.day:\n",
        "      return True\n",
        "    else:\n",
        "      return False\n",
        "    \n",
        "  @staticmethod\n",
        "  def isLater(date1, date2):\n",
        "    if date1.year > date2.year: \n",
        "      return True\n",
        "    else:\n",
        "      return False\n",
        "\n",
        "  @staticmethod\n",
        "  def isPrevious(fecha1, fecha2):\n",
        "    if fecha1 > fecha2: \n",
        "      return True\n",
        "    elif fecha1 < fecha2:\n",
        "      return False\n"
      ],
      "metadata": {
        "id": "eXdc1VVRmBOZ"
      },
      "execution_count": null,
      "outputs": []
    },
    {
      "cell_type": "code",
      "source": [
        "fecha1 = Date(3,11,2024)\n",
        "fecha2 = Date(3,11,2024)\n",
        "Date.areEqual(fecha1, fecha2)"
      ],
      "metadata": {
        "colab": {
          "base_uri": "https://localhost:8080/"
        },
        "id": "L23pv3XIpFF7",
        "outputId": "41dfddde-07bb-464d-ec74-a7353c5e951c"
      },
      "execution_count": null,
      "outputs": [
        {
          "output_type": "execute_result",
          "data": {
            "text/plain": [
              "True"
            ]
          },
          "metadata": {},
          "execution_count": 158
        }
      ]
    },
    {
      "cell_type": "markdown",
      "source": [
        "Ejercicio 7\n",
        "\n",
        "• Implementa el método de clase .firstDayOfTheYear() que dado un año cree un objeto Date con la fecha correspondiente al primer día del año indicado.\n",
        "\n",
        "• Implementa el método de clase .lastDayOfTheYear() que dado un año cree un objeto Date con la fecha correspondiente al último día del año indicado.\n",
        "\n",
        "• Implementa el método de instancia .plusDay() que incremente un día la fecha. Ten en cuenta que si estamos en el último día del mes y añadimos un día, tendremos que cambiar de mes (pasar al siguiente). Y lo mismo si estamos en el último día del año (tendremos que pasar al siguiente año).\n",
        "\n",
        "• Implementa el método de instancia .minusDay() que decremente un día la fecha. Ten en cuenta que si estamos en el primer día del mes y restamos un día, tendremos que cambiar de mes (pasar al anterior). Y lo mismo si estamos en el primer día del año (tendremos que pasar al año anterior)."
      ],
      "metadata": {
        "id": "kigZnTlZuKMy"
      }
    },
    {
      "cell_type": "code",
      "source": [
        "def zero_complete(numero):\n",
        "  numero = str(numero)\n",
        "  if len(numero) == 1:\n",
        "    return ('000' + str(numero))\n",
        "  elif len(numero) == 2:\n",
        "    return ('00' + str(numero))\n",
        "  elif len(numero) == 3:\n",
        "    return ('0' + str(numero))\n",
        "  else:\n",
        "    return numero\n",
        "    \n",
        "class Date():\n",
        "  \n",
        "  def __init__(self, day = 1, month = 1, year = 1):\n",
        "    self.day = day\n",
        "    self.month = month\n",
        "    self.year = year\n",
        "\n",
        "  def __str__(self):\n",
        "    return (f\"{self.day if self.day > 9 else '0' + str(self.day)}/{self.month if self.month > 9 else '0' + str(self.month)}/{zero_complete(self.year)}\")\n",
        "\n",
        "  def bisiesto(self):\n",
        "    import calendar\n",
        "    if calendar.isleap(self.year):\n",
        "      print(f\"El año {self.year} es bisiesto\") \n",
        "    else:\n",
        "      print(f\"El año {self.year} NO es bisiesto\")\n",
        "        \n",
        "  def totalMonthDays(self):\n",
        "    month30 = [4,6,9,11]\n",
        "    month31 = [1,3,5,7,8,10,12]\n",
        "    if self.month in month30:\n",
        "      return 30\n",
        "    elif self.month in month31:\n",
        "      return 31\n",
        "    elif self.month == 2:\n",
        "      import calendar\n",
        "      if calendar.isleap(self.year):\n",
        "        return 29\n",
        "      else: \n",
        "        return 28\n",
        "\n",
        "  def validDate(self):\n",
        "    if self.year < 0:\n",
        "      return False\n",
        "    if self.month <= 0 or self.month > 12:\n",
        "      return False\n",
        "    if self.day <= 0 or self.day > self.totalMonthDays():\n",
        "      return False\n",
        "    return True\n",
        "\n",
        "  @property\n",
        "  def monthName(self):\n",
        "    month_name = {1:\"January\", 2:\"February\", 3:\"March\", 4:\"April\", 5:\"May\" , 6:\"June\", 7:\"July\", 8:\"August\", 9:\"September\", 10:\"October\", 11:\"November\", 12:\"December\"}\n",
        "    return month_name[self.month]\n",
        "\n",
        "  @staticmethod\n",
        "  def areEqual(fecha1, fecha2):\n",
        "    if fecha1 == fecha2:\n",
        "      print(\"Las 2 fechas son iguales\")\n",
        "      return True\n",
        "    print(\"Las 2 fechas son diferentes\")\n",
        "    return False\n",
        "    \n",
        "  @staticmethod\n",
        "  def isLater(fecha1, fecha2):\n",
        "    if fecha1 < fecha2: \n",
        "      return True\n",
        "    elif fecha1 > fecha2:\n",
        "      return False\n",
        "\n",
        "  @staticmethod\n",
        "  def isPrevious(fecha1, fecha2):\n",
        "    if fecha1 > fecha2: \n",
        "      return True\n",
        "    elif fecha1 < fecha2:\n",
        "      return False\n",
        "\n",
        "  @classmethod\n",
        "  def firstDayOfTheYear(cls, year):\n",
        "    if year > 0:\n",
        "      return cls(1, 1, year)\n",
        "    print(\"El año introducido no es válido\")\n",
        "\n",
        "  @classmethod\n",
        "  def lastDayOfTheYear(cls, year):\n",
        "    if year > 0:\n",
        "      return cls(31, 12, year)\n",
        "    print(\"El año introducido no es válido\")    \n",
        "\n",
        "  def plusDay(self):\n",
        "    if Date.areEqual(self, Date.lastDayOfTheYear(self.year)):\n",
        "      self.day = 1\n",
        "      self.month = 1\n",
        "      self.year += 1\n",
        "    elif self.day == self.totalMonthDays():\n",
        "      self.day = 1\n",
        "      self.month += 1\n",
        "    else: self.day += 1\n",
        "  \n",
        "  def minusDay(self):\n",
        "    if Date.areEqual(self, Date.firstDayOfTheYear(self.year)):\n",
        "      self.day = 31\n",
        "      self.month = 12\n",
        "      self.year -= 1\n",
        "    elif self.day == 1:\n",
        "      self.month -= 1\n",
        "      self.day = self.totalMonthDays()\n",
        "    else: self.day -= 1\n"
      ],
      "metadata": {
        "id": "BR03RZ5tuTfo"
      },
      "execution_count": null,
      "outputs": []
    },
    {
      "cell_type": "code",
      "source": [
        "fecha6 = Date(21,2,2021)\n",
        "fecha6.plusDay()"
      ],
      "metadata": {
        "colab": {
          "base_uri": "https://localhost:8080/"
        },
        "id": "Vb8dQeS04g7C",
        "outputId": "a4ffa42b-a309-40c4-f455-8ef6ec71aea2"
      },
      "execution_count": null,
      "outputs": [
        {
          "output_type": "stream",
          "name": "stdout",
          "text": [
            "Las 2 fechas son diferentes\n"
          ]
        }
      ]
    }
  ]
}