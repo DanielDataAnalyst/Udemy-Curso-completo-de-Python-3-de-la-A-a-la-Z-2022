{
  "cells": [
    {
      "cell_type": "code",
      "execution_count": null,
      "metadata": {
        "id": "b2DWyS07C8eR"
      },
      "outputs": [],
      "source": [
        "def divisor_number(number):\n",
        "  \"\"\"\n",
        "  Función que dado un numero entero positivo introducido calcula sus divisores y devuelve una lista de estos\n",
        "  \n",
        "  Args\n",
        "  - number: Numero entero positivo\n",
        "  \n",
        "  Returns\n",
        "  - list_divisor: Lista con los divisores del numero introducido\n",
        "  \"\"\"\n",
        "  if number != int(number) or number < 0:\n",
        "    print(\"El numero introducido no es entero positivo\")\n",
        "  else:\n",
        "    list_divisor = []\n",
        "    for i in range(number):\n",
        "      if number % (i+1) == 0:\n",
        "        list_divisor.append(i+1)\n",
        "\n",
        "    return list_divisor"
      ]
    },
    {
      "cell_type": "code",
      "execution_count": null,
      "metadata": {
        "colab": {
          "base_uri": "https://localhost:8080/"
        },
        "id": "KsBB506zFatQ",
        "outputId": "4735e47a-a495-4a00-cd7e-8ac1cac9747b"
      },
      "outputs": [
        {
          "name": "stdout",
          "output_type": "stream",
          "text": [
            "El numero introducido no es entero positivo\n",
            "El numero introducido no es entero positivo\n"
          ]
        },
        {
          "data": {
            "text/plain": [
              "[1, 2, 4, 11, 22, 44, 106397, 212794, 425588, 1170367, 2340734, 4681468]"
            ]
          },
          "execution_count": 20,
          "metadata": {},
          "output_type": "execute_result"
        }
      ],
      "source": [
        "divisor_number(50.6)\n",
        "divisor_number(-10)\n",
        "divisor_number(4681468)"
      ]
    },
    {
      "cell_type": "code",
      "execution_count": null,
      "metadata": {
        "id": "gU6t-33QGJs_"
      },
      "outputs": [],
      "source": [
        "def max_number(n1, n2):\n",
        "  \"\"\"\n",
        "  Función que dados 2 numeros reales introducido determina el mayor\n",
        "  \n",
        "  Args\n",
        "  - n1: Número 1\n",
        "  - n2: Número 2\n",
        "  \n",
        "  Returns\n",
        "  - max: Número mayor\n",
        "  \"\"\"\n",
        "  if n1 > n2:\n",
        "    max = n1\n",
        "    return print(f\"{n1} es el numero mayor\")\n",
        "  elif n1 < n2:\n",
        "    max = n2\n",
        "    return print(f\"{n2} es el numero mayor\")\n",
        "  else: \n",
        "    return print(f\"Los numeros {n1} y {n2} son iguales\")\n",
        "\n"
      ]
    },
    {
      "cell_type": "code",
      "execution_count": null,
      "metadata": {
        "id": "IgMGs0GCIyzJ"
      },
      "outputs": [],
      "source": []
    },
    {
      "cell_type": "code",
      "execution_count": null,
      "metadata": {
        "colab": {
          "base_uri": "https://localhost:8080/"
        },
        "id": "IwpwCBgoIO-3",
        "outputId": "88954be3-5ff3-4a6f-946a-ac1ca824b7bf"
      },
      "outputs": [
        {
          "name": "stdout",
          "output_type": "stream",
          "text": [
            "52 es el numero mayor\n",
            "Los numeros 52 y 52 son iguales\n",
            "89 es el numero mayor\n"
          ]
        }
      ],
      "source": [
        "max_number(-584, 52)\n",
        "max_number(52, 52)\n",
        "max_number(89, 52)"
      ]
    },
    {
      "cell_type": "code",
      "execution_count": null,
      "metadata": {
        "id": "wuowXzR1Izug"
      },
      "outputs": [],
      "source": [
        "def abs_number(number):\n",
        "  \"\"\"\n",
        "  Función que devuelve el valor absoluto de un número\n",
        "  \n",
        "  Args\n",
        "  - number: Número introducido\n",
        "  \n",
        "  Returns\n",
        "  - abs: Valor absoluto\n",
        "  \"\"\"\n",
        "\n",
        "  if number >= 0:\n",
        "    return number\n",
        "  else: \n",
        "    return abs(number)"
      ]
    },
    {
      "cell_type": "code",
      "execution_count": null,
      "metadata": {
        "id": "AAj80zaDQuEY"
      },
      "outputs": [],
      "source": [
        "def vocal(letter):\n",
        "  \"\"\"\n",
        "  Función que devuelve si el argumento introducido es o no vocal\n",
        "  \n",
        "  Args\n",
        "  - letter: Letra\n",
        "  \n",
        "  Returns\n",
        "  - bool: True si es vocal False en caso contrario\n",
        "  \"\"\"\n",
        "\n",
        "  if len(letter) > 1:\n",
        "    print(\"El argumento introducido es tiene mas de 1 caracter\")\n",
        "  else:\n",
        "    letter.lower()\n",
        "    if letter == \"a\" or letter == \"e\" or letter == \"i\" or letter == \"o\" or letter == \"u\":\n",
        "      return True\n",
        "    else:\n",
        "      return False"
      ]
    },
    {
      "cell_type": "code",
      "execution_count": null,
      "metadata": {
        "id": "HiuNGflhSOA2"
      },
      "outputs": [],
      "source": [
        "def mcd(n1, n2):\n",
        "  \"\"\"\n",
        "  Función que dados 2 numeros reales introducido determina el maximo comun divisor\n",
        "  \n",
        "  Args\n",
        "  - n1: Número 1\n",
        "  - n2: Número 2\n",
        "  \n",
        "  Returns\n",
        "  - mcd: maximo comun divisor\n",
        "  \"\"\"\n",
        "  if n1 <= n2:\n",
        "    max = n2\n",
        "    min = n1\n",
        "  elif n1 > n2:\n",
        "    max = n1\n",
        "    min = n2\n",
        "    \n",
        "  list_min = []\n",
        "  for i in range(abs(min)):\n",
        "    if min % (i+1) == 0:\n",
        "      list_min.append(i+1)\n",
        "  list_min.reverse()\n",
        "\n",
        "  for j in list_min:\n",
        "    if max % j == 0:\n",
        "      mcd = j\n",
        "      break\n",
        "\n",
        "  return mcd\n",
        "  \n",
        "    \n"
      ]
    },
    {
      "cell_type": "code",
      "execution_count": null,
      "metadata": {
        "colab": {
          "base_uri": "https://localhost:8080/"
        },
        "id": "JjDtWQ7UF_xi",
        "outputId": "3520f432-23d2-4231-9fef-66db20a8e1da"
      },
      "outputs": [
        {
          "data": {
            "text/plain": [
              "8"
            ]
          },
          "execution_count": 131,
          "metadata": {},
          "output_type": "execute_result"
        }
      ],
      "source": [
        "mcd(-24,16)"
      ]
    },
    {
      "cell_type": "code",
      "execution_count": null,
      "metadata": {
        "id": "nmV-8IfXJseq"
      },
      "outputs": [],
      "source": [
        "def mcm(n1, n2):\n",
        "  \"\"\"\n",
        "  Función que dados 2 numeros reales introducido determina el minimo comun multiplo\n",
        "  \n",
        "  Args\n",
        "  - n1: Número 1\n",
        "  - n2: Número 2\n",
        "  \n",
        "  Returns\n",
        "  - mcm: minimo comun multiplo\n",
        "  \"\"\"\n",
        "  \n",
        "  if n1 <= n2:\n",
        "    max = n2\n",
        "    min = n1\n",
        "  elif n1 > n2:\n",
        "    max = n1\n",
        "    min = n2\n",
        "\n",
        "  L=[max]\n",
        "  i = 0  \n",
        "  while L[i] % min != 0:\n",
        "    L.append(max*(i+1))\n",
        "    i += 1\n",
        "  mcm = L[i]\n",
        "  return mcm\n",
        "  \n",
        "    \n"
      ]
    },
    {
      "cell_type": "code",
      "execution_count": null,
      "metadata": {
        "colab": {
          "base_uri": "https://localhost:8080/"
        },
        "id": "KnwIpqQTF8qQ",
        "outputId": "bbedfa6e-55d7-4040-fcb2-e4cff3577125"
      },
      "outputs": [
        {
          "output_type": "execute_result",
          "data": {
            "text/plain": [
              "48"
            ]
          },
          "metadata": {},
          "execution_count": 84
        }
      ],
      "source": [
        "mcm(24,16)"
      ]
    },
    {
      "cell_type": "code",
      "execution_count": null,
      "metadata": {
        "id": "z44N5In71Vng"
      },
      "outputs": [],
      "source": [
        "def palindroma(word):\n",
        "  \"\"\"\n",
        "  Función que dada 1 palabra determina si esta es palindroma\n",
        "  \n",
        "  Args\n",
        "  - n1: Número 1\n",
        "  - n2: Número 2\n",
        "  \n",
        "  Returns\n",
        "  True: Si es un palindromo\n",
        "  False: No es un palindromo \n",
        "  \"\"\"\n",
        "\n",
        "  word = word.lower()\n",
        "  L = []\n",
        "  M = []\n",
        "  count=0\n",
        "\n",
        "  for i in word:\n",
        "    L.append(i)\n",
        "  for j in word:\n",
        "    M.append(j)\n",
        "  M.reverse()\n",
        "\n",
        "  for k in range(len(L)):\n",
        "    if M[k] == L[k]:\n",
        "      count += 1 \n",
        "\n",
        "  if count == len(L):\n",
        "    return True\n",
        "  else:\n",
        "    return False\n",
        "    \n",
        "    "
      ]
    },
    {
      "cell_type": "code",
      "execution_count": null,
      "metadata": {
        "id": "PM3nOrdN1OE_",
        "colab": {
          "base_uri": "https://localhost:8080/"
        },
        "outputId": "ada91f19-01b7-4df4-9ebc-a99876692826"
      },
      "outputs": [
        {
          "output_type": "execute_result",
          "data": {
            "text/plain": [
              "True"
            ]
          },
          "metadata": {},
          "execution_count": 103
        }
      ],
      "source": [
        "palindroma(\"reconocer\")"
      ]
    },
    {
      "cell_type": "code",
      "execution_count": null,
      "metadata": {
        "id": "1_8JDpFa1Lwy"
      },
      "outputs": [],
      "source": [
        "def hex_to_rgb(hexadecimal):\n",
        "  \"\"\"\n",
        "  Función que dado un numero hexadecimal lo convierte en escala de colores RGB\n",
        "  \n",
        "  Args\n",
        "  - hexadecimal: Número hexadecimal\n",
        "  \n",
        "  Returns\n",
        "  [R, G, B]: Numero hexadecimal convertido a RGB\n",
        "  \"\"\"\n",
        "\n",
        "  hex_to_dec={\"0\": 0, \"1\": 1, \"2\": 2, \"3\": 3, \"4\": 4, \"5\": 5, \"6\": 6, \"7\": 7, \n",
        "          \"8\": 8, \"9\": 9, \"A\": 10, \"B\": 11, \"C\": 12, \"D\": 13, \"E\": 14, \"F\": 15}\n",
        "\n",
        "  hexadecimal = hexadecimal.upper()\n",
        "  if len(hexadecimal) == 6:\n",
        "    R = hex_to_dec[hexadecimal[0]] * 16 + hex_to_dec[hexadecimal[1]]\n",
        "    G = hex_to_dec[hexadecimal[2]] * 16 + hex_to_dec[hexadecimal[3]]\n",
        "    B = hex_to_dec[hexadecimal[4]] * 16 + hex_to_dec[hexadecimal[5]]\n",
        "    return [R, G, B]\n",
        "    \n",
        "  else:\n",
        "    print(\" Introduzca un numero hexadecimal de 6 caracteres\")\n"
      ]
    },
    {
      "cell_type": "code",
      "execution_count": 1,
      "metadata": {
        "colab": {
          "base_uri": "https://localhost:8080/",
          "height": 165
        },
        "id": "LG5G36cw0xPQ",
        "outputId": "75288491-1196-4e4e-dbb5-28f7c5f15116"
      },
      "outputs": [
        {
          "output_type": "error",
          "ename": "NameError",
          "evalue": "ignored",
          "traceback": [
            "\u001b[0;31m---------------------------------------------------------------------------\u001b[0m",
            "\u001b[0;31mNameError\u001b[0m                                 Traceback (most recent call last)",
            "\u001b[0;32m<ipython-input-1-c67db1984010>\u001b[0m in \u001b[0;36m<module>\u001b[0;34m\u001b[0m\n\u001b[0;32m----> 1\u001b[0;31m \u001b[0mhex_to_rgb\u001b[0m\u001b[0;34m(\u001b[0m\u001b[0;34m\"19BD1E\"\u001b[0m\u001b[0;34m)\u001b[0m\u001b[0;34m\u001b[0m\u001b[0;34m\u001b[0m\u001b[0m\n\u001b[0m",
            "\u001b[0;31mNameError\u001b[0m: name 'hex_to_rgb' is not defined"
          ]
        }
      ],
      "source": [
        "hex_to_rgb(\"19BD1E\")"
      ]
    },
    {
      "cell_type": "code",
      "execution_count": null,
      "metadata": {
        "id": "lnOBncCy1O3x"
      },
      "outputs": [],
      "source": [
        "def words_parity(list_words):\n",
        "  \"\"\"\n",
        "  Función que dada una frase cuenta las palabras pares e impares y las guarda en\n",
        "  un diccionario\n",
        "\n",
        "  Args\n",
        "  - list_words: Frase\n",
        "  \n",
        "  Returns\n",
        "  - dicc: Diccionario con la cantidad de palabras pares e impares\n",
        "  \"\"\"\n",
        "  dicc = {}\n",
        "  count_pair = 0\n",
        "  count_no_pair = 0\n",
        "  L = list_words.split()\n",
        "  for i in range(len(L)):\n",
        "    if len(L[i]) % 2 == 0:\n",
        "      count_pair += 1\n",
        "    else:\n",
        "      count_no_pair += 1 \n",
        "  \n",
        "  dicc = {\"Pares\": count_pair, \"Impares\": count_no_pair}\n",
        "  \n",
        "  return dicc"
      ]
    },
    {
      "cell_type": "code",
      "execution_count": null,
      "metadata": {
        "id": "Dh131dJE1MsJ",
        "colab": {
          "base_uri": "https://localhost:8080/"
        },
        "outputId": "ee3da44d-56ea-4bcb-ce8c-923d1e272816"
      },
      "outputs": [
        {
          "output_type": "execute_result",
          "data": {
            "text/plain": [
              "{'Pares': 5, 'Impares': 4}"
            ]
          },
          "metadata": {},
          "execution_count": 31
        }
      ],
      "source": [
        "words_parity(\"la naranja se pico no hagas calculo para que\")"
      ]
    },
    {
      "cell_type": "code",
      "execution_count": 24,
      "metadata": {
        "id": "nZXwPtnh1BCo"
      },
      "outputs": [],
      "source": [
        "def count_character(list_words):\n",
        "  \"\"\"\n",
        "  Función que dada una frase cuenta cuantas veces aparece cada caracter\n",
        "\n",
        "  Args\n",
        "  - list_words: Frase\n",
        "  \n",
        "  Returns\n",
        "  - dicc: Diccionario con la cantidad de veces que sale cada caracter\n",
        "  \"\"\"\n",
        "\n",
        "  dicc = {}\n",
        "  L = []\n",
        "  index = 1\n",
        "  \n",
        "  list_words = list_words.lower()\n",
        "  for i in list_words:\n",
        "    if i == \" \":\n",
        "      continue\n",
        "    L.append(i)\n",
        "\n",
        "  for j in L:\n",
        "    if j not in dicc.keys():  \n",
        "      dicc[j] = L.count(j)\n",
        "\n",
        "  return dicc\n",
        "\n",
        "\n",
        "\n"
      ]
    },
    {
      "cell_type": "code",
      "execution_count": 25,
      "metadata": {
        "id": "YWEG27G702gI",
        "colab": {
          "base_uri": "https://localhost:8080/"
        },
        "outputId": "b652a619-4897-41f0-974d-5db1e6ed2925"
      },
      "outputs": [
        {
          "output_type": "execute_result",
          "data": {
            "text/plain": [
              "{'l': 5,\n",
              " 'a': 6,\n",
              " 'e': 6,\n",
              " 'v': 1,\n",
              " 'o': 3,\n",
              " 'u': 1,\n",
              " 'c': 1,\n",
              " 'i': 2,\n",
              " 'n': 2,\n",
              " 'd': 1,\n",
              " 's': 4,\n",
              " 'p': 2,\n",
              " 'b': 1,\n",
              " 'r': 2,\n",
              " 'y': 1,\n",
              " 'f': 1,\n",
              " 't': 1,\n",
              " 'm': 1}"
            ]
          },
          "metadata": {},
          "execution_count": 25
        }
      ],
      "source": [
        "count_character(\"La evolucion de las palabras y frases en el tiempo\")"
      ]
    },
    {
      "cell_type": "code",
      "execution_count": null,
      "metadata": {
        "id": "Fy_IgUIP0puJ"
      },
      "outputs": [],
      "source": []
    },
    {
      "cell_type": "code",
      "execution_count": null,
      "metadata": {
        "id": "ar32Zpgm0gPk"
      },
      "outputs": [],
      "source": []
    },
    {
      "cell_type": "code",
      "execution_count": null,
      "metadata": {
        "id": "rOHbZAeP0Vfp"
      },
      "outputs": [],
      "source": []
    },
    {
      "cell_type": "code",
      "execution_count": null,
      "metadata": {
        "id": "W9279s930PLZ"
      },
      "outputs": [],
      "source": []
    },
    {
      "cell_type": "code",
      "execution_count": null,
      "metadata": {
        "id": "MQ8HcurK0F0z"
      },
      "outputs": [],
      "source": []
    },
    {
      "cell_type": "code",
      "execution_count": null,
      "metadata": {
        "id": "URdhriYxs1vx"
      },
      "outputs": [],
      "source": []
    },
    {
      "cell_type": "code",
      "execution_count": null,
      "metadata": {
        "id": "5HLi5ZWNsnHg"
      },
      "outputs": [],
      "source": []
    },
    {
      "cell_type": "code",
      "execution_count": null,
      "metadata": {
        "id": "Z2Ah7DhWq1WU"
      },
      "outputs": [],
      "source": []
    },
    {
      "cell_type": "code",
      "execution_count": null,
      "metadata": {
        "id": "xmTU0AFHmbJ1"
      },
      "outputs": [],
      "source": []
    },
    {
      "cell_type": "code",
      "execution_count": null,
      "metadata": {
        "id": "TmHl3LZZmNf-"
      },
      "outputs": [],
      "source": []
    },
    {
      "cell_type": "code",
      "execution_count": null,
      "metadata": {
        "id": "is6i-A3xlx3H"
      },
      "outputs": [],
      "source": []
    },
    {
      "cell_type": "code",
      "execution_count": null,
      "metadata": {
        "colab": {
          "base_uri": "https://localhost:8080/"
        },
        "id": "vB3fYKLkgNc8",
        "outputId": "d545c0b2-d343-4ecf-dfbc-f9bcbdd35cf4"
      },
      "outputs": [
        {
          "name": "stdout",
          "output_type": "stream",
          "text": [
            "18\n"
          ]
        }
      ],
      "source": [
        "\n"
      ]
    },
    {
      "cell_type": "code",
      "execution_count": null,
      "metadata": {
        "id": "E9vP3qX2lfbH"
      },
      "outputs": [],
      "source": []
    },
    {
      "cell_type": "code",
      "execution_count": null,
      "metadata": {
        "id": "oF8o84TclTZf"
      },
      "outputs": [],
      "source": []
    },
    {
      "cell_type": "code",
      "execution_count": null,
      "metadata": {
        "id": "K-8GYxz0hEJJ"
      },
      "outputs": [],
      "source": []
    },
    {
      "cell_type": "code",
      "execution_count": null,
      "metadata": {
        "id": "qeWIEg0IglUR"
      },
      "outputs": [],
      "source": []
    },
    {
      "cell_type": "code",
      "execution_count": null,
      "metadata": {
        "id": "9tn5rEFcgY9R"
      },
      "outputs": [],
      "source": []
    },
    {
      "cell_type": "code",
      "execution_count": null,
      "metadata": {
        "id": "JLMyzXMtgXyp"
      },
      "outputs": [],
      "source": []
    },
    {
      "cell_type": "code",
      "execution_count": null,
      "metadata": {
        "id": "qBQAY97kgWda"
      },
      "outputs": [],
      "source": []
    },
    {
      "cell_type": "code",
      "execution_count": null,
      "metadata": {
        "id": "6rNB3SIRfHHm"
      },
      "outputs": [],
      "source": []
    },
    {
      "cell_type": "code",
      "execution_count": null,
      "metadata": {
        "colab": {
          "base_uri": "https://localhost:8080/",
          "height": 287
        },
        "id": "mtMZ9_l3e-XE",
        "outputId": "ebf26aae-31c6-4253-9ab5-6b6bb70e0af8"
      },
      "outputs": [
        {
          "ename": "KeyboardInterrupt",
          "evalue": "ignored",
          "output_type": "error",
          "traceback": [
            "\u001b[0;31m---------------------------------------------------------------------------\u001b[0m",
            "\u001b[0;31mKeyboardInterrupt\u001b[0m                         Traceback (most recent call last)",
            "\u001b[0;32m<ipython-input-48-fa68fbd6b869>\u001b[0m in \u001b[0;36m<module>\u001b[0;34m\u001b[0m\n\u001b[0;32m----> 1\u001b[0;31m \u001b[0mmcd\u001b[0m\u001b[0;34m(\u001b[0m\u001b[0;36m50\u001b[0m\u001b[0;34m,\u001b[0m \u001b[0;36m20\u001b[0m\u001b[0;34m)\u001b[0m\u001b[0;34m\u001b[0m\u001b[0;34m\u001b[0m\u001b[0m\n\u001b[0m",
            "\u001b[0;32m<ipython-input-47-8ba92d8198ed>\u001b[0m in \u001b[0;36mmcd\u001b[0;34m(n1, n2)\u001b[0m\n\u001b[1;32m     20\u001b[0m     \u001b[0mmin\u001b[0m \u001b[0;34m=\u001b[0m \u001b[0mn1\u001b[0m\u001b[0;34m\u001b[0m\u001b[0;34m\u001b[0m\u001b[0m\n\u001b[1;32m     21\u001b[0m \u001b[0;34m\u001b[0m\u001b[0m\n\u001b[0;32m---> 22\u001b[0;31m   \u001b[0;32mwhile\u001b[0m \u001b[0mmax\u001b[0m \u001b[0;34m%\u001b[0m \u001b[0mmin\u001b[0m \u001b[0;34m!=\u001b[0m \u001b[0;36m0\u001b[0m\u001b[0;34m:\u001b[0m\u001b[0;34m\u001b[0m\u001b[0;34m\u001b[0m\u001b[0m\n\u001b[0m\u001b[1;32m     23\u001b[0m     \u001b[0;32mif\u001b[0m \u001b[0mmax\u001b[0m \u001b[0;34m%\u001b[0m \u001b[0mmin\u001b[0m \u001b[0;34m==\u001b[0m \u001b[0;36m0\u001b[0m\u001b[0;34m:\u001b[0m\u001b[0;34m\u001b[0m\u001b[0;34m\u001b[0m\u001b[0m\n\u001b[1;32m     24\u001b[0m       \u001b[0mmcd\u001b[0m \u001b[0;34m=\u001b[0m \u001b[0mmin\u001b[0m\u001b[0;34m\u001b[0m\u001b[0;34m\u001b[0m\u001b[0m\n",
            "\u001b[0;31mKeyboardInterrupt\u001b[0m: "
          ]
        }
      ],
      "source": [
        "mcd(50, 20)"
      ]
    },
    {
      "cell_type": "code",
      "execution_count": null,
      "metadata": {
        "id": "2-6RYprBfH41"
      },
      "outputs": [],
      "source": []
    },
    {
      "cell_type": "code",
      "execution_count": null,
      "metadata": {
        "id": "7JcFNZs6enLJ"
      },
      "outputs": [],
      "source": []
    },
    {
      "cell_type": "code",
      "execution_count": null,
      "metadata": {
        "id": "IWq_GHMtedk2"
      },
      "outputs": [],
      "source": []
    },
    {
      "cell_type": "code",
      "execution_count": null,
      "metadata": {
        "id": "Py3yXqDWeHoP"
      },
      "outputs": [],
      "source": [
        "\n"
      ]
    },
    {
      "cell_type": "code",
      "execution_count": null,
      "metadata": {
        "id": "c11LpAPufAIk"
      },
      "outputs": [],
      "source": []
    },
    {
      "cell_type": "code",
      "execution_count": null,
      "metadata": {
        "id": "Hn1zuCibeoHp"
      },
      "outputs": [],
      "source": []
    },
    {
      "cell_type": "code",
      "execution_count": null,
      "metadata": {
        "id": "mbhapr_aegwd"
      },
      "outputs": [],
      "source": []
    },
    {
      "cell_type": "code",
      "execution_count": null,
      "metadata": {
        "id": "W9gGetYFSGUV"
      },
      "outputs": [],
      "source": []
    },
    {
      "cell_type": "code",
      "execution_count": null,
      "metadata": {
        "id": "DImRA8QHSAmn"
      },
      "outputs": [],
      "source": []
    },
    {
      "cell_type": "code",
      "execution_count": null,
      "metadata": {
        "id": "SaBurekVIjPR"
      },
      "outputs": [],
      "source": []
    },
    {
      "cell_type": "code",
      "execution_count": null,
      "metadata": {
        "id": "SebQEBA1IfFC"
      },
      "outputs": [],
      "source": []
    },
    {
      "cell_type": "code",
      "execution_count": null,
      "metadata": {
        "id": "I-av2wmwIeTx"
      },
      "outputs": [],
      "source": []
    },
    {
      "cell_type": "code",
      "execution_count": null,
      "metadata": {
        "id": "KgnhYIKEIV1J"
      },
      "outputs": [],
      "source": []
    },
    {
      "cell_type": "code",
      "execution_count": null,
      "metadata": {
        "id": "aZzVbQ0kF-TH"
      },
      "outputs": [],
      "source": []
    },
    {
      "cell_type": "code",
      "execution_count": null,
      "metadata": {
        "id": "KqjjjDE4F0R5"
      },
      "outputs": [],
      "source": []
    },
    {
      "cell_type": "code",
      "execution_count": null,
      "metadata": {
        "id": "shkuafwVFnqQ"
      },
      "outputs": [],
      "source": []
    },
    {
      "cell_type": "code",
      "execution_count": null,
      "metadata": {
        "id": "lE7j4T-PFhen"
      },
      "outputs": [],
      "source": []
    },
    {
      "cell_type": "code",
      "execution_count": null,
      "metadata": {
        "id": "SP3qT1c1Ff1-"
      },
      "outputs": [],
      "source": []
    },
    {
      "cell_type": "code",
      "execution_count": null,
      "metadata": {
        "id": "EcIodHPrFYzA"
      },
      "outputs": [],
      "source": []
    },
    {
      "cell_type": "code",
      "execution_count": null,
      "metadata": {
        "id": "r94-8xV3FW5w"
      },
      "outputs": [],
      "source": []
    },
    {
      "cell_type": "code",
      "execution_count": null,
      "metadata": {
        "id": "1nEocfVdFSDY"
      },
      "outputs": [],
      "source": []
    },
    {
      "cell_type": "code",
      "execution_count": null,
      "metadata": {
        "id": "SamGsrhJFLD4"
      },
      "outputs": [],
      "source": []
    },
    {
      "cell_type": "code",
      "execution_count": null,
      "metadata": {
        "id": "cx5h3RaSFEkq"
      },
      "outputs": [],
      "source": []
    },
    {
      "cell_type": "code",
      "execution_count": null,
      "metadata": {
        "id": "EQRkSwERE-UB"
      },
      "outputs": [],
      "source": []
    }
  ],
  "metadata": {
    "colab": {
      "provenance": []
    },
    "kernelspec": {
      "display_name": "Python 3",
      "name": "python3"
    },
    "language_info": {
      "name": "python"
    }
  },
  "nbformat": 4,
  "nbformat_minor": 0
}