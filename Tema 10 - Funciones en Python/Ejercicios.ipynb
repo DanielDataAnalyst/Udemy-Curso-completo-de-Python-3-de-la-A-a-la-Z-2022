{
  "cells": [
    {
      "cell_type": "markdown",
      "source": [
        "Ejercicio 1\n",
        "\n",
        "Crea una función que busque todos los divisores del número entero positivo dado por parámetro y devuelva una lista con todos los divisores de dicho número."
      ],
      "metadata": {
        "id": "A-o3AJNNVeNv"
      }
    },
    {
      "cell_type": "code",
      "execution_count": null,
      "metadata": {
        "id": "b2DWyS07C8eR"
      },
      "outputs": [],
      "source": [
        "def divisor_number(number):\n",
        "  \"\"\"\n",
        "  Función que dado un numero entero positivo introducido calcula sus divisores y devuelve una lista de estos\n",
        "  \n",
        "  Args\n",
        "  - number: Numero entero positivo\n",
        "  \n",
        "  Returns\n",
        "  - list_divisor: Lista con los divisores del numero introducido\n",
        "  \"\"\"\n",
        "  if number != int(number) or number < 0:\n",
        "    print(\"El numero introducido no es entero positivo\")\n",
        "  else:\n",
        "    list_divisor = []\n",
        "    for i in range(number):\n",
        "      if number % (i+1) == 0:\n",
        "        list_divisor.append(i+1)\n",
        "\n",
        "    return list_divisor"
      ]
    },
    {
      "cell_type": "code",
      "execution_count": null,
      "metadata": {
        "colab": {
          "base_uri": "https://localhost:8080/"
        },
        "id": "KsBB506zFatQ",
        "outputId": "4735e47a-a495-4a00-cd7e-8ac1cac9747b"
      },
      "outputs": [
        {
          "name": "stdout",
          "output_type": "stream",
          "text": [
            "El numero introducido no es entero positivo\n",
            "El numero introducido no es entero positivo\n"
          ]
        },
        {
          "data": {
            "text/plain": [
              "[1, 2, 4, 11, 22, 44, 106397, 212794, 425588, 1170367, 2340734, 4681468]"
            ]
          },
          "execution_count": 20,
          "metadata": {},
          "output_type": "execute_result"
        }
      ],
      "source": [
        "divisor_number(50.6)\n",
        "divisor_number(-10)\n",
        "divisor_number(4681468)"
      ]
    },
    {
      "cell_type": "markdown",
      "source": [
        "Ejercicio 2\n",
        "\n",
        "Crea una función que dados dos números reales por parámetro, devuelve el mayor."
      ],
      "metadata": {
        "id": "SElrIg_WVkkB"
      }
    },
    {
      "cell_type": "code",
      "execution_count": null,
      "metadata": {
        "id": "gU6t-33QGJs_"
      },
      "outputs": [],
      "source": [
        "def max_number(n1, n2):\n",
        "  \"\"\"\n",
        "  Función que dados 2 numeros reales introducido determina el mayor\n",
        "  \n",
        "  Args\n",
        "  - n1: Número 1\n",
        "  - n2: Número 2\n",
        "  \n",
        "  Returns\n",
        "  - max: Número mayor\n",
        "  \"\"\"\n",
        "  if n1 > n2:\n",
        "    max = n1\n",
        "    return print(f\"{n1} es el numero mayor\")\n",
        "  elif n1 < n2:\n",
        "    max = n2\n",
        "    return print(f\"{n2} es el numero mayor\")\n",
        "  else: \n",
        "    return print(f\"Los numeros {n1} y {n2} son iguales\")\n",
        "\n"
      ]
    },
    {
      "cell_type": "code",
      "execution_count": null,
      "metadata": {
        "colab": {
          "base_uri": "https://localhost:8080/"
        },
        "id": "IwpwCBgoIO-3",
        "outputId": "88954be3-5ff3-4a6f-946a-ac1ca824b7bf"
      },
      "outputs": [
        {
          "name": "stdout",
          "output_type": "stream",
          "text": [
            "52 es el numero mayor\n",
            "Los numeros 52 y 52 son iguales\n",
            "89 es el numero mayor\n"
          ]
        }
      ],
      "source": [
        "max_number(-584, 52)\n",
        "max_number(52, 52)\n",
        "max_number(89, 52)"
      ]
    },
    {
      "cell_type": "markdown",
      "source": [
        "Ejercicio 3\n",
        "\n",
        "Crea una función que dado un número devuelva su valor absoluto. Recuerda,\n",
        "\n",
        "|x| =\u001a\n",
        "\n",
        "x si x >= 0\n",
        "\n",
        "-x si x < 0"
      ],
      "metadata": {
        "id": "B1xv7OovVor1"
      }
    },
    {
      "cell_type": "code",
      "execution_count": null,
      "metadata": {
        "id": "wuowXzR1Izug"
      },
      "outputs": [],
      "source": [
        "def abs_number(number):\n",
        "  \"\"\"\n",
        "  Función que devuelve el valor absoluto de un número\n",
        "  \n",
        "  Args\n",
        "  - number: Número introducido\n",
        "  \n",
        "  Returns\n",
        "  - abs: Valor absoluto\n",
        "  \"\"\"\n",
        "\n",
        "  if number >= 0:\n",
        "    return number\n",
        "  else: \n",
        "    return abs(number)"
      ]
    },
    {
      "cell_type": "markdown",
      "source": [
        "Ejercicio 4\n",
        "\n",
        "Crea una función que devuelva True si el caracter introducido por parámetro se trata de una vocal y False en caso contrario."
      ],
      "metadata": {
        "id": "zDtFdyFGVzoo"
      }
    },
    {
      "cell_type": "code",
      "execution_count": null,
      "metadata": {
        "id": "AAj80zaDQuEY"
      },
      "outputs": [],
      "source": [
        "def vocal(letter):\n",
        "  \"\"\"\n",
        "  Función que devuelve si el argumento introducido es o no vocal\n",
        "  \n",
        "  Args\n",
        "  - letter: Letra\n",
        "  \n",
        "  Returns\n",
        "  - bool: True si es vocal False en caso contrario\n",
        "  \"\"\"\n",
        "\n",
        "  if len(letter) > 1:\n",
        "    print(\"El argumento introducido es tiene mas de 1 caracter\")\n",
        "  else:\n",
        "    letter.lower()\n",
        "    if letter == \"a\" or letter == \"e\" or letter == \"i\" or letter == \"o\" or letter == \"u\":\n",
        "      return True\n",
        "    else:\n",
        "      return False"
      ]
    },
    {
      "cell_type": "markdown",
      "source": [
        "Ejercicio 5\n",
        "\n",
        "Crea una función que devuelva el MCD (máximo común divisor) de 2 números proporcionados por parámetro.\n",
        "\n",
        "PISTA: Aprovecha la función que calcula el mayor entre dos números dados. También necesitarás una función que calcula el menor entre dos números dados."
      ],
      "metadata": {
        "id": "Z5xJF_hbV3p0"
      }
    },
    {
      "cell_type": "code",
      "execution_count": null,
      "metadata": {
        "id": "HiuNGflhSOA2"
      },
      "outputs": [],
      "source": [
        "def mcd(n1, n2):\n",
        "  \"\"\"\n",
        "  Función que dados 2 numeros reales introducido determina el maximo comun divisor\n",
        "  \n",
        "  Args\n",
        "  - n1: Número 1\n",
        "  - n2: Número 2\n",
        "  \n",
        "  Returns\n",
        "  - mcd: maximo comun divisor\n",
        "  \"\"\"\n",
        "  if n1 <= n2:\n",
        "    max = n2\n",
        "    min = n1\n",
        "  elif n1 > n2:\n",
        "    max = n1\n",
        "    min = n2\n",
        "    \n",
        "  list_min = []\n",
        "  for i in range(abs(min)):\n",
        "    if min % (i+1) == 0:\n",
        "      list_min.append(i+1)\n",
        "  list_min.reverse()\n",
        "\n",
        "  for j in list_min:\n",
        "    if max % j == 0:\n",
        "      mcd = j\n",
        "      break\n",
        "\n",
        "  return mcd\n",
        "  \n",
        "    \n"
      ]
    },
    {
      "cell_type": "code",
      "execution_count": null,
      "metadata": {
        "colab": {
          "base_uri": "https://localhost:8080/"
        },
        "id": "JjDtWQ7UF_xi",
        "outputId": "3520f432-23d2-4231-9fef-66db20a8e1da"
      },
      "outputs": [
        {
          "data": {
            "text/plain": [
              "8"
            ]
          },
          "execution_count": 131,
          "metadata": {},
          "output_type": "execute_result"
        }
      ],
      "source": [
        "mcd(-24,16)"
      ]
    },
    {
      "cell_type": "markdown",
      "source": [
        "Ejercicio 6\n",
        "\n",
        "Crea una función que devuelva el MCM (mínimo común múltiplo) de 2 números proporcionados por parámetro.\n",
        "\n",
        "PISTA: Aprovecha la función que calcula el MCD de dos números del ejercicio anterior y la función que calcula el valor absoluto de un número."
      ],
      "metadata": {
        "id": "78nDS_6LV8DU"
      }
    },
    {
      "cell_type": "code",
      "execution_count": null,
      "metadata": {
        "id": "nmV-8IfXJseq"
      },
      "outputs": [],
      "source": [
        "def mcm(n1, n2):\n",
        "  \"\"\"\n",
        "  Función que dados 2 numeros reales introducido determina el minimo comun multiplo\n",
        "  \n",
        "  Args\n",
        "  - n1: Número 1\n",
        "  - n2: Número 2\n",
        "  \n",
        "  Returns\n",
        "  - mcm: minimo comun multiplo\n",
        "  \"\"\"\n",
        "  \n",
        "  if n1 <= n2:\n",
        "    max = n2\n",
        "    min = n1\n",
        "  elif n1 > n2:\n",
        "    max = n1\n",
        "    min = n2\n",
        "\n",
        "  L=[max]\n",
        "  i = 0  \n",
        "  while L[i] % min != 0:\n",
        "    L.append(max*(i+1))\n",
        "    i += 1\n",
        "  mcm = L[i]\n",
        "  return mcm\n",
        "  \n",
        "    \n"
      ]
    },
    {
      "cell_type": "code",
      "execution_count": null,
      "metadata": {
        "colab": {
          "base_uri": "https://localhost:8080/"
        },
        "id": "KnwIpqQTF8qQ",
        "outputId": "bbedfa6e-55d7-4040-fcb2-e4cff3577125"
      },
      "outputs": [
        {
          "output_type": "execute_result",
          "data": {
            "text/plain": [
              "48"
            ]
          },
          "metadata": {},
          "execution_count": 84
        }
      ],
      "source": [
        "mcm(24,16)"
      ]
    },
    {
      "cell_type": "markdown",
      "source": [
        "Ejercicio 7\n",
        "\n",
        "Crea una función que dada una palabra devuelva si es palíndroma."
      ],
      "metadata": {
        "id": "_c_G0eScWBaM"
      }
    },
    {
      "cell_type": "code",
      "execution_count": null,
      "metadata": {
        "id": "z44N5In71Vng"
      },
      "outputs": [],
      "source": [
        "def palindroma(word):\n",
        "  \"\"\"\n",
        "  Función que dada 1 palabra determina si esta es palindroma\n",
        "  \n",
        "  Args\n",
        "  - n1: Número 1\n",
        "  - n2: Número 2\n",
        "  \n",
        "  Returns\n",
        "  True: Si es un palindromo\n",
        "  False: No es un palindromo \n",
        "  \"\"\"\n",
        "\n",
        "  word = word.lower()\n",
        "  L = []\n",
        "  M = []\n",
        "  count=0\n",
        "\n",
        "  for i in word:\n",
        "    L.append(i)\n",
        "  for j in word:\n",
        "    M.append(j)\n",
        "  M.reverse()\n",
        "\n",
        "  for k in range(len(L)):\n",
        "    if M[k] == L[k]:\n",
        "      count += 1 \n",
        "\n",
        "  if count == len(L):\n",
        "    return True\n",
        "  else:\n",
        "    return False\n",
        "    \n",
        "    "
      ]
    },
    {
      "cell_type": "code",
      "execution_count": null,
      "metadata": {
        "id": "PM3nOrdN1OE_",
        "colab": {
          "base_uri": "https://localhost:8080/"
        },
        "outputId": "ada91f19-01b7-4df4-9ebc-a99876692826"
      },
      "outputs": [
        {
          "output_type": "execute_result",
          "data": {
            "text/plain": [
              "True"
            ]
          },
          "metadata": {},
          "execution_count": 103
        }
      ],
      "source": [
        "palindroma(\"reconocer\")"
      ]
    },
    {
      "cell_type": "markdown",
      "source": [
        "Ejercicio 8\n",
        "\n",
        "Crea una función que dado un color en hexadecimal devuelva una lista de 3 posiciones, cada una de ellas correspondiente al valor R, G o B en este orden. Los valores de RGB varían entre 0 y 255."
      ],
      "metadata": {
        "id": "I-HOkvFeWGVj"
      }
    },
    {
      "cell_type": "code",
      "execution_count": 1,
      "metadata": {
        "id": "1_8JDpFa1Lwy"
      },
      "outputs": [],
      "source": [
        "def hex_to_rgb(hexadecimal):\n",
        "  \"\"\"\n",
        "  Función que dado un numero hexadecimal lo convierte en escala de colores RGB\n",
        "  \n",
        "  Args\n",
        "  - hexadecimal: Número hexadecimal\n",
        "  \n",
        "  Returns\n",
        "  [R, G, B]: Numero hexadecimal convertido a RGB\n",
        "  \"\"\"\n",
        "\n",
        "  hex_to_dec={\"0\": 0, \"1\": 1, \"2\": 2, \"3\": 3, \"4\": 4, \"5\": 5, \"6\": 6, \"7\": 7, \n",
        "          \"8\": 8, \"9\": 9, \"A\": 10, \"B\": 11, \"C\": 12, \"D\": 13, \"E\": 14, \"F\": 15}\n",
        "\n",
        "  hexadecimal = hexadecimal.upper()\n",
        "  if len(hexadecimal) == 6:\n",
        "    R = hex_to_dec[hexadecimal[0]] * 16 + hex_to_dec[hexadecimal[1]]\n",
        "    G = hex_to_dec[hexadecimal[2]] * 16 + hex_to_dec[hexadecimal[3]]\n",
        "    B = hex_to_dec[hexadecimal[4]] * 16 + hex_to_dec[hexadecimal[5]]\n",
        "    return [R, G, B]\n",
        "    \n",
        "  else:\n",
        "    print(\" Introduzca un numero hexadecimal de 6 caracteres\")\n"
      ]
    },
    {
      "cell_type": "code",
      "execution_count": 2,
      "metadata": {
        "colab": {
          "base_uri": "https://localhost:8080/"
        },
        "id": "LG5G36cw0xPQ",
        "outputId": "08dacf52-bf77-485a-b51b-1c5b7606e326"
      },
      "outputs": [
        {
          "output_type": "execute_result",
          "data": {
            "text/plain": [
              "[25, 189, 30]"
            ]
          },
          "metadata": {},
          "execution_count": 2
        }
      ],
      "source": [
        "hex_to_rgb(\"19BD1E\")"
      ]
    },
    {
      "cell_type": "markdown",
      "source": [
        "Ejercicio 9\n",
        "\n",
        "Crea una función que dada una lista de palabras por parámetro, devuelva un diccionario que contenga cuántas son de longitud par y cuántas de longitud impar."
      ],
      "metadata": {
        "id": "gw_WWPLTWZaT"
      }
    },
    {
      "cell_type": "code",
      "execution_count": 3,
      "metadata": {
        "id": "lnOBncCy1O3x"
      },
      "outputs": [],
      "source": [
        "def words_parity(list_words):\n",
        "  \"\"\"\n",
        "  Función que dada una frase cuenta las palabras pares e impares y las guarda en\n",
        "  un diccionario\n",
        "\n",
        "  Args\n",
        "  - list_words: Frase\n",
        "  \n",
        "  Returns\n",
        "  - dicc: Diccionario con la cantidad de palabras pares e impares\n",
        "  \"\"\"\n",
        "  dicc = {}\n",
        "  count_pair = 0\n",
        "  count_no_pair = 0\n",
        "  L = list_words.split()\n",
        "  for i in range(len(L)):\n",
        "    if len(L[i]) % 2 == 0:\n",
        "      count_pair += 1\n",
        "    else:\n",
        "      count_no_pair += 1 \n",
        "  \n",
        "  dicc = {\"Pares\": count_pair, \"Impares\": count_no_pair}\n",
        "  \n",
        "  return dicc"
      ]
    },
    {
      "cell_type": "code",
      "execution_count": 4,
      "metadata": {
        "id": "Dh131dJE1MsJ",
        "colab": {
          "base_uri": "https://localhost:8080/"
        },
        "outputId": "134b9199-a761-4399-a2cf-b3a935a61071"
      },
      "outputs": [
        {
          "output_type": "execute_result",
          "data": {
            "text/plain": [
              "{'Pares': 6, 'Impares': 4}"
            ]
          },
          "metadata": {},
          "execution_count": 4
        }
      ],
      "source": [
        "words_parity(\"Esta funcion me muestra la cantidad de palabras e impares\")"
      ]
    },
    {
      "cell_type": "markdown",
      "source": [
        "Ejercicio 10\n",
        "\n",
        "Crea una función que dado un string por parámetro cuente cuántas veces sale cada caracter en dicho string y devuelva toda esa información en un diccionario."
      ],
      "metadata": {
        "id": "h6s2kxgSWpPa"
      }
    },
    {
      "cell_type": "code",
      "execution_count": null,
      "metadata": {
        "id": "nZXwPtnh1BCo"
      },
      "outputs": [],
      "source": [
        "def count_character(list_words):\n",
        "  \"\"\"\n",
        "  Función que dada una frase cuenta cuantas veces aparece cada caracter\n",
        "\n",
        "  Args\n",
        "  - list_words: Frase\n",
        "  \n",
        "  Returns\n",
        "  - dicc: Diccionario con la cantidad de veces que sale cada caracter\n",
        "  \"\"\"\n",
        "\n",
        "  dicc = {}\n",
        "  L = []\n",
        "  index = 1\n",
        "  \n",
        "  list_words = list_words.lower()\n",
        "  for i in list_words:\n",
        "    if i == \" \":\n",
        "      continue\n",
        "    L.append(i)\n",
        "\n",
        "  for j in L:\n",
        "    if j not in dicc.keys():  \n",
        "      dicc[j] = L.count(j)\n",
        "\n",
        "  return dicc"
      ]
    },
    {
      "cell_type": "code",
      "execution_count": null,
      "metadata": {
        "id": "YWEG27G702gI",
        "colab": {
          "base_uri": "https://localhost:8080/"
        },
        "outputId": "b652a619-4897-41f0-974d-5db1e6ed2925"
      },
      "outputs": [
        {
          "output_type": "execute_result",
          "data": {
            "text/plain": [
              "{'l': 5,\n",
              " 'a': 6,\n",
              " 'e': 6,\n",
              " 'v': 1,\n",
              " 'o': 3,\n",
              " 'u': 1,\n",
              " 'c': 1,\n",
              " 'i': 2,\n",
              " 'n': 2,\n",
              " 'd': 1,\n",
              " 's': 4,\n",
              " 'p': 2,\n",
              " 'b': 1,\n",
              " 'r': 2,\n",
              " 'y': 1,\n",
              " 'f': 1,\n",
              " 't': 1,\n",
              " 'm': 1}"
            ]
          },
          "metadata": {},
          "execution_count": 25
        }
      ],
      "source": [
        "count_character(\"La evolucion de las palabras y frases en el tiempo\")"
      ]
    }
  ],
  "metadata": {
    "colab": {
      "provenance": []
    },
    "kernelspec": {
      "display_name": "Python 3",
      "name": "python3"
    },
    "language_info": {
      "name": "python"
    }
  },
  "nbformat": 4,
  "nbformat_minor": 0
}