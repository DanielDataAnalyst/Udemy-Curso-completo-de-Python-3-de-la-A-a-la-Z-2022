{
  "nbformat": 4,
  "nbformat_minor": 0,
  "metadata": {
    "colab": {
      "provenance": []
    },
    "kernelspec": {
      "name": "python3",
      "display_name": "Python 3"
    },
    "language_info": {
      "name": "python"
    }
  },
  "cells": [
    {
      "cell_type": "markdown",
      "source": [
        "Ejercicio 1\n",
        "\n",
        "Crea un programa que pida un número entero positivo por teclado y que cree un diccionario cuyas claves sean desde el número 1 hasta el número indicado. Los valores de cada clave serán las propias claves elevadas al cubo."
      ],
      "metadata": {
        "id": "PXLr4d5lLXgZ"
      }
    },
    {
      "cell_type": "code",
      "execution_count": null,
      "metadata": {
        "colab": {
          "base_uri": "https://localhost:8080/"
        },
        "id": "6OEugJHmNK_D",
        "outputId": "90534e30-8f4d-4be1-fe28-e5dbe09ecfc7"
      },
      "outputs": [
        {
          "output_type": "stream",
          "name": "stdout",
          "text": [
            "Introduzca un numero entero: 5\n",
            "{0: 0, 1: 1, 2: 8, 3: 27, 4: 64}\n"
          ]
        }
      ],
      "source": [
        "n = int(input(\"Introduzca un numero entero: \"))\n",
        "D = {}\n",
        "\n",
        "for i in range(n):\n",
        "  D[i] = i**3\n",
        "\n",
        "print(D)"
      ]
    },
    {
      "cell_type": "markdown",
      "source": [
        "Ejercicio 2\n",
        "\n",
        "Escribe un programa que pregunte al usuario su nombre, edad y teléfono y lo guarde en un diccionario. Después, debe mostrar por pantalla el mensaje ‘{nombre} tiene {edad} años y su número de teléfono es {teléfono}."
      ],
      "metadata": {
        "id": "OZAzlwe7LfWC"
      }
    },
    {
      "cell_type": "code",
      "source": [
        "data = {}\n",
        "\n",
        "print(\"Introduzca su nombre: \")\n",
        "data[\"nombre\"] = str(input())\n",
        "print(\"Introduzca su edad: \")\n",
        "data[\"edad\"] = int(input())\n",
        "print(\"Introduzca su número telefonico: \")\n",
        "data[\"telefono\"] = int(input())\n",
        "\n",
        "print(data)\n",
        "\n"
      ],
      "metadata": {
        "colab": {
          "base_uri": "https://localhost:8080/"
        },
        "id": "apTVK6HHOxU-",
        "outputId": "74bc80ee-b30f-4c72-e4b3-1434b280e218"
      },
      "execution_count": null,
      "outputs": [
        {
          "output_type": "stream",
          "name": "stdout",
          "text": [
            "Introduzca su nombre: \n",
            "Daniel\n",
            "Introduzca su edad: \n",
            "31\n",
            "Introduzca su número telefonico: \n",
            "958289768\n",
            "{'nombre': 'Daniel', 'edad': 31, 'telefono': 958289768}\n"
          ]
        }
      ]
    },
    {
      "cell_type": "markdown",
      "source": [
        "Ejercicio 3\n",
        "\n",
        "Escribe un programa que cree un diccionario simulando una cesta de la compra. El programa debe preguntar\n",
        "el artículo y su precio por unidad. El artículo será la clave y el valor el precio, hasta que el usuario decida\n",
        "terminar. Después se debe mostrar por pantalla la lista de la compra y el coste total, con el siguiente formato\n",
        "\n",
        "Artículo 1 Precio\n",
        "\n",
        "Artículo 2 Precio\n",
        "\n",
        "Artículo 3 Precio\n",
        "\n",
        "...............................\n",
        "\n",
        "Total Precio Total"
      ],
      "metadata": {
        "id": "JX7Q4arcLnR5"
      }
    },
    {
      "cell_type": "code",
      "source": [
        "compra = {}\n",
        "\n",
        "estado = True\n",
        "sum = 0\n",
        "\n",
        "while estado != \"True\":\n",
        "  key = input(\"Introduzca nombre del producto. Para terminar presione espacio : \")\n",
        "  if key == \" \":\n",
        "    estado = False\n",
        "    break\n",
        "  compra[key] = float(input(\"Introduzca precio: \"))\n",
        "  sum += compra[key]\n",
        "\n",
        "\n",
        "for key, value in compra.items(): \n",
        "  print(key + \" \" * (20-2 - len(key)) + str(value))\n",
        "\n",
        "print(\"Total\" + \" \" *(20-2 - len(key)) + str(sum))"
      ],
      "metadata": {
        "colab": {
          "base_uri": "https://localhost:8080/"
        },
        "id": "0ZR3R3AgQA8b",
        "outputId": "d9cc2392-0ffc-4e4a-bcd4-37394b6ba535"
      },
      "execution_count": null,
      "outputs": [
        {
          "output_type": "stream",
          "name": "stdout",
          "text": [
            "Introduzca nombre del producto. Para terminar presione espacio : arroz\n",
            "Introduzca precio: 50\n",
            "Introduzca nombre del producto. Para terminar presione espacio : huevo\n",
            "Introduzca precio: 50\n",
            "Introduzca nombre del producto. Para terminar presione espacio : azucar\n",
            "Introduzca precio: 80\n",
            "Introduzca nombre del producto. Para terminar presione espacio :  \n",
            "arroz             50.0\n",
            "huevo             50.0\n",
            "azucar            80.0\n",
            "Total            180.0\n"
          ]
        }
      ]
    },
    {
      "cell_type": "markdown",
      "source": [
        "Ejercicio 4\n",
        "\n",
        "Crea un programa que lea números enteros hasta que introduzca el 0 y devuelva un diccionario con la cantidad números positivos y negativos introducidos."
      ],
      "metadata": {
        "id": "XCpZsot6L5gP"
      }
    },
    {
      "cell_type": "code",
      "source": [
        "positivo = []\n",
        "negativo = []\n",
        "numero = 1\n",
        "\n",
        "while numero != 0:\n",
        "  numero = int(input(\"Introduzca numero: \"))\n",
        "  if numero > 0:\n",
        "    positivo.append(numero)\n",
        "  elif numero < 0: \n",
        "    negativo.append(numero)\n",
        "\n",
        "dicc = {\"positivos\": len(positivo), \"negativos\" : len(negativo)}\n",
        "\n",
        "print(dicc)\n"
      ],
      "metadata": {
        "colab": {
          "base_uri": "https://localhost:8080/"
        },
        "id": "jI4acbFVM0rF",
        "outputId": "ce9e0bcf-300a-4e14-d0a4-74f61ec774a5"
      },
      "execution_count": null,
      "outputs": [
        {
          "output_type": "stream",
          "name": "stdout",
          "text": [
            "Introduzca numero: 5\n",
            "Introduzca numero: 4\n",
            "Introduzca numero: 9\n",
            "Introduzca numero: -2\n",
            "Introduzca numero: -1\n",
            "Introduzca numero: 0\n",
            "{'positivos': 3, 'negativos': 2}\n"
          ]
        }
      ]
    },
    {
      "cell_type": "markdown",
      "source": [
        "Ejercicio 5\n",
        "\n",
        "Crea un programa que lea números enteros hasta que introduzca el 0 y devuelva un diccionario con la cantidad números pares e impares introducidos."
      ],
      "metadata": {
        "id": "NAPtd7bcL9vS"
      }
    },
    {
      "cell_type": "code",
      "source": [
        "par = []\n",
        "impar = []\n",
        "numero = 1\n",
        "\n",
        "while numero != 0:\n",
        "  numero = int(input(\"Introduzca numero: \"))\n",
        "  if numero % 2 == 0:\n",
        "    par.append(numero)\n",
        "  elif numero % 2 != 0: \n",
        "    impar.append(numero)\n",
        "\n",
        "dicc = {\"pares\": len(par)-1, \"impares\" : len(impar)}\n",
        "\n",
        "print(dicc)"
      ],
      "metadata": {
        "colab": {
          "base_uri": "https://localhost:8080/"
        },
        "id": "8oR1gfCyUFrv",
        "outputId": "c63d61b1-9593-41cc-bc9b-7da8770eb293"
      },
      "execution_count": null,
      "outputs": [
        {
          "output_type": "stream",
          "name": "stdout",
          "text": [
            "Introduzca numero: 5\n",
            "Introduzca numero: 4\n",
            "Introduzca numero: 3\n",
            "Introduzca numero: 0\n",
            "{'pares': 1, 'impares': 2}\n"
          ]
        }
      ]
    },
    {
      "cell_type": "markdown",
      "source": [
        "Ejercicio 6\n",
        "\n",
        "Crea un programa que permita al usuario introducir los nombres de los alumnos de una clase y las notas que han obtenido. Cada alumno puede tener distinta cantidad de notas. Guarda la información en un diccionario cuyas claves serán los nombres de los alumnos y los valores serán listas con las notas de cada alumno.\n",
        "\n",
        "El programa va a pedir el nombre de un estudiante e irá pidiendo sus notas (del 1 al 10) hasta que introduzcamos un 0. Al final, cuando el nombre que introduzcamos sea un string vacío, el programa nos mostrará la lista de alumnos y la nota media obtenida por cada uno de ellos.\n",
        "\n",
        "PISTA: Vas a necesitar la función sum()."
      ],
      "metadata": {
        "id": "Y6CcYgghMBzp"
      }
    },
    {
      "cell_type": "code",
      "source": [
        "alumno_notas = {}\n",
        "nombre = input(\"Introduzca el nombre del alumno: \")\n",
        "\n",
        "while nombre != \"\":\n",
        "  alumno_notas[nombre] = []\n",
        "  nota_alumno = float(input(\"Introduzca la nota del alumno: \"))\n",
        "  while nota_alumno != 0:\n",
        "    alumno_notas[nombre].append(nota_alumno)\n",
        "    nota_alumno = float(input())\n",
        "  nombre = input(\"Introduzca el nombre del alumno: \")\n",
        "\n",
        "\n",
        "for alumno_nota in alumno_notas:\n",
        "  print(f\"El alumno/a {alumno_nota} obtuvo un nota promedio de {sum(alumno_notas[alumno_nota])/len(alumno_notas[alumno_nota])}\" ) \n",
        "\n",
        "\n"
      ],
      "metadata": {
        "colab": {
          "base_uri": "https://localhost:8080/"
        },
        "id": "umX6f74VVBsN",
        "outputId": "c068075a-e466-4121-d7c1-ee322345abc8"
      },
      "execution_count": null,
      "outputs": [
        {
          "output_type": "stream",
          "name": "stdout",
          "text": [
            "Introduzca el nombre del alumno: Daniela\n",
            "Introduzca la nota del alumno: 8\n",
            "10\n",
            "5\n",
            "6\n",
            "10\n",
            "0\n",
            "Introduzca el nombre del alumno: Isabela\n",
            "Introduzca la nota del alumno: 5\n",
            "10\n",
            "9\n",
            "7\n",
            "0\n",
            "Introduzca el nombre del alumno: \n",
            "El alumno/a Daniela obtuvo un nota promedio de 7.8\n",
            "El alumno/a Isabela obtuvo un nota promedio de 7.75\n"
          ]
        }
      ]
    },
    {
      "cell_type": "markdown",
      "source": [
        "Ejercicio 7\n",
        "\n",
        "Crea un programa que pida un número entero positivo por teclado y que cree un diccionario cuyas claves sean desde el número 1 hasta el número indicado. Los valores de cada clave serán tantos símbolos \"*\" como indique la clave."
      ],
      "metadata": {
        "id": "IuP0G6M7MlN3"
      }
    },
    {
      "cell_type": "code",
      "source": [
        "numero = int(input(\"Introduzca numero: \"))\n",
        "dicc = {}\n",
        "\n",
        "for i in range(numero):\n",
        "  key = i+1\n",
        "  dicc[key] = (i+1)*\"*\"\n",
        "\n",
        "print(dicc)"
      ],
      "metadata": {
        "colab": {
          "base_uri": "https://localhost:8080/"
        },
        "id": "Jwp2gHElApSV",
        "outputId": "4845128d-a08b-455f-cd52-01335500d20d"
      },
      "execution_count": null,
      "outputs": [
        {
          "output_type": "stream",
          "name": "stdout",
          "text": [
            "Introduzca numero: 50\n",
            "{1: '*', 2: '**', 3: '***', 4: '****', 5: '*****', 6: '******', 7: '*******', 8: '********', 9: '*********', 10: '**********', 11: '***********', 12: '************', 13: '*************', 14: '**************', 15: '***************', 16: '****************', 17: '*****************', 18: '******************', 19: '*******************', 20: '********************', 21: '*********************', 22: '**********************', 23: '***********************', 24: '************************', 25: '*************************', 26: '**************************', 27: '***************************', 28: '****************************', 29: '*****************************', 30: '******************************', 31: '*******************************', 32: '********************************', 33: '*********************************', 34: '**********************************', 35: '***********************************', 36: '************************************', 37: '*************************************', 38: '**************************************', 39: '***************************************', 40: '****************************************', 41: '*****************************************', 42: '******************************************', 43: '*******************************************', 44: '********************************************', 45: '*********************************************', 46: '**********************************************', 47: '***********************************************', 48: '************************************************', 49: '*************************************************', 50: '**************************************************'}\n"
          ]
        }
      ]
    },
    {
      "cell_type": "markdown",
      "source": [
        "Ejercicio 8\n",
        "\n",
        "Crea un programa que pida el número de palabras a introducir. Crear un diccionario de clave la palabra y de valor la longitud de dicha palabra."
      ],
      "metadata": {
        "id": "lsfXXbGSMpp7"
      }
    },
    {
      "cell_type": "code",
      "source": [
        "palabras = {}\n",
        "\n",
        "n = int(input(\"Cuantas palabras vas a introducir: \"))\n",
        "\n",
        "for i in range(n):\n",
        "  palabra = input(f\"Introduzca la {i+1} palabra: \")\n",
        "  palabras[palabra] = len(palabra)\n",
        "\n",
        "print(palabras)\n",
        "\n"
      ],
      "metadata": {
        "colab": {
          "base_uri": "https://localhost:8080/"
        },
        "id": "tKUlOq7lUrp3",
        "outputId": "2202a086-e928-4b57-d035-aef73a0d294d"
      },
      "execution_count": null,
      "outputs": [
        {
          "output_type": "stream",
          "name": "stdout",
          "text": [
            "Cuantas palabras vas a introducir: 3\n",
            "Introduzca la 1 palabra: yate\n",
            "Introduzca la 2 palabra: risco\n",
            "Introduzca la 3 palabra: vela\n",
            "{'yate': 4, 'risco': 5, 'vela': 4}\n"
          ]
        }
      ]
    },
    {
      "cell_type": "markdown",
      "source": [
        "Ejercicio 9\n",
        "\n",
        "Crea un programa que pida el número de palabras a introducir. Crear un diccionario de clave la palabra y de valor el número de vocales de la palabra."
      ],
      "metadata": {
        "id": "2O5pdRCJMvqg"
      }
    },
    {
      "cell_type": "code",
      "source": [
        "palabras = {}\n",
        "\n",
        "\n",
        "n = int(input(\"Cuantas palabras vas a introducir: \"))\n",
        "\n",
        "for i in range(n):\n",
        "  palabra = input(f\"Introduzca la {i+1} palabra: \")\n",
        "  palabra = palabra.lower()\n",
        "  vocales = []\n",
        "  for j in palabra:\n",
        "    if j == \"a\" or j == \"e\" or j == \"i\" or j == \"o\" or j == \"u\":\n",
        "      vocales.append(j) \n",
        "  palabras[palabra] = len(vocales)\n",
        "\n",
        "print(palabras)"
      ],
      "metadata": {
        "colab": {
          "base_uri": "https://localhost:8080/"
        },
        "id": "QCZozJmVW7sB",
        "outputId": "8dacc1ba-332b-4b2d-a5f0-68140014c296"
      },
      "execution_count": null,
      "outputs": [
        {
          "output_type": "stream",
          "name": "stdout",
          "text": [
            "Cuantas palabras vas a introducir: 3\n",
            "Introduzca la 1 palabra: Avion\n",
            "Introduzca la 2 palabra: camion\n",
            "Introduzca la 3 palabra: barco\n",
            "{'avion': 3, 'camion': 3, 'barco': 2}\n"
          ]
        }
      ]
    },
    {
      "cell_type": "markdown",
      "source": [
        "Ejercicio 10\n",
        "\n",
        "Dada una matriz, crea un diccionario que guarde el número de filas, el de columnas y cada fila en una entrada de un diccionario."
      ],
      "metadata": {
        "id": "oMlmRJOGMzRI"
      }
    },
    {
      "cell_type": "code",
      "source": [
        "matriz = [[1,2,3],[4,5,6],[7,8,9]]\n",
        "dicc = {\"filas\" : len(matriz),\n",
        "        \"columnas\" : len(matriz[0])\n",
        "        }\n",
        "\n",
        "for i in range(len(matriz)):  \n",
        "  dicc[\"filas\" + str(i)] = matriz[i]\n",
        "\n",
        "print(dicc)"
      ],
      "metadata": {
        "colab": {
          "base_uri": "https://localhost:8080/"
        },
        "id": "KUWrUp9uZsOi",
        "outputId": "7e60918e-5f54-4a5d-8066-ae98cc24bb1c"
      },
      "execution_count": null,
      "outputs": [
        {
          "output_type": "stream",
          "name": "stdout",
          "text": [
            "{'filas': 3, 'columnas': 3, 'filas0': [1, 2, 3], 'filas1': [4, 5, 6], 'filas2': [7, 8, 9]}\n"
          ]
        }
      ]
    }
  ]
}