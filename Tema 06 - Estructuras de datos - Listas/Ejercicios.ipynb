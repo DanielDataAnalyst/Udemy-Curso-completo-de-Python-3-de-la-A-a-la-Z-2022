{
  "nbformat": 4,
  "nbformat_minor": 0,
  "metadata": {
    "colab": {
      "provenance": []
    },
    "kernelspec": {
      "name": "python3",
      "display_name": "Python 3"
    },
    "language_info": {
      "name": "python"
    }
  },
  "cells": [
    {
      "cell_type": "markdown",
      "source": [
        "Ejercicio 1\n",
        "\n",
        "Crea un programa que lea una secuencia de caracteres, guarde cada caracter en una posición de una lista y finalmente muestre la secuencia invertida."
      ],
      "metadata": {
        "id": "zjfV5pYBGOcX"
      }
    },
    {
      "cell_type": "code",
      "execution_count": null,
      "metadata": {
        "colab": {
          "base_uri": "https://localhost:8080/"
        },
        "id": "lXQBwb0RGeha",
        "outputId": "0881bc72-8a7f-47d6-c2d8-0c9acdf8422b"
      },
      "outputs": [
        {
          "output_type": "stream",
          "name": "stdout",
          "text": [
            "Introduzca un texto: Daniel Enrique\n",
            "['e', 'u', 'q', 'i', 'r', 'n', 'E', ' ', 'l', 'e', 'i', 'n', 'a', 'D']\n"
          ]
        }
      ],
      "source": [
        "a = input(\"Introduzca un texto: \")\n",
        "l = []\n",
        "\n",
        "for i in a:\n",
        "  l.append(i)\n",
        "  \n",
        "l.reverse()\n",
        "print(l)"
      ]
    },
    {
      "cell_type": "markdown",
      "source": [
        "Ejercicio 2\n",
        "\n",
        "Crea un programa que lea dos strings de la misma longitud, los guarde intercalados en una lista. Por último, mostrar el contenido de la lista.\n",
        "Por ejemplo, si introducimos hola caracola y adios marieta, debería mostrarse haodleao scamraarcioeltaa."
      ],
      "metadata": {
        "id": "2DDQ8XcXGWfe"
      }
    },
    {
      "cell_type": "code",
      "source": [
        "string1 = input(\"Introduzca la primera palabra/frase: \")\n",
        "string2 = input(\"Introduzca la segunda palabra/frase: \")\n",
        "s = []\n",
        "\n",
        "\n",
        "if len(string1) == len(string2): \n",
        "  for i in range(len(string2)): \n",
        "    s.append(string1[i])\n",
        "    s.append(string2[i])\n",
        "  print(s)\n",
        "else:\n",
        "  print(\"Los textos deben tener la misma londitud\")\n"
      ],
      "metadata": {
        "colab": {
          "base_uri": "https://localhost:8080/"
        },
        "id": "FngVPxcUMWO7",
        "outputId": "abe4b6a6-c4bc-4c1d-9b35-732c97223042"
      },
      "execution_count": null,
      "outputs": [
        {
          "output_type": "stream",
          "name": "stdout",
          "text": [
            "Introduzca la primera palabra/frase: Daniela\n",
            "Introduzca la segunda palabra/frase: Isabela\n",
            "['D', 'I', 'a', 's', 'n', 'a', 'i', 'b', 'e', 'e', 'l', 'l', 'a', 'a']\n"
          ]
        }
      ]
    },
    {
      "cell_type": "markdown",
      "source": [
        "Ejercicio 3\n",
        "\n",
        "Crea un programa que lea un string y guarde en una lista todas las consonantes."
      ],
      "metadata": {
        "id": "0AHuB7RRGl9D"
      }
    },
    {
      "cell_type": "code",
      "source": [
        "a = input(\"Introduzca un texto: \")\n",
        "a_min = a.lower()\n",
        "l = []\n",
        "\n",
        "for i in a_min:\n",
        "  if i == \"a\" or i == \"e\" or i == \"e\" or i == \"i\" or i == \"o\" or i == \" \":\n",
        "    continue\n",
        "  l.append(i) \n",
        "print(l)"
      ],
      "metadata": {
        "colab": {
          "base_uri": "https://localhost:8080/"
        },
        "id": "IP77cKBQpHVf",
        "outputId": "c9253be0-075f-4963-e433-dea05b7a6e69"
      },
      "execution_count": null,
      "outputs": [
        {
          "output_type": "stream",
          "name": "stdout",
          "text": [
            "Introduzca un texto: La naranja se pico\n",
            "['l', 'n', 'r', 'n', 'j', 's', 'p', 'c']\n"
          ]
        }
      ]
    },
    {
      "cell_type": "markdown",
      "source": [
        "Ejercicio 4\n",
        "\n",
        "Crea un programa que lea una palabra, la guarde en una lista y compruebe si se trata de un palíndromo."
      ],
      "metadata": {
        "id": "Gzzvx370GqQV"
      }
    },
    {
      "cell_type": "code",
      "source": [
        "a = input(\"Introduzca una palabra/frase: \")\n",
        "a_min = a.lower()\n",
        "l = []\n",
        "m = []\n",
        "count=0\n",
        "\n",
        "for i in a_min:\n",
        "  if i != \" \":\n",
        "    l.append(i)\n",
        "\n",
        "for j in a_min:\n",
        "  if j != \" \":\n",
        "    m.append(j)\n",
        "m.reverse()\n",
        "\n",
        "for k in range(len(l)):\n",
        "  if m[k] == l[k]:\n",
        "    count += 1 \n",
        "\n",
        "if count == len(l):\n",
        "  print(f\"La palabra/frase {a} es un palindromo\")\n",
        "else:\n",
        "  print(f\"La palabra/frase {a} NO es un palindromo\")\n",
        " "
      ],
      "metadata": {
        "colab": {
          "base_uri": "https://localhost:8080/"
        },
        "id": "_tD1nwhkPsgv",
        "outputId": "2848de0e-b524-4ed7-f546-b480742099d8"
      },
      "execution_count": null,
      "outputs": [
        {
          "output_type": "stream",
          "name": "stdout",
          "text": [
            "Introduzca una palabra/frase: Lavan esa base naval\n",
            "La palabra/frase Lavan esa base naval es un palindromo\n",
            "['l', 'a', 'v', 'a', 'n', 'e', 's', 'a', 'b', 'a', 's', 'e', 'n', 'a', 'v', 'a', 'l']\n",
            "['l', 'a', 'v', 'a', 'n', 'e', 's', 'a', 'b', 'a', 's', 'e', 'n', 'a', 'v', 'a', 'l']\n"
          ]
        }
      ]
    },
    {
      "cell_type": "markdown",
      "source": [
        "Ejercicio 5\n",
        "\n",
        "Crea un programa que lea una matriz 3 x 3 y devuelva el máximo de cada fila."
      ],
      "metadata": {
        "id": "q0qXgvzGGv7f"
      }
    },
    {
      "cell_type": "code",
      "source": [
        "A = []\n",
        "for i in range(3):\n",
        "  A.append([])\n",
        "  for j in range(3):\n",
        "    A[i].append(float(input(f\"Introduce el elemento de la fila {i+1} columna {j+1}: \")))\n",
        "\n",
        "for i in range(3):\n",
        "  A[i].sort(reverse = True) \n",
        "  print(f\"El maximo de la fila {i+1} es {A[i][0]}\")"
      ],
      "metadata": {
        "colab": {
          "base_uri": "https://localhost:8080/"
        },
        "id": "lmYx80vz-SZD",
        "outputId": "35bf875c-d5a0-4132-b8c7-6ac8adc38e87"
      },
      "execution_count": null,
      "outputs": [
        {
          "output_type": "stream",
          "name": "stdout",
          "text": [
            "Introduce el elemento de la fila 1 columna 1: 8\n",
            "Introduce el elemento de la fila 1 columna 2: 6\n",
            "Introduce el elemento de la fila 1 columna 3: 9\n",
            "Introduce el elemento de la fila 2 columna 1: 10\n",
            "Introduce el elemento de la fila 2 columna 2: 5\n",
            "Introduce el elemento de la fila 2 columna 3: 6\n",
            "Introduce el elemento de la fila 3 columna 1: 8\n",
            "Introduce el elemento de la fila 3 columna 2: 9\n",
            "Introduce el elemento de la fila 3 columna 3: 3\n",
            "El maximo de la fila 0 es 9.0\n",
            "El maximo de la fila 1 es 10.0\n",
            "El maximo de la fila 2 es 9.0\n"
          ]
        }
      ]
    },
    {
      "cell_type": "markdown",
      "source": [
        "Ejercicio 6\n",
        "\n",
        "Crea un programa que lea un entero, n, de teclado y construya una matriz de tamaño n × n. Cada posición debe contener su orden en la matriz (desde 0 hasta n2 − 1. Por ejemplo, si n es 3, deberá crearse la matriz\n",
        "\n",
        "[0, 1, 2]\n",
        "\n",
        "[3, 4, 5]\n",
        "\n",
        "[6, 7, 8]"
      ],
      "metadata": {
        "id": "NNLjCZoQGz6f"
      }
    },
    {
      "cell_type": "code",
      "source": [
        "A = []\n",
        "n = int(input(\"Introduzca el orden de la matriz: \"))\n",
        "count = 0\n",
        "\n",
        "for i in range(n):\n",
        "  A.append([])\n",
        "  for j in range(n):\n",
        "    A[i].append(count)\n",
        "    count +=1\n",
        "\n",
        "for i in range(n):\n",
        "  print(A[i])\n"
      ],
      "metadata": {
        "colab": {
          "base_uri": "https://localhost:8080/"
        },
        "outputId": "88c3a178-88d7-40eb-95be-a41ec3e3dd9f",
        "id": "4Fdue3b_IIPG"
      },
      "execution_count": null,
      "outputs": [
        {
          "output_type": "stream",
          "name": "stdout",
          "text": [
            "Introduzca el orden de la matriz: 10\n",
            "[0, 1, 2, 3, 4, 5, 6, 7, 8, 9]\n",
            "[10, 11, 12, 13, 14, 15, 16, 17, 18, 19]\n",
            "[20, 21, 22, 23, 24, 25, 26, 27, 28, 29]\n",
            "[30, 31, 32, 33, 34, 35, 36, 37, 38, 39]\n",
            "[40, 41, 42, 43, 44, 45, 46, 47, 48, 49]\n",
            "[50, 51, 52, 53, 54, 55, 56, 57, 58, 59]\n",
            "[60, 61, 62, 63, 64, 65, 66, 67, 68, 69]\n",
            "[70, 71, 72, 73, 74, 75, 76, 77, 78, 79]\n",
            "[80, 81, 82, 83, 84, 85, 86, 87, 88, 89]\n",
            "[90, 91, 92, 93, 94, 95, 96, 97, 98, 99]\n"
          ]
        }
      ]
    },
    {
      "cell_type": "markdown",
      "source": [
        "Ejercicio 7\n",
        "\n",
        "Crea una matriz de n × m y asigna los valores manualmente. El programa debe indicar si la suma de cada columna es el mismo valor."
      ],
      "metadata": {
        "id": "09gwMtrKG9qu"
      }
    },
    {
      "cell_type": "code",
      "source": [
        "n = int(input(\"Introduzca el numero de filas de la matriz: \"))\n",
        "m = int(input(\"Introduzca el numero de columnas de la matriz: \"))\n",
        "A = []\n",
        "B = []\n",
        "\n",
        "\n",
        "for i in range(n):\n",
        "  A.append([])\n",
        "  for j in range(m):\n",
        "    A[i].append(float(input(f\"Introduce el elemento de la fila {i+1} columna {j+1}: \")))\n",
        "\n",
        "for j in range(m):\n",
        "  sum = 0\n",
        "  for i in range(n):\n",
        "    sum += A[i][j]\n",
        "  B.append(sum)\n",
        "print(B)\n",
        "\n",
        "sum_equal = True\n",
        "for j in range(m-1):\n",
        "  if B[j] != B[j+1]:\n",
        "      sum_equal = False\n",
        "\n",
        "print(\"La suma de las columnas {}\".format(\"Es igual\" if sum_equal else \"No es igual\"))\n",
        "  "
      ],
      "metadata": {
        "id": "lV4faMfRL-Wn",
        "colab": {
          "base_uri": "https://localhost:8080/"
        },
        "outputId": "fcf9947c-773d-4160-994e-043606f0f9c2"
      },
      "execution_count": null,
      "outputs": [
        {
          "output_type": "stream",
          "name": "stdout",
          "text": [
            "Introduzca el numero de filas de la matriz: 2\n",
            "Introduzca el numero de columnas de la matriz: 2\n",
            "Introduce el elemento de la fila 1 columna 1: 2\n",
            "Introduce el elemento de la fila 1 columna 2: 2\n",
            "Introduce el elemento de la fila 2 columna 1: 2\n",
            "Introduce el elemento de la fila 2 columna 2: 2\n",
            "[4.0, 4.0]\n",
            "La suma de las columnas Es igual\n"
          ]
        }
      ]
    },
    {
      "cell_type": "markdown",
      "source": [
        "Ejercicio 8\n",
        "\n",
        "Crear un programa determina si la matriz introducida manualmente (tanto sus dimensiones como los elementos) se trata de la matriz identidad. Recuerda que la matriz identidad debe ser una matriz cuadrada."
      ],
      "metadata": {
        "id": "paxZpSUlHDK6"
      }
    },
    {
      "cell_type": "code",
      "source": [
        "n = int(input(\"Introduzca el numero de filas de la matriz: \"))\n",
        "m = int(input(\"Introduzca el numero de columnas de la matriz: \"))\n",
        "A = []\n",
        "B = []\n",
        "\n",
        "\n",
        "n_equal_m = True       # Bloque que comprueba que el numero de filas es igual al de columnas\n",
        "if n != m:\n",
        "  n_equal_m = False\n",
        "\n",
        "for i in range(n):\n",
        "  A.append([])\n",
        "  for j in range(m):\n",
        "    A[i].append(float(input(f\"Introduce el elemento de la fila {i+1} columna {j+1}: \")))\n",
        "\n",
        "ident = True            # Bloque que determina si los valores de la diagonal de la matriz son 1\n",
        "for i in range(n):\n",
        "  for j in range(m):\n",
        "    if n < m:\n",
        "      if A[i][i] != 1:\n",
        "        Trans = False\n",
        "    else:\n",
        "      if A[j][j] != 1:\n",
        "        ident = False\n",
        "\n",
        "for j in range(m):     # Bloque que suma las columnas de la matriz\n",
        "  sum = 0\n",
        "  for i in range(n):\n",
        "    sum += A[i][j]\n",
        "  B.append(sum)\n",
        "\n",
        "sum_equal = True       # Bloque que comprueba que la suma de las columnas es 1\n",
        "for j in range(m):\n",
        "  if B[j] != 1:\n",
        "      sum_equal = False  \n",
        "\n",
        "\n",
        "print(\"La matriz {}\".format(\"es de Identidad\" if ident and sum_equal and n_equal_m else \"No es de Identidad\"))"
      ],
      "metadata": {
        "colab": {
          "base_uri": "https://localhost:8080/"
        },
        "id": "G_BcfsilKllM",
        "outputId": "2bc3d1fe-f80a-46ca-f980-a3e200aa650b"
      },
      "execution_count": null,
      "outputs": [
        {
          "output_type": "stream",
          "name": "stdout",
          "text": [
            "Introduzca el numero de filas de la matriz: 2\n",
            "Introduzca el numero de columnas de la matriz: 2\n",
            "Introduce el elemento de la fila 1 columna 1: 5\n",
            "Introduce el elemento de la fila 1 columna 2: 6\n",
            "Introduce el elemento de la fila 2 columna 1: 1\n",
            "Introduce el elemento de la fila 2 columna 2: 9\n",
            "La matriz No es de Identidad\n"
          ]
        }
      ]
    },
    {
      "cell_type": "markdown",
      "source": [
        "Ejercicio 9\n",
        "\n",
        "Realiza un programa que calcule la matriz transpuesta."
      ],
      "metadata": {
        "id": "zsyoOpOwHI-e"
      }
    },
    {
      "cell_type": "code",
      "source": [
        "import numpy as np\n",
        "\n",
        "n = int(input(\"Introduzca el numero de filas de la matriz: \"))\n",
        "m = int(input(\"Introduzca el numero de columnas de la matriz: \"))\n",
        "A = []\n",
        "\n",
        "for i in range(n):\n",
        "  A.append([])\n",
        "  for j in range(m):\n",
        "    A[i].append(float(input(f\"Introduce el elemento de la fila {i+1} columna {j+1}: \")))\n",
        "print(A)\n",
        "\n",
        "B = np.array(A)\n",
        "print(B.T)\n"
      ],
      "metadata": {
        "colab": {
          "base_uri": "https://localhost:8080/"
        },
        "id": "0K9nn6VUYAPQ",
        "outputId": "98a4ed26-b5e2-4866-e342-18c62761fbb5"
      },
      "execution_count": null,
      "outputs": [
        {
          "output_type": "stream",
          "name": "stdout",
          "text": [
            "Introduzca el numero de filas de la matriz: 5\n",
            "Introduzca el numero de columnas de la matriz: 2\n",
            "Introduce el elemento de la fila 1 columna 1: 2\n",
            "Introduce el elemento de la fila 1 columna 2: 6\n",
            "Introduce el elemento de la fila 2 columna 1: 9\n",
            "Introduce el elemento de la fila 2 columna 2: 1\n",
            "Introduce el elemento de la fila 3 columna 1: 5\n",
            "Introduce el elemento de la fila 3 columna 2: 2\n",
            "Introduce el elemento de la fila 4 columna 1: 6\n",
            "Introduce el elemento de la fila 4 columna 2: 1\n",
            "Introduce el elemento de la fila 5 columna 1: 5\n",
            "Introduce el elemento de la fila 5 columna 2: 9\n",
            "[[2.0, 6.0], [9.0, 1.0], [5.0, 2.0], [6.0, 1.0], [5.0, 9.0]]\n",
            "[[2. 9. 5. 6. 5.]\n",
            " [6. 1. 2. 1. 9.]]\n"
          ]
        }
      ]
    },
    {
      "cell_type": "markdown",
      "source": [
        "Ejercicio 10\n",
        "\n",
        "Crea un programa que pida al usuario la dimensión y cree la matriz identidad de orden correspondiente con numpy."
      ],
      "metadata": {
        "id": "pUNF71NPHND8"
      }
    },
    {
      "cell_type": "code",
      "source": [
        "import numpy as np\n",
        "\n",
        "n = int(input(\"Introduzca la dimension de la matriz: \"))\n",
        "\n",
        "A = np.identity(n)\n",
        "print(A)"
      ],
      "metadata": {
        "colab": {
          "base_uri": "https://localhost:8080/"
        },
        "id": "jOjcJW-HdFt6",
        "outputId": "b8d3aad5-a362-4d78-f0cd-6482e47e4570"
      },
      "execution_count": null,
      "outputs": [
        {
          "output_type": "stream",
          "name": "stdout",
          "text": [
            "Introduzca la dimension de la matriz: 50\n",
            "[[1. 0. 0. ... 0. 0. 0.]\n",
            " [0. 1. 0. ... 0. 0. 0.]\n",
            " [0. 0. 1. ... 0. 0. 0.]\n",
            " ...\n",
            " [0. 0. 0. ... 1. 0. 0.]\n",
            " [0. 0. 0. ... 0. 1. 0.]\n",
            " [0. 0. 0. ... 0. 0. 1.]]\n"
          ]
        }
      ]
    }
  ]
}