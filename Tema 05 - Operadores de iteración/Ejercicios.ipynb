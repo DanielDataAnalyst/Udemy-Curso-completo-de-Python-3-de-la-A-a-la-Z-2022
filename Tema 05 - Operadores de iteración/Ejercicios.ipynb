{
  "nbformat": 4,
  "nbformat_minor": 0,
  "metadata": {
    "colab": {
      "provenance": []
    },
    "kernelspec": {
      "name": "python3",
      "display_name": "Python 3"
    },
    "language_info": {
      "name": "python"
    }
  },
  "cells": [
    {
      "cell_type": "markdown",
      "source": [
        "Ejercicio 1\n",
        "\n",
        "Haz que el usuario introduzca números enteros por teclado. Mientras el usuario no introduzca el 0, muestra si el número introducido es par o impar."
      ],
      "metadata": {
        "id": "trskmV4Ibgls"
      }
    },
    {
      "cell_type": "code",
      "execution_count": null,
      "metadata": {
        "colab": {
          "base_uri": "https://localhost:8080/"
        },
        "id": "D-fZMzpCGenE",
        "outputId": "670dcafc-00b9-4ed9-cfc7-728d080d602f"
      },
      "outputs": [
        {
          "name": "stdout",
          "output_type": "stream",
          "text": [
            "Introduzca el numero: 86468463\n",
            "El numero introducido es impar\n",
            "Introduzca el numero: 2\n",
            "El numero introducido es par\n",
            "Introduzca el numero: 0\n"
          ]
        }
      ],
      "source": [
        "numero = int(input(\"Introduzca el numero: \"))\n",
        "\n",
        "\n",
        "while numero != 0:\n",
        "  if numero % 2 == 0:\n",
        "    print(\"El numero introducido es par\")\n",
        "    numero = int(input(\"Introduzca el numero: \"))\n",
        "  else: \n",
        "    print(\"El numero introducido es impar\")\n",
        "    numero = int(input(\"Introduzca el numero: \"))\n"
      ]
    },
    {
      "cell_type": "markdown",
      "source": [
        "Ejercicio 2\n",
        "\n",
        "Haz que el usuario introduzca una palabra y una letra por teclado. Comprueba si la palabra contiene la letra o no e indícaselo al usuario por pantalla."
      ],
      "metadata": {
        "id": "MxC7HDEjbjdB"
      }
    },
    {
      "cell_type": "code",
      "source": [
        "palabra = input(\"Introduzca una palabra: \")\n",
        "letra = input(\"Introduzca una letra: \")\n",
        "\n",
        "palabra_min = palabra.lower()\n",
        "letra_min = letra.lower()\n",
        "\n",
        "valido = False \n",
        "\n",
        "for i in range(len(palabra_min)):\n",
        "  if palabra_min[i] == letra_min:\n",
        "    valido = True\n",
        "\n",
        "if valido:\n",
        "  print(f\"La letra {letra} esta en la palabra {palabra}\")\n",
        "\n",
        "else:\n",
        "  print(f\"La letra {letra} NO esta en la palabra {palabra}\")\n",
        "    \n",
        "\n"
      ],
      "metadata": {
        "colab": {
          "base_uri": "https://localhost:8080/"
        },
        "outputId": "38559ba0-76b8-4c7d-a0a4-29903fdd03f9",
        "id": "nqyQLtvOz9Rs"
      },
      "execution_count": null,
      "outputs": [
        {
          "output_type": "stream",
          "name": "stdout",
          "text": [
            "Introduzca una palabra: cabeza\n",
            "Introduzca una letra: j\n",
            "La letra j NO esta en la palabra cabeza\n"
          ]
        }
      ]
    },
    {
      "cell_type": "markdown",
      "source": [
        "Ejercicio 3\n",
        "\n",
        "Haz que el usuario introduzca precios por teclado (si introduce 0, entonces es que ha finalizado). Si el usuario pasa de 200€, entonces ya no debe poder introducir más precios pues se ha pasado de presupuesto. Sea cual sea el resultado (o bien el precio final o bien que no tiene más presupuesto), indícaselo por pantalla al usuario."
      ],
      "metadata": {
        "id": "kKButvM4boRC"
      }
    },
    {
      "cell_type": "code",
      "source": [
        "precio = float(input(\"Introduzca el precio: \"))\n",
        "\n",
        "while precio != 0:\n",
        "    if precio >= 200:\n",
        "      break\n",
        "      \n",
        "    precio = float(input(\"Introduzca el precio: \"))\n",
        "    precio +=precio\n",
        "  \n",
        "if precio <= 200:\n",
        "  print(\"Se agoto el presupuesto\")\n",
        "else:\n",
        "  print(f\"El presupuesto asciende a {precio}\" )\n",
        "\n"
      ],
      "metadata": {
        "colab": {
          "base_uri": "https://localhost:8080/"
        },
        "id": "j9B2ZKCUVOeE",
        "outputId": "07c99698-bc0d-4df1-c3b7-935e1589eedd"
      },
      "execution_count": null,
      "outputs": [
        {
          "output_type": "stream",
          "name": "stdout",
          "text": [
            "Introduzca el precio: 100\n",
            "Introduzca el precio: 100\n",
            "Se agoto el presupuesto\n"
          ]
        }
      ]
    },
    {
      "cell_type": "markdown",
      "source": [
        "Ejercicio 4\n",
        "\n",
        "Haz que el usuario introduzca números enteros por teclado. Mientras el usuario no introduzca el 0, calcula cuántos números positivos y cuántos negativos ha introducido y muéstraselo al final."
      ],
      "metadata": {
        "id": "2UOx_4wqbvM7"
      }
    },
    {
      "cell_type": "code",
      "source": [
        "numero = float(input(\"Introduzca numero: \"))\n",
        "count_negativo = 0\n",
        "count_positivo = 0\n",
        "\n",
        "while numero != 0:\n",
        "  if numero > 0:\n",
        "    count_positivo += 1\n",
        "    numero = float(input(\"Introduzca numero: \"))\n",
        "  elif numero < 0:\n",
        "    count_negativo += 1\n",
        "    numero = float(input(\"Introduzca numero: \"))\n",
        "\n",
        "else:\n",
        "  print(f\"La cantidad de numero negativos es {count_negativo}\")\n",
        "  print(f\"La cantidad de numero positivos es {count_positivo}\")"
      ],
      "metadata": {
        "colab": {
          "base_uri": "https://localhost:8080/"
        },
        "id": "cRXUr3yTgduI",
        "outputId": "5f0aa399-cd79-47e8-a502-f6e5c931ab5f"
      },
      "execution_count": null,
      "outputs": [
        {
          "output_type": "stream",
          "name": "stdout",
          "text": [
            "Introduzca numero: 20\n",
            "Introduzca numero: -50\n",
            "Introduzca numero: 80\n",
            "Introduzca numero: -8\n",
            "Introduzca numero: 0\n",
            "La cantidad de numero negativos es 2\n",
            "La cantidad de numero positivos es 2\n"
          ]
        }
      ]
    },
    {
      "cell_type": "markdown",
      "source": [
        "Ejercicio 5\n",
        "\n",
        "Haz que el usuario introduzca números por teclado. Mientras el usuario no introduzca el 0, pídele otro número. Cuando el usuario introduzca el 0, muéstrale la media aritmética de los números que ha introducido."
      ],
      "metadata": {
        "id": "OI3T5s7sbzFj"
      }
    },
    {
      "cell_type": "code",
      "source": [
        "numero = float(input(\"Introduzca numero: \"))\n",
        "count = 0\n",
        "suma = 0\n",
        "\n",
        "while numero != 0:\n",
        "    count += 1\n",
        "    suma +=numero\n",
        "    numero = float(input(\"Introduzca numero: \"))\n",
        "\n",
        "else:\n",
        "  print(f\"La media aritmetica de los numero es {suma/count}\")\n"
      ],
      "metadata": {
        "colab": {
          "base_uri": "https://localhost:8080/"
        },
        "id": "xdLs7ImKtmQN",
        "outputId": "461fe474-0ead-4cf9-96bd-7cb4e26bf39d"
      },
      "execution_count": null,
      "outputs": [
        {
          "output_type": "stream",
          "name": "stdout",
          "text": [
            "Introduzca numero: 50\n",
            "Introduzca numero: 89\n",
            "Introduzca numero: 48\n",
            "Introduzca numero: 0\n",
            "La media aritmetica de los numero es 62.333333333333336\n"
          ]
        }
      ]
    },
    {
      "cell_type": "markdown",
      "source": [
        "Ejercicio 6\n",
        "\n",
        "Haz que el usuario introduzca dos números enteros por teclado. El primero será el extremo izquierdo del intervalo y, el segundo, el extremo derecho. Imprime todos los números que se encuentren entre los dos números introducidos por el usuario (los extremos incluidos)."
      ],
      "metadata": {
        "id": "zRrCOyL3b3c0"
      }
    },
    {
      "cell_type": "code",
      "source": [
        "number_left = int(input(\"Introduzca el valor del extremo izquierdo: \"))\n",
        "number_right = int(input(\"Introduzca el valor del extremo derecho: \"))\n",
        "\n",
        "for i in range(number_left,number_right+1):\n",
        "  print(i) \n"
      ],
      "metadata": {
        "colab": {
          "base_uri": "https://localhost:8080/"
        },
        "id": "7PHFe3vJugxj",
        "outputId": "67a0527c-7f3a-44d2-a00f-465109400292"
      },
      "execution_count": null,
      "outputs": [
        {
          "output_type": "stream",
          "name": "stdout",
          "text": [
            "Introduzca el valor del extremo izquierdo: 5\n",
            "Introduzca el valor del extremo derecho: 10\n",
            "5\n",
            "6\n",
            "7\n",
            "8\n",
            "9\n",
            "10\n"
          ]
        }
      ]
    },
    {
      "cell_type": "markdown",
      "source": [
        "Ejercicio 7\n",
        "\n",
        "Haz que el usuario introduzca dos números enteros por teclado. El primero será el extremo izquierdo del intervalo y, el segundo, el extremo derecho. Imprime la suma de todos los múltiplos de 3 que se encuentren entre los dos números introducidos por el usuario (los extremos incluidos). Finalmente, muestra por pantalla el resultado de la suma."
      ],
      "metadata": {
        "id": "4ul7QlXAcHpb"
      }
    },
    {
      "cell_type": "code",
      "source": [
        "number_left = int(input(\"Introduzca el valor del extremo izquierdo del intervalo: \"))\n",
        "number_right = int(input(\"Introduzca el valor del extremo derecho del intervalo: \"))\n",
        "sum = 0\n",
        "\n",
        "if number_left > number_right:\n",
        "  number_left = int(input(\"Introduzca el valor del extremo izquierdo del intervalo: \"))\n",
        "  number_right = int(input(\"Introduzca el valor del extremo derecho del intervalo: \"))\n",
        "\n",
        "for i in range(number_left,number_right+1):\n",
        "  if i % 3 == 0:\n",
        "    sum += i\n",
        "\n",
        "print(f\"La suma de los numeros en el intervalo que son divisibles por 3 es {sum}\") \n"
      ],
      "metadata": {
        "colab": {
          "base_uri": "https://localhost:8080/"
        },
        "id": "RcInrNaev_07",
        "outputId": "d79b16ef-c45d-48f5-d600-b6856b0dd710"
      },
      "execution_count": null,
      "outputs": [
        {
          "output_type": "stream",
          "name": "stdout",
          "text": [
            "Introduzca el valor del extremo izquierdo del intervalo: 20\n",
            "Introduzca el valor del extremo derecho del intervalo: 10\n",
            "Introduzca el valor del extremo izquierdo del intervalo: 10\n",
            "Introduzca el valor del extremo derecho del intervalo: 50\n",
            "La suma de los numeros en el intervalo que son divisibles por 3 es 390\n"
          ]
        }
      ]
    },
    {
      "cell_type": "markdown",
      "source": [
        "Ejercicio 8\n",
        "\n",
        "Pídele al usuario cuántos números va a introducir. Con un bucle for, solicítale esa cantidad de números y calcula su producto."
      ],
      "metadata": {
        "id": "QprblxFrcNuC"
      }
    },
    {
      "cell_type": "code",
      "source": [
        "n = int(input(\"Introduzca cantidad de numeros: \"))\n",
        "product = 1\n",
        "\n",
        "for i in range(n):\n",
        "  number = int(input(f\"Introduzca numero {i+1}: \"))\n",
        "  product*=number\n",
        "\n",
        "print(f\"El producto de los numeros introducidos es {product}\")\n",
        "\n",
        "\n"
      ],
      "metadata": {
        "colab": {
          "base_uri": "https://localhost:8080/"
        },
        "id": "cquoxu7rzSZe",
        "outputId": "abec6c8e-7329-4d54-b3d4-30b16845bbd8"
      },
      "execution_count": null,
      "outputs": [
        {
          "output_type": "stream",
          "name": "stdout",
          "text": [
            "Introduzca cantidad de numeros: 3\n",
            "Introduzca numero 1: 5\n",
            "Introduzca numero 2: 3\n",
            "Introduzca numero 3: 4\n",
            "El producto de los numeros introducidos es 60\n"
          ]
        }
      ]
    },
    {
      "cell_type": "markdown",
      "source": [
        "Ejercicio 9\n",
        "\n",
        "Haz que el usuario introduzca su edad y el año actual. Imprime todos los años que han pasado desde su año de nacimiento hasta el año actual (ambos incluidos)."
      ],
      "metadata": {
        "id": "xZ-lukplcRx1"
      }
    },
    {
      "cell_type": "code",
      "source": [
        "edad = int(input(\"Introduzca su edad actual: \"))\n",
        "año_nacimiento = int(input(\"Introduzca su año de nacimiento: \"))\n",
        "\n",
        "for i in range(año_nacimiento, (edad + año_nacimiento + 1)):\n",
        "  print(i) "
      ],
      "metadata": {
        "colab": {
          "base_uri": "https://localhost:8080/"
        },
        "id": "7ty9-F-TD33o",
        "outputId": "de33392a-0b3a-4c18-98d7-6505518ca38e"
      },
      "execution_count": null,
      "outputs": [
        {
          "output_type": "stream",
          "name": "stdout",
          "text": [
            "Introduzca su edad actual: 32\n",
            "Introduzca su año de nacimiento: 1991\n",
            "1991\n",
            "1992\n",
            "1993\n",
            "1994\n",
            "1995\n",
            "1996\n",
            "1997\n",
            "1998\n",
            "1999\n",
            "2000\n",
            "2001\n",
            "2002\n",
            "2003\n",
            "2004\n",
            "2005\n",
            "2006\n",
            "2007\n",
            "2008\n",
            "2009\n",
            "2010\n",
            "2011\n",
            "2012\n",
            "2013\n",
            "2014\n",
            "2015\n",
            "2016\n",
            "2017\n",
            "2018\n",
            "2019\n",
            "2020\n",
            "2021\n",
            "2022\n",
            "2023\n"
          ]
        }
      ]
    },
    {
      "cell_type": "markdown",
      "source": [
        "Ejercicio 10\n",
        "Haz que el usuario introduzca un número entero. Muestra un cuadrado y luego un triángulo rectángulo de\n",
        "lado y altura, respectivamente, el número entero introducido. Por ejemplo, si el usuario introduce como\n",
        "número 5, se deberá mostrar:\n",
        "\n",
        "* * * * * *\n",
        "* * * * * * *\n",
        "* * * * * * * *\n",
        "* * * * * * * * *\n",
        "* * * * * * * * * *\n"
      ],
      "metadata": {
        "id": "MQvPPIyncXL3"
      }
    },
    {
      "cell_type": "code",
      "source": [
        "numero = int(input(\"Introduzca un numero: \"))\n",
        "caracter = \"*\"\n",
        "\n",
        "for i in range(numero):\n",
        "  print((i+1)*caracter + \" \" + (numero-i)*\" \" + numero*caracter)\n"
      ],
      "metadata": {
        "colab": {
          "base_uri": "https://localhost:8080/"
        },
        "id": "Kf1kPZT-HLSl",
        "outputId": "dcc7f670-bb16-4a68-adaa-2e19f01b235b"
      },
      "execution_count": null,
      "outputs": [
        {
          "output_type": "stream",
          "name": "stdout",
          "text": [
            "Introduzca un numero: 20\n",
            "*                     ********************\n",
            "**                    ********************\n",
            "***                   ********************\n",
            "****                  ********************\n",
            "*****                 ********************\n",
            "******                ********************\n",
            "*******               ********************\n",
            "********              ********************\n",
            "*********             ********************\n",
            "**********            ********************\n",
            "***********           ********************\n",
            "************          ********************\n",
            "*************         ********************\n",
            "**************        ********************\n",
            "***************       ********************\n",
            "****************      ********************\n",
            "*****************     ********************\n",
            "******************    ********************\n",
            "*******************   ********************\n",
            "********************  ********************\n"
          ]
        }
      ]
    }
  ]
}